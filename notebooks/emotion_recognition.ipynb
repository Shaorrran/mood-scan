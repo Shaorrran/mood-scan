{
  "nbformat": 4,
  "nbformat_minor": 0,
  "metadata": {
    "colab": {
      "name": "emotion_recognition.ipynb",
      "provenance": [],
      "collapsed_sections": []
    },
    "kernelspec": {
      "name": "python3",
      "display_name": "Python 3"
    },
    "language_info": {
      "name": "python"
    },
    "widgets": {
      "application/vnd.jupyter.widget-state+json": {
        "96b707bf06c1417daad77cb02c2ea137": {
          "model_module": "@jupyter-widgets/controls",
          "model_name": "HBoxModel",
          "model_module_version": "1.5.0",
          "state": {
            "_dom_classes": [],
            "_model_module": "@jupyter-widgets/controls",
            "_model_module_version": "1.5.0",
            "_model_name": "HBoxModel",
            "_view_count": null,
            "_view_module": "@jupyter-widgets/controls",
            "_view_module_version": "1.5.0",
            "_view_name": "HBoxView",
            "box_style": "",
            "children": [
              "IPY_MODEL_141b22d56223458c9704617e348aa50d",
              "IPY_MODEL_f89dc2b9ac5e40018eef293b2bebad15",
              "IPY_MODEL_c365414ed7454106809cc091948a05e2"
            ],
            "layout": "IPY_MODEL_bc30157859e24eb8b9f9091dcd4590f8"
          }
        },
        "141b22d56223458c9704617e348aa50d": {
          "model_module": "@jupyter-widgets/controls",
          "model_name": "HTMLModel",
          "model_module_version": "1.5.0",
          "state": {
            "_dom_classes": [],
            "_model_module": "@jupyter-widgets/controls",
            "_model_module_version": "1.5.0",
            "_model_name": "HTMLModel",
            "_view_count": null,
            "_view_module": "@jupyter-widgets/controls",
            "_view_module_version": "1.5.0",
            "_view_name": "HTMLView",
            "description": "",
            "description_tooltip": null,
            "layout": "IPY_MODEL_c225c9b9566f4a69ace42a932af9dad3",
            "placeholder": "​",
            "style": "IPY_MODEL_53a03424bd2541fa9e300a329e8ae338",
            "value": "Extracting files: 100%"
          }
        },
        "f89dc2b9ac5e40018eef293b2bebad15": {
          "model_module": "@jupyter-widgets/controls",
          "model_name": "FloatProgressModel",
          "model_module_version": "1.5.0",
          "state": {
            "_dom_classes": [],
            "_model_module": "@jupyter-widgets/controls",
            "_model_module_version": "1.5.0",
            "_model_name": "FloatProgressModel",
            "_view_count": null,
            "_view_module": "@jupyter-widgets/controls",
            "_view_module_version": "1.5.0",
            "_view_name": "ProgressView",
            "bar_style": "success",
            "description": "",
            "description_tooltip": null,
            "layout": "IPY_MODEL_be23a309398146ada21d64a6e24c694c",
            "max": 19,
            "min": 0,
            "orientation": "horizontal",
            "style": "IPY_MODEL_1a914c0cf1b8400888e072c5c3030770",
            "value": 19
          }
        },
        "c365414ed7454106809cc091948a05e2": {
          "model_module": "@jupyter-widgets/controls",
          "model_name": "HTMLModel",
          "model_module_version": "1.5.0",
          "state": {
            "_dom_classes": [],
            "_model_module": "@jupyter-widgets/controls",
            "_model_module_version": "1.5.0",
            "_model_name": "HTMLModel",
            "_view_count": null,
            "_view_module": "@jupyter-widgets/controls",
            "_view_module_version": "1.5.0",
            "_view_name": "HTMLView",
            "description": "",
            "description_tooltip": null,
            "layout": "IPY_MODEL_3301aa9fb8de4811b732a5967842e915",
            "placeholder": "​",
            "style": "IPY_MODEL_43a5040afe52452480c7e418d9ffeee6",
            "value": " 19/19 [00:00&lt;00:00, 46.62files/s]"
          }
        },
        "bc30157859e24eb8b9f9091dcd4590f8": {
          "model_module": "@jupyter-widgets/base",
          "model_name": "LayoutModel",
          "model_module_version": "1.2.0",
          "state": {
            "_model_module": "@jupyter-widgets/base",
            "_model_module_version": "1.2.0",
            "_model_name": "LayoutModel",
            "_view_count": null,
            "_view_module": "@jupyter-widgets/base",
            "_view_module_version": "1.2.0",
            "_view_name": "LayoutView",
            "align_content": null,
            "align_items": null,
            "align_self": null,
            "border": null,
            "bottom": null,
            "display": null,
            "flex": null,
            "flex_flow": null,
            "grid_area": null,
            "grid_auto_columns": null,
            "grid_auto_flow": null,
            "grid_auto_rows": null,
            "grid_column": null,
            "grid_gap": null,
            "grid_row": null,
            "grid_template_areas": null,
            "grid_template_columns": null,
            "grid_template_rows": null,
            "height": null,
            "justify_content": null,
            "justify_items": null,
            "left": null,
            "margin": null,
            "max_height": null,
            "max_width": null,
            "min_height": null,
            "min_width": null,
            "object_fit": null,
            "object_position": null,
            "order": null,
            "overflow": null,
            "overflow_x": null,
            "overflow_y": null,
            "padding": null,
            "right": null,
            "top": null,
            "visibility": null,
            "width": null
          }
        },
        "c225c9b9566f4a69ace42a932af9dad3": {
          "model_module": "@jupyter-widgets/base",
          "model_name": "LayoutModel",
          "model_module_version": "1.2.0",
          "state": {
            "_model_module": "@jupyter-widgets/base",
            "_model_module_version": "1.2.0",
            "_model_name": "LayoutModel",
            "_view_count": null,
            "_view_module": "@jupyter-widgets/base",
            "_view_module_version": "1.2.0",
            "_view_name": "LayoutView",
            "align_content": null,
            "align_items": null,
            "align_self": null,
            "border": null,
            "bottom": null,
            "display": null,
            "flex": null,
            "flex_flow": null,
            "grid_area": null,
            "grid_auto_columns": null,
            "grid_auto_flow": null,
            "grid_auto_rows": null,
            "grid_column": null,
            "grid_gap": null,
            "grid_row": null,
            "grid_template_areas": null,
            "grid_template_columns": null,
            "grid_template_rows": null,
            "height": null,
            "justify_content": null,
            "justify_items": null,
            "left": null,
            "margin": null,
            "max_height": null,
            "max_width": null,
            "min_height": null,
            "min_width": null,
            "object_fit": null,
            "object_position": null,
            "order": null,
            "overflow": null,
            "overflow_x": null,
            "overflow_y": null,
            "padding": null,
            "right": null,
            "top": null,
            "visibility": null,
            "width": null
          }
        },
        "53a03424bd2541fa9e300a329e8ae338": {
          "model_module": "@jupyter-widgets/controls",
          "model_name": "DescriptionStyleModel",
          "model_module_version": "1.5.0",
          "state": {
            "_model_module": "@jupyter-widgets/controls",
            "_model_module_version": "1.5.0",
            "_model_name": "DescriptionStyleModel",
            "_view_count": null,
            "_view_module": "@jupyter-widgets/base",
            "_view_module_version": "1.2.0",
            "_view_name": "StyleView",
            "description_width": ""
          }
        },
        "be23a309398146ada21d64a6e24c694c": {
          "model_module": "@jupyter-widgets/base",
          "model_name": "LayoutModel",
          "model_module_version": "1.2.0",
          "state": {
            "_model_module": "@jupyter-widgets/base",
            "_model_module_version": "1.2.0",
            "_model_name": "LayoutModel",
            "_view_count": null,
            "_view_module": "@jupyter-widgets/base",
            "_view_module_version": "1.2.0",
            "_view_name": "LayoutView",
            "align_content": null,
            "align_items": null,
            "align_self": null,
            "border": null,
            "bottom": null,
            "display": null,
            "flex": null,
            "flex_flow": null,
            "grid_area": null,
            "grid_auto_columns": null,
            "grid_auto_flow": null,
            "grid_auto_rows": null,
            "grid_column": null,
            "grid_gap": null,
            "grid_row": null,
            "grid_template_areas": null,
            "grid_template_columns": null,
            "grid_template_rows": null,
            "height": null,
            "justify_content": null,
            "justify_items": null,
            "left": null,
            "margin": null,
            "max_height": null,
            "max_width": null,
            "min_height": null,
            "min_width": null,
            "object_fit": null,
            "object_position": null,
            "order": null,
            "overflow": null,
            "overflow_x": null,
            "overflow_y": null,
            "padding": null,
            "right": null,
            "top": null,
            "visibility": null,
            "width": null
          }
        },
        "1a914c0cf1b8400888e072c5c3030770": {
          "model_module": "@jupyter-widgets/controls",
          "model_name": "ProgressStyleModel",
          "model_module_version": "1.5.0",
          "state": {
            "_model_module": "@jupyter-widgets/controls",
            "_model_module_version": "1.5.0",
            "_model_name": "ProgressStyleModel",
            "_view_count": null,
            "_view_module": "@jupyter-widgets/base",
            "_view_module_version": "1.2.0",
            "_view_name": "StyleView",
            "bar_color": null,
            "description_width": ""
          }
        },
        "3301aa9fb8de4811b732a5967842e915": {
          "model_module": "@jupyter-widgets/base",
          "model_name": "LayoutModel",
          "model_module_version": "1.2.0",
          "state": {
            "_model_module": "@jupyter-widgets/base",
            "_model_module_version": "1.2.0",
            "_model_name": "LayoutModel",
            "_view_count": null,
            "_view_module": "@jupyter-widgets/base",
            "_view_module_version": "1.2.0",
            "_view_name": "LayoutView",
            "align_content": null,
            "align_items": null,
            "align_self": null,
            "border": null,
            "bottom": null,
            "display": null,
            "flex": null,
            "flex_flow": null,
            "grid_area": null,
            "grid_auto_columns": null,
            "grid_auto_flow": null,
            "grid_auto_rows": null,
            "grid_column": null,
            "grid_gap": null,
            "grid_row": null,
            "grid_template_areas": null,
            "grid_template_columns": null,
            "grid_template_rows": null,
            "height": null,
            "justify_content": null,
            "justify_items": null,
            "left": null,
            "margin": null,
            "max_height": null,
            "max_width": null,
            "min_height": null,
            "min_width": null,
            "object_fit": null,
            "object_position": null,
            "order": null,
            "overflow": null,
            "overflow_x": null,
            "overflow_y": null,
            "padding": null,
            "right": null,
            "top": null,
            "visibility": null,
            "width": null
          }
        },
        "43a5040afe52452480c7e418d9ffeee6": {
          "model_module": "@jupyter-widgets/controls",
          "model_name": "DescriptionStyleModel",
          "model_module_version": "1.5.0",
          "state": {
            "_model_module": "@jupyter-widgets/controls",
            "_model_module_version": "1.5.0",
            "_model_name": "DescriptionStyleModel",
            "_view_count": null,
            "_view_module": "@jupyter-widgets/base",
            "_view_module_version": "1.2.0",
            "_view_name": "StyleView",
            "description_width": ""
          }
        },
        "1b8b50ddbea0456aaf33921664abcd54": {
          "model_module": "@jupyter-widgets/controls",
          "model_name": "HBoxModel",
          "model_module_version": "1.5.0",
          "state": {
            "_dom_classes": [],
            "_model_module": "@jupyter-widgets/controls",
            "_model_module_version": "1.5.0",
            "_model_name": "HBoxModel",
            "_view_count": null,
            "_view_module": "@jupyter-widgets/controls",
            "_view_module_version": "1.5.0",
            "_view_name": "HBoxView",
            "box_style": "",
            "children": [
              "IPY_MODEL_ff9bbc10f0574c8aa6a89c1f38987c20",
              "IPY_MODEL_d40e9be3b21b4635b686e254d0bff81e",
              "IPY_MODEL_2c8a0f6bc8024198a0179ff533d0278c"
            ],
            "layout": "IPY_MODEL_ddba8c3ce2cb48e4aeb7f4deee8e5b2b"
          }
        },
        "ff9bbc10f0574c8aa6a89c1f38987c20": {
          "model_module": "@jupyter-widgets/controls",
          "model_name": "HTMLModel",
          "model_module_version": "1.5.0",
          "state": {
            "_dom_classes": [],
            "_model_module": "@jupyter-widgets/controls",
            "_model_module_version": "1.5.0",
            "_model_name": "HTMLModel",
            "_view_count": null,
            "_view_module": "@jupyter-widgets/controls",
            "_view_module_version": "1.5.0",
            "_view_name": "HTMLView",
            "description": "",
            "description_tooltip": null,
            "layout": "IPY_MODEL_6fccaf1ae6204b3d8efc01ea26c307de",
            "placeholder": "​",
            "style": "IPY_MODEL_486985f91c4b496a932dff3b1e4950d5",
            "value": "Converting annotations: 100%"
          }
        },
        "d40e9be3b21b4635b686e254d0bff81e": {
          "model_module": "@jupyter-widgets/controls",
          "model_name": "FloatProgressModel",
          "model_module_version": "1.5.0",
          "state": {
            "_dom_classes": [],
            "_model_module": "@jupyter-widgets/controls",
            "_model_module_version": "1.5.0",
            "_model_name": "FloatProgressModel",
            "_view_count": null,
            "_view_module": "@jupyter-widgets/controls",
            "_view_module_version": "1.5.0",
            "_view_name": "ProgressView",
            "bar_style": "success",
            "description": "",
            "description_tooltip": null,
            "layout": "IPY_MODEL_582f9eb3bd254f0b9fe4c2afe49f6885",
            "max": 17077,
            "min": 0,
            "orientation": "horizontal",
            "style": "IPY_MODEL_0934242e91fc4cd4996002b616a33afe",
            "value": 17077
          }
        },
        "2c8a0f6bc8024198a0179ff533d0278c": {
          "model_module": "@jupyter-widgets/controls",
          "model_name": "HTMLModel",
          "model_module_version": "1.5.0",
          "state": {
            "_dom_classes": [],
            "_model_module": "@jupyter-widgets/controls",
            "_model_module_version": "1.5.0",
            "_model_name": "HTMLModel",
            "_view_count": null,
            "_view_module": "@jupyter-widgets/controls",
            "_view_module_version": "1.5.0",
            "_view_name": "HTMLView",
            "description": "",
            "description_tooltip": null,
            "layout": "IPY_MODEL_8fde3bb2838b4134b2ad37c8748d3c8a",
            "placeholder": "​",
            "style": "IPY_MODEL_8c9b84da14404fd0b3705989b5f8e5f3",
            "value": " 17077/17077 [00:06&lt;00:00, 3526.59files/s]"
          }
        },
        "ddba8c3ce2cb48e4aeb7f4deee8e5b2b": {
          "model_module": "@jupyter-widgets/base",
          "model_name": "LayoutModel",
          "model_module_version": "1.2.0",
          "state": {
            "_model_module": "@jupyter-widgets/base",
            "_model_module_version": "1.2.0",
            "_model_name": "LayoutModel",
            "_view_count": null,
            "_view_module": "@jupyter-widgets/base",
            "_view_module_version": "1.2.0",
            "_view_name": "LayoutView",
            "align_content": null,
            "align_items": null,
            "align_self": null,
            "border": null,
            "bottom": null,
            "display": null,
            "flex": null,
            "flex_flow": null,
            "grid_area": null,
            "grid_auto_columns": null,
            "grid_auto_flow": null,
            "grid_auto_rows": null,
            "grid_column": null,
            "grid_gap": null,
            "grid_row": null,
            "grid_template_areas": null,
            "grid_template_columns": null,
            "grid_template_rows": null,
            "height": null,
            "justify_content": null,
            "justify_items": null,
            "left": null,
            "margin": null,
            "max_height": null,
            "max_width": null,
            "min_height": null,
            "min_width": null,
            "object_fit": null,
            "object_position": null,
            "order": null,
            "overflow": null,
            "overflow_x": null,
            "overflow_y": null,
            "padding": null,
            "right": null,
            "top": null,
            "visibility": null,
            "width": null
          }
        },
        "6fccaf1ae6204b3d8efc01ea26c307de": {
          "model_module": "@jupyter-widgets/base",
          "model_name": "LayoutModel",
          "model_module_version": "1.2.0",
          "state": {
            "_model_module": "@jupyter-widgets/base",
            "_model_module_version": "1.2.0",
            "_model_name": "LayoutModel",
            "_view_count": null,
            "_view_module": "@jupyter-widgets/base",
            "_view_module_version": "1.2.0",
            "_view_name": "LayoutView",
            "align_content": null,
            "align_items": null,
            "align_self": null,
            "border": null,
            "bottom": null,
            "display": null,
            "flex": null,
            "flex_flow": null,
            "grid_area": null,
            "grid_auto_columns": null,
            "grid_auto_flow": null,
            "grid_auto_rows": null,
            "grid_column": null,
            "grid_gap": null,
            "grid_row": null,
            "grid_template_areas": null,
            "grid_template_columns": null,
            "grid_template_rows": null,
            "height": null,
            "justify_content": null,
            "justify_items": null,
            "left": null,
            "margin": null,
            "max_height": null,
            "max_width": null,
            "min_height": null,
            "min_width": null,
            "object_fit": null,
            "object_position": null,
            "order": null,
            "overflow": null,
            "overflow_x": null,
            "overflow_y": null,
            "padding": null,
            "right": null,
            "top": null,
            "visibility": null,
            "width": null
          }
        },
        "486985f91c4b496a932dff3b1e4950d5": {
          "model_module": "@jupyter-widgets/controls",
          "model_name": "DescriptionStyleModel",
          "model_module_version": "1.5.0",
          "state": {
            "_model_module": "@jupyter-widgets/controls",
            "_model_module_version": "1.5.0",
            "_model_name": "DescriptionStyleModel",
            "_view_count": null,
            "_view_module": "@jupyter-widgets/base",
            "_view_module_version": "1.2.0",
            "_view_name": "StyleView",
            "description_width": ""
          }
        },
        "582f9eb3bd254f0b9fe4c2afe49f6885": {
          "model_module": "@jupyter-widgets/base",
          "model_name": "LayoutModel",
          "model_module_version": "1.2.0",
          "state": {
            "_model_module": "@jupyter-widgets/base",
            "_model_module_version": "1.2.0",
            "_model_name": "LayoutModel",
            "_view_count": null,
            "_view_module": "@jupyter-widgets/base",
            "_view_module_version": "1.2.0",
            "_view_name": "LayoutView",
            "align_content": null,
            "align_items": null,
            "align_self": null,
            "border": null,
            "bottom": null,
            "display": null,
            "flex": null,
            "flex_flow": null,
            "grid_area": null,
            "grid_auto_columns": null,
            "grid_auto_flow": null,
            "grid_auto_rows": null,
            "grid_column": null,
            "grid_gap": null,
            "grid_row": null,
            "grid_template_areas": null,
            "grid_template_columns": null,
            "grid_template_rows": null,
            "height": null,
            "justify_content": null,
            "justify_items": null,
            "left": null,
            "margin": null,
            "max_height": null,
            "max_width": null,
            "min_height": null,
            "min_width": null,
            "object_fit": null,
            "object_position": null,
            "order": null,
            "overflow": null,
            "overflow_x": null,
            "overflow_y": null,
            "padding": null,
            "right": null,
            "top": null,
            "visibility": null,
            "width": null
          }
        },
        "0934242e91fc4cd4996002b616a33afe": {
          "model_module": "@jupyter-widgets/controls",
          "model_name": "ProgressStyleModel",
          "model_module_version": "1.5.0",
          "state": {
            "_model_module": "@jupyter-widgets/controls",
            "_model_module_version": "1.5.0",
            "_model_name": "ProgressStyleModel",
            "_view_count": null,
            "_view_module": "@jupyter-widgets/base",
            "_view_module_version": "1.2.0",
            "_view_name": "StyleView",
            "bar_color": null,
            "description_width": ""
          }
        },
        "8fde3bb2838b4134b2ad37c8748d3c8a": {
          "model_module": "@jupyter-widgets/base",
          "model_name": "LayoutModel",
          "model_module_version": "1.2.0",
          "state": {
            "_model_module": "@jupyter-widgets/base",
            "_model_module_version": "1.2.0",
            "_model_name": "LayoutModel",
            "_view_count": null,
            "_view_module": "@jupyter-widgets/base",
            "_view_module_version": "1.2.0",
            "_view_name": "LayoutView",
            "align_content": null,
            "align_items": null,
            "align_self": null,
            "border": null,
            "bottom": null,
            "display": null,
            "flex": null,
            "flex_flow": null,
            "grid_area": null,
            "grid_auto_columns": null,
            "grid_auto_flow": null,
            "grid_auto_rows": null,
            "grid_column": null,
            "grid_gap": null,
            "grid_row": null,
            "grid_template_areas": null,
            "grid_template_columns": null,
            "grid_template_rows": null,
            "height": null,
            "justify_content": null,
            "justify_items": null,
            "left": null,
            "margin": null,
            "max_height": null,
            "max_width": null,
            "min_height": null,
            "min_width": null,
            "object_fit": null,
            "object_position": null,
            "order": null,
            "overflow": null,
            "overflow_x": null,
            "overflow_y": null,
            "padding": null,
            "right": null,
            "top": null,
            "visibility": null,
            "width": null
          }
        },
        "8c9b84da14404fd0b3705989b5f8e5f3": {
          "model_module": "@jupyter-widgets/controls",
          "model_name": "DescriptionStyleModel",
          "model_module_version": "1.5.0",
          "state": {
            "_model_module": "@jupyter-widgets/controls",
            "_model_module_version": "1.5.0",
            "_model_name": "DescriptionStyleModel",
            "_view_count": null,
            "_view_module": "@jupyter-widgets/base",
            "_view_module_version": "1.2.0",
            "_view_name": "StyleView",
            "description_width": ""
          }
        },
        "8f49cfa8701d4575b7f590b95f64ae5f": {
          "model_module": "@jupyter-widgets/controls",
          "model_name": "HBoxModel",
          "model_module_version": "1.5.0",
          "state": {
            "_dom_classes": [],
            "_model_module": "@jupyter-widgets/controls",
            "_model_module_version": "1.5.0",
            "_model_name": "HBoxModel",
            "_view_count": null,
            "_view_module": "@jupyter-widgets/controls",
            "_view_module_version": "1.5.0",
            "_view_name": "HBoxView",
            "box_style": "",
            "children": [
              "IPY_MODEL_d06405136a4a4dbf9c47840315056490",
              "IPY_MODEL_106f92f377364dc5a957844816a56d9c",
              "IPY_MODEL_6835a229d3c14cd28ff636e52f1e1180"
            ],
            "layout": "IPY_MODEL_1c8ad47132ad47e586e6c5ab980817eb"
          }
        },
        "d06405136a4a4dbf9c47840315056490": {
          "model_module": "@jupyter-widgets/controls",
          "model_name": "HTMLModel",
          "model_module_version": "1.5.0",
          "state": {
            "_dom_classes": [],
            "_model_module": "@jupyter-widgets/controls",
            "_model_module_version": "1.5.0",
            "_model_name": "HTMLModel",
            "_view_count": null,
            "_view_module": "@jupyter-widgets/controls",
            "_view_module_version": "1.5.0",
            "_view_name": "HTMLView",
            "description": "",
            "description_tooltip": null,
            "layout": "IPY_MODEL_8355babab31240bd90d14a5e76a33d2e",
            "placeholder": "​",
            "style": "IPY_MODEL_0cd5861c787b482a86cc1da878a74a67",
            "value": "Extracting files: 100%"
          }
        },
        "106f92f377364dc5a957844816a56d9c": {
          "model_module": "@jupyter-widgets/controls",
          "model_name": "FloatProgressModel",
          "model_module_version": "1.5.0",
          "state": {
            "_dom_classes": [],
            "_model_module": "@jupyter-widgets/controls",
            "_model_module_version": "1.5.0",
            "_model_name": "FloatProgressModel",
            "_view_count": null,
            "_view_module": "@jupyter-widgets/controls",
            "_view_module_version": "1.5.0",
            "_view_name": "ProgressView",
            "bar_style": "success",
            "description": "",
            "description_tooltip": null,
            "layout": "IPY_MODEL_b8a4ef68ea8f4cdc984f39e9551f011a",
            "max": 23198,
            "min": 0,
            "orientation": "horizontal",
            "style": "IPY_MODEL_9869f945267a410a82bac5a08c98d049",
            "value": 23198
          }
        },
        "6835a229d3c14cd28ff636e52f1e1180": {
          "model_module": "@jupyter-widgets/controls",
          "model_name": "HTMLModel",
          "model_module_version": "1.5.0",
          "state": {
            "_dom_classes": [],
            "_model_module": "@jupyter-widgets/controls",
            "_model_module_version": "1.5.0",
            "_model_name": "HTMLModel",
            "_view_count": null,
            "_view_module": "@jupyter-widgets/controls",
            "_view_module_version": "1.5.0",
            "_view_name": "HTMLView",
            "description": "",
            "description_tooltip": null,
            "layout": "IPY_MODEL_f8a9ca616c4c4afcba387c26f1e02b15",
            "placeholder": "​",
            "style": "IPY_MODEL_906c38feb43c4e8696a04f5c55fdea79",
            "value": " 23198/23198 [00:34&lt;00:00, 341.39files/s]"
          }
        },
        "1c8ad47132ad47e586e6c5ab980817eb": {
          "model_module": "@jupyter-widgets/base",
          "model_name": "LayoutModel",
          "model_module_version": "1.2.0",
          "state": {
            "_model_module": "@jupyter-widgets/base",
            "_model_module_version": "1.2.0",
            "_model_name": "LayoutModel",
            "_view_count": null,
            "_view_module": "@jupyter-widgets/base",
            "_view_module_version": "1.2.0",
            "_view_name": "LayoutView",
            "align_content": null,
            "align_items": null,
            "align_self": null,
            "border": null,
            "bottom": null,
            "display": null,
            "flex": null,
            "flex_flow": null,
            "grid_area": null,
            "grid_auto_columns": null,
            "grid_auto_flow": null,
            "grid_auto_rows": null,
            "grid_column": null,
            "grid_gap": null,
            "grid_row": null,
            "grid_template_areas": null,
            "grid_template_columns": null,
            "grid_template_rows": null,
            "height": null,
            "justify_content": null,
            "justify_items": null,
            "left": null,
            "margin": null,
            "max_height": null,
            "max_width": null,
            "min_height": null,
            "min_width": null,
            "object_fit": null,
            "object_position": null,
            "order": null,
            "overflow": null,
            "overflow_x": null,
            "overflow_y": null,
            "padding": null,
            "right": null,
            "top": null,
            "visibility": null,
            "width": null
          }
        },
        "8355babab31240bd90d14a5e76a33d2e": {
          "model_module": "@jupyter-widgets/base",
          "model_name": "LayoutModel",
          "model_module_version": "1.2.0",
          "state": {
            "_model_module": "@jupyter-widgets/base",
            "_model_module_version": "1.2.0",
            "_model_name": "LayoutModel",
            "_view_count": null,
            "_view_module": "@jupyter-widgets/base",
            "_view_module_version": "1.2.0",
            "_view_name": "LayoutView",
            "align_content": null,
            "align_items": null,
            "align_self": null,
            "border": null,
            "bottom": null,
            "display": null,
            "flex": null,
            "flex_flow": null,
            "grid_area": null,
            "grid_auto_columns": null,
            "grid_auto_flow": null,
            "grid_auto_rows": null,
            "grid_column": null,
            "grid_gap": null,
            "grid_row": null,
            "grid_template_areas": null,
            "grid_template_columns": null,
            "grid_template_rows": null,
            "height": null,
            "justify_content": null,
            "justify_items": null,
            "left": null,
            "margin": null,
            "max_height": null,
            "max_width": null,
            "min_height": null,
            "min_width": null,
            "object_fit": null,
            "object_position": null,
            "order": null,
            "overflow": null,
            "overflow_x": null,
            "overflow_y": null,
            "padding": null,
            "right": null,
            "top": null,
            "visibility": null,
            "width": null
          }
        },
        "0cd5861c787b482a86cc1da878a74a67": {
          "model_module": "@jupyter-widgets/controls",
          "model_name": "DescriptionStyleModel",
          "model_module_version": "1.5.0",
          "state": {
            "_model_module": "@jupyter-widgets/controls",
            "_model_module_version": "1.5.0",
            "_model_name": "DescriptionStyleModel",
            "_view_count": null,
            "_view_module": "@jupyter-widgets/base",
            "_view_module_version": "1.2.0",
            "_view_name": "StyleView",
            "description_width": ""
          }
        },
        "b8a4ef68ea8f4cdc984f39e9551f011a": {
          "model_module": "@jupyter-widgets/base",
          "model_name": "LayoutModel",
          "model_module_version": "1.2.0",
          "state": {
            "_model_module": "@jupyter-widgets/base",
            "_model_module_version": "1.2.0",
            "_model_name": "LayoutModel",
            "_view_count": null,
            "_view_module": "@jupyter-widgets/base",
            "_view_module_version": "1.2.0",
            "_view_name": "LayoutView",
            "align_content": null,
            "align_items": null,
            "align_self": null,
            "border": null,
            "bottom": null,
            "display": null,
            "flex": null,
            "flex_flow": null,
            "grid_area": null,
            "grid_auto_columns": null,
            "grid_auto_flow": null,
            "grid_auto_rows": null,
            "grid_column": null,
            "grid_gap": null,
            "grid_row": null,
            "grid_template_areas": null,
            "grid_template_columns": null,
            "grid_template_rows": null,
            "height": null,
            "justify_content": null,
            "justify_items": null,
            "left": null,
            "margin": null,
            "max_height": null,
            "max_width": null,
            "min_height": null,
            "min_width": null,
            "object_fit": null,
            "object_position": null,
            "order": null,
            "overflow": null,
            "overflow_x": null,
            "overflow_y": null,
            "padding": null,
            "right": null,
            "top": null,
            "visibility": null,
            "width": null
          }
        },
        "9869f945267a410a82bac5a08c98d049": {
          "model_module": "@jupyter-widgets/controls",
          "model_name": "ProgressStyleModel",
          "model_module_version": "1.5.0",
          "state": {
            "_model_module": "@jupyter-widgets/controls",
            "_model_module_version": "1.5.0",
            "_model_name": "ProgressStyleModel",
            "_view_count": null,
            "_view_module": "@jupyter-widgets/base",
            "_view_module_version": "1.2.0",
            "_view_name": "StyleView",
            "bar_color": null,
            "description_width": ""
          }
        },
        "f8a9ca616c4c4afcba387c26f1e02b15": {
          "model_module": "@jupyter-widgets/base",
          "model_name": "LayoutModel",
          "model_module_version": "1.2.0",
          "state": {
            "_model_module": "@jupyter-widgets/base",
            "_model_module_version": "1.2.0",
            "_model_name": "LayoutModel",
            "_view_count": null,
            "_view_module": "@jupyter-widgets/base",
            "_view_module_version": "1.2.0",
            "_view_name": "LayoutView",
            "align_content": null,
            "align_items": null,
            "align_self": null,
            "border": null,
            "bottom": null,
            "display": null,
            "flex": null,
            "flex_flow": null,
            "grid_area": null,
            "grid_auto_columns": null,
            "grid_auto_flow": null,
            "grid_auto_rows": null,
            "grid_column": null,
            "grid_gap": null,
            "grid_row": null,
            "grid_template_areas": null,
            "grid_template_columns": null,
            "grid_template_rows": null,
            "height": null,
            "justify_content": null,
            "justify_items": null,
            "left": null,
            "margin": null,
            "max_height": null,
            "max_width": null,
            "min_height": null,
            "min_width": null,
            "object_fit": null,
            "object_position": null,
            "order": null,
            "overflow": null,
            "overflow_x": null,
            "overflow_y": null,
            "padding": null,
            "right": null,
            "top": null,
            "visibility": null,
            "width": null
          }
        },
        "906c38feb43c4e8696a04f5c55fdea79": {
          "model_module": "@jupyter-widgets/controls",
          "model_name": "DescriptionStyleModel",
          "model_module_version": "1.5.0",
          "state": {
            "_model_module": "@jupyter-widgets/controls",
            "_model_module_version": "1.5.0",
            "_model_name": "DescriptionStyleModel",
            "_view_count": null,
            "_view_module": "@jupyter-widgets/base",
            "_view_module_version": "1.2.0",
            "_view_name": "StyleView",
            "description_width": ""
          }
        },
        "cfc39597a30e4064abb1112e7b5c3c1c": {
          "model_module": "@jupyter-widgets/controls",
          "model_name": "HBoxModel",
          "model_module_version": "1.5.0",
          "state": {
            "_dom_classes": [],
            "_model_module": "@jupyter-widgets/controls",
            "_model_module_version": "1.5.0",
            "_model_name": "HBoxModel",
            "_view_count": null,
            "_view_module": "@jupyter-widgets/controls",
            "_view_module_version": "1.5.0",
            "_view_name": "HBoxView",
            "box_style": "",
            "children": [
              "IPY_MODEL_e0b60946412a4224b783e4be1e22370c",
              "IPY_MODEL_c2a3c94935694c4dbc42783c5cc40a24",
              "IPY_MODEL_1ef686cb19e6456da8c848230be60f22"
            ],
            "layout": "IPY_MODEL_bbb703d6305641329ecd45915e325340"
          }
        },
        "e0b60946412a4224b783e4be1e22370c": {
          "model_module": "@jupyter-widgets/controls",
          "model_name": "HTMLModel",
          "model_module_version": "1.5.0",
          "state": {
            "_dom_classes": [],
            "_model_module": "@jupyter-widgets/controls",
            "_model_module_version": "1.5.0",
            "_model_name": "HTMLModel",
            "_view_count": null,
            "_view_module": "@jupyter-widgets/controls",
            "_view_module_version": "1.5.0",
            "_view_name": "HTMLView",
            "description": "",
            "description_tooltip": null,
            "layout": "IPY_MODEL_a3b88ef35c824dd1b555b2a5a35a03c8",
            "placeholder": "​",
            "style": "IPY_MODEL_3a4e200f6c9242c2917cb377a83a1413",
            "value": "100%"
          }
        },
        "c2a3c94935694c4dbc42783c5cc40a24": {
          "model_module": "@jupyter-widgets/controls",
          "model_name": "FloatProgressModel",
          "model_module_version": "1.5.0",
          "state": {
            "_dom_classes": [],
            "_model_module": "@jupyter-widgets/controls",
            "_model_module_version": "1.5.0",
            "_model_name": "FloatProgressModel",
            "_view_count": null,
            "_view_module": "@jupyter-widgets/controls",
            "_view_module_version": "1.5.0",
            "_view_name": "ProgressView",
            "bar_style": "success",
            "description": "",
            "description_tooltip": null,
            "layout": "IPY_MODEL_1c5a7fccb2b240f7ad94220315b8cf1f",
            "max": 10306551,
            "min": 0,
            "orientation": "horizontal",
            "style": "IPY_MODEL_bda15f3681934154af714650ca8806ad",
            "value": 10306551
          }
        },
        "1ef686cb19e6456da8c848230be60f22": {
          "model_module": "@jupyter-widgets/controls",
          "model_name": "HTMLModel",
          "model_module_version": "1.5.0",
          "state": {
            "_dom_classes": [],
            "_model_module": "@jupyter-widgets/controls",
            "_model_module_version": "1.5.0",
            "_model_name": "HTMLModel",
            "_view_count": null,
            "_view_module": "@jupyter-widgets/controls",
            "_view_module_version": "1.5.0",
            "_view_name": "HTMLView",
            "description": "",
            "description_tooltip": null,
            "layout": "IPY_MODEL_451b7938a32a454a886e9c1cfdbdf50d",
            "placeholder": "​",
            "style": "IPY_MODEL_1ab39b28a8d64b609c628d974e203469",
            "value": " 9.83M/9.83M [00:00&lt;00:00, 53.4MB/s]"
          }
        },
        "bbb703d6305641329ecd45915e325340": {
          "model_module": "@jupyter-widgets/base",
          "model_name": "LayoutModel",
          "model_module_version": "1.2.0",
          "state": {
            "_model_module": "@jupyter-widgets/base",
            "_model_module_version": "1.2.0",
            "_model_name": "LayoutModel",
            "_view_count": null,
            "_view_module": "@jupyter-widgets/base",
            "_view_module_version": "1.2.0",
            "_view_name": "LayoutView",
            "align_content": null,
            "align_items": null,
            "align_self": null,
            "border": null,
            "bottom": null,
            "display": null,
            "flex": null,
            "flex_flow": null,
            "grid_area": null,
            "grid_auto_columns": null,
            "grid_auto_flow": null,
            "grid_auto_rows": null,
            "grid_column": null,
            "grid_gap": null,
            "grid_row": null,
            "grid_template_areas": null,
            "grid_template_columns": null,
            "grid_template_rows": null,
            "height": null,
            "justify_content": null,
            "justify_items": null,
            "left": null,
            "margin": null,
            "max_height": null,
            "max_width": null,
            "min_height": null,
            "min_width": null,
            "object_fit": null,
            "object_position": null,
            "order": null,
            "overflow": null,
            "overflow_x": null,
            "overflow_y": null,
            "padding": null,
            "right": null,
            "top": null,
            "visibility": null,
            "width": null
          }
        },
        "a3b88ef35c824dd1b555b2a5a35a03c8": {
          "model_module": "@jupyter-widgets/base",
          "model_name": "LayoutModel",
          "model_module_version": "1.2.0",
          "state": {
            "_model_module": "@jupyter-widgets/base",
            "_model_module_version": "1.2.0",
            "_model_name": "LayoutModel",
            "_view_count": null,
            "_view_module": "@jupyter-widgets/base",
            "_view_module_version": "1.2.0",
            "_view_name": "LayoutView",
            "align_content": null,
            "align_items": null,
            "align_self": null,
            "border": null,
            "bottom": null,
            "display": null,
            "flex": null,
            "flex_flow": null,
            "grid_area": null,
            "grid_auto_columns": null,
            "grid_auto_flow": null,
            "grid_auto_rows": null,
            "grid_column": null,
            "grid_gap": null,
            "grid_row": null,
            "grid_template_areas": null,
            "grid_template_columns": null,
            "grid_template_rows": null,
            "height": null,
            "justify_content": null,
            "justify_items": null,
            "left": null,
            "margin": null,
            "max_height": null,
            "max_width": null,
            "min_height": null,
            "min_width": null,
            "object_fit": null,
            "object_position": null,
            "order": null,
            "overflow": null,
            "overflow_x": null,
            "overflow_y": null,
            "padding": null,
            "right": null,
            "top": null,
            "visibility": null,
            "width": null
          }
        },
        "3a4e200f6c9242c2917cb377a83a1413": {
          "model_module": "@jupyter-widgets/controls",
          "model_name": "DescriptionStyleModel",
          "model_module_version": "1.5.0",
          "state": {
            "_model_module": "@jupyter-widgets/controls",
            "_model_module_version": "1.5.0",
            "_model_name": "DescriptionStyleModel",
            "_view_count": null,
            "_view_module": "@jupyter-widgets/base",
            "_view_module_version": "1.2.0",
            "_view_name": "StyleView",
            "description_width": ""
          }
        },
        "1c5a7fccb2b240f7ad94220315b8cf1f": {
          "model_module": "@jupyter-widgets/base",
          "model_name": "LayoutModel",
          "model_module_version": "1.2.0",
          "state": {
            "_model_module": "@jupyter-widgets/base",
            "_model_module_version": "1.2.0",
            "_model_name": "LayoutModel",
            "_view_count": null,
            "_view_module": "@jupyter-widgets/base",
            "_view_module_version": "1.2.0",
            "_view_name": "LayoutView",
            "align_content": null,
            "align_items": null,
            "align_self": null,
            "border": null,
            "bottom": null,
            "display": null,
            "flex": null,
            "flex_flow": null,
            "grid_area": null,
            "grid_auto_columns": null,
            "grid_auto_flow": null,
            "grid_auto_rows": null,
            "grid_column": null,
            "grid_gap": null,
            "grid_row": null,
            "grid_template_areas": null,
            "grid_template_columns": null,
            "grid_template_rows": null,
            "height": null,
            "justify_content": null,
            "justify_items": null,
            "left": null,
            "margin": null,
            "max_height": null,
            "max_width": null,
            "min_height": null,
            "min_width": null,
            "object_fit": null,
            "object_position": null,
            "order": null,
            "overflow": null,
            "overflow_x": null,
            "overflow_y": null,
            "padding": null,
            "right": null,
            "top": null,
            "visibility": null,
            "width": null
          }
        },
        "bda15f3681934154af714650ca8806ad": {
          "model_module": "@jupyter-widgets/controls",
          "model_name": "ProgressStyleModel",
          "model_module_version": "1.5.0",
          "state": {
            "_model_module": "@jupyter-widgets/controls",
            "_model_module_version": "1.5.0",
            "_model_name": "ProgressStyleModel",
            "_view_count": null,
            "_view_module": "@jupyter-widgets/base",
            "_view_module_version": "1.2.0",
            "_view_name": "StyleView",
            "bar_color": null,
            "description_width": ""
          }
        },
        "451b7938a32a454a886e9c1cfdbdf50d": {
          "model_module": "@jupyter-widgets/base",
          "model_name": "LayoutModel",
          "model_module_version": "1.2.0",
          "state": {
            "_model_module": "@jupyter-widgets/base",
            "_model_module_version": "1.2.0",
            "_model_name": "LayoutModel",
            "_view_count": null,
            "_view_module": "@jupyter-widgets/base",
            "_view_module_version": "1.2.0",
            "_view_name": "LayoutView",
            "align_content": null,
            "align_items": null,
            "align_self": null,
            "border": null,
            "bottom": null,
            "display": null,
            "flex": null,
            "flex_flow": null,
            "grid_area": null,
            "grid_auto_columns": null,
            "grid_auto_flow": null,
            "grid_auto_rows": null,
            "grid_column": null,
            "grid_gap": null,
            "grid_row": null,
            "grid_template_areas": null,
            "grid_template_columns": null,
            "grid_template_rows": null,
            "height": null,
            "justify_content": null,
            "justify_items": null,
            "left": null,
            "margin": null,
            "max_height": null,
            "max_width": null,
            "min_height": null,
            "min_width": null,
            "object_fit": null,
            "object_position": null,
            "order": null,
            "overflow": null,
            "overflow_x": null,
            "overflow_y": null,
            "padding": null,
            "right": null,
            "top": null,
            "visibility": null,
            "width": null
          }
        },
        "1ab39b28a8d64b609c628d974e203469": {
          "model_module": "@jupyter-widgets/controls",
          "model_name": "DescriptionStyleModel",
          "model_module_version": "1.5.0",
          "state": {
            "_model_module": "@jupyter-widgets/controls",
            "_model_module_version": "1.5.0",
            "_model_name": "DescriptionStyleModel",
            "_view_count": null,
            "_view_module": "@jupyter-widgets/base",
            "_view_module_version": "1.2.0",
            "_view_name": "StyleView",
            "description_width": ""
          }
        },
        "06b5941a51c8463cb3a7ca90a631e351": {
          "model_module": "@jupyter-widgets/controls",
          "model_name": "HBoxModel",
          "model_module_version": "1.5.0",
          "state": {
            "_dom_classes": [],
            "_model_module": "@jupyter-widgets/controls",
            "_model_module_version": "1.5.0",
            "_model_name": "HBoxModel",
            "_view_count": null,
            "_view_module": "@jupyter-widgets/controls",
            "_view_module_version": "1.5.0",
            "_view_name": "HBoxView",
            "box_style": "",
            "children": [
              "IPY_MODEL_3c50dcbf4fd1448b92d6d05c8b170702",
              "IPY_MODEL_6e210621c497456187454663bdc863d4",
              "IPY_MODEL_d2e762bcf49e4bbc95095f63a9e41d2b"
            ],
            "layout": "IPY_MODEL_b3d841d4d8e84494859920e4d0a9b7c1"
          }
        },
        "3c50dcbf4fd1448b92d6d05c8b170702": {
          "model_module": "@jupyter-widgets/controls",
          "model_name": "HTMLModel",
          "model_module_version": "1.5.0",
          "state": {
            "_dom_classes": [],
            "_model_module": "@jupyter-widgets/controls",
            "_model_module_version": "1.5.0",
            "_model_name": "HTMLModel",
            "_view_count": null,
            "_view_module": "@jupyter-widgets/controls",
            "_view_module_version": "1.5.0",
            "_view_name": "HTMLView",
            "description": "",
            "description_tooltip": null,
            "layout": "IPY_MODEL_53eb19a109b342b99dffae1b07d465f1",
            "placeholder": "​",
            "style": "IPY_MODEL_9d30917a916d49eab663de9e69687ddb",
            "value": "100%"
          }
        },
        "6e210621c497456187454663bdc863d4": {
          "model_module": "@jupyter-widgets/controls",
          "model_name": "FloatProgressModel",
          "model_module_version": "1.5.0",
          "state": {
            "_dom_classes": [],
            "_model_module": "@jupyter-widgets/controls",
            "_model_module_version": "1.5.0",
            "_model_name": "FloatProgressModel",
            "_view_count": null,
            "_view_module": "@jupyter-widgets/controls",
            "_view_module_version": "1.5.0",
            "_view_name": "ProgressView",
            "bar_style": "success",
            "description": "",
            "description_tooltip": null,
            "layout": "IPY_MODEL_8ba9b7c89a46498daf53c1631b108725",
            "max": 46830571,
            "min": 0,
            "orientation": "horizontal",
            "style": "IPY_MODEL_c8e8fe36f78b45029bd7099559c3cebd",
            "value": 46830571
          }
        },
        "d2e762bcf49e4bbc95095f63a9e41d2b": {
          "model_module": "@jupyter-widgets/controls",
          "model_name": "HTMLModel",
          "model_module_version": "1.5.0",
          "state": {
            "_dom_classes": [],
            "_model_module": "@jupyter-widgets/controls",
            "_model_module_version": "1.5.0",
            "_model_name": "HTMLModel",
            "_view_count": null,
            "_view_module": "@jupyter-widgets/controls",
            "_view_module_version": "1.5.0",
            "_view_name": "HTMLView",
            "description": "",
            "description_tooltip": null,
            "layout": "IPY_MODEL_aab1cdda67344c70b0e41a924196f5c1",
            "placeholder": "​",
            "style": "IPY_MODEL_825a8e88e13d4146bcc746500542199d",
            "value": " 44.7M/44.7M [00:00&lt;00:00, 114MB/s]"
          }
        },
        "b3d841d4d8e84494859920e4d0a9b7c1": {
          "model_module": "@jupyter-widgets/base",
          "model_name": "LayoutModel",
          "model_module_version": "1.2.0",
          "state": {
            "_model_module": "@jupyter-widgets/base",
            "_model_module_version": "1.2.0",
            "_model_name": "LayoutModel",
            "_view_count": null,
            "_view_module": "@jupyter-widgets/base",
            "_view_module_version": "1.2.0",
            "_view_name": "LayoutView",
            "align_content": null,
            "align_items": null,
            "align_self": null,
            "border": null,
            "bottom": null,
            "display": null,
            "flex": null,
            "flex_flow": null,
            "grid_area": null,
            "grid_auto_columns": null,
            "grid_auto_flow": null,
            "grid_auto_rows": null,
            "grid_column": null,
            "grid_gap": null,
            "grid_row": null,
            "grid_template_areas": null,
            "grid_template_columns": null,
            "grid_template_rows": null,
            "height": null,
            "justify_content": null,
            "justify_items": null,
            "left": null,
            "margin": null,
            "max_height": null,
            "max_width": null,
            "min_height": null,
            "min_width": null,
            "object_fit": null,
            "object_position": null,
            "order": null,
            "overflow": null,
            "overflow_x": null,
            "overflow_y": null,
            "padding": null,
            "right": null,
            "top": null,
            "visibility": null,
            "width": null
          }
        },
        "53eb19a109b342b99dffae1b07d465f1": {
          "model_module": "@jupyter-widgets/base",
          "model_name": "LayoutModel",
          "model_module_version": "1.2.0",
          "state": {
            "_model_module": "@jupyter-widgets/base",
            "_model_module_version": "1.2.0",
            "_model_name": "LayoutModel",
            "_view_count": null,
            "_view_module": "@jupyter-widgets/base",
            "_view_module_version": "1.2.0",
            "_view_name": "LayoutView",
            "align_content": null,
            "align_items": null,
            "align_self": null,
            "border": null,
            "bottom": null,
            "display": null,
            "flex": null,
            "flex_flow": null,
            "grid_area": null,
            "grid_auto_columns": null,
            "grid_auto_flow": null,
            "grid_auto_rows": null,
            "grid_column": null,
            "grid_gap": null,
            "grid_row": null,
            "grid_template_areas": null,
            "grid_template_columns": null,
            "grid_template_rows": null,
            "height": null,
            "justify_content": null,
            "justify_items": null,
            "left": null,
            "margin": null,
            "max_height": null,
            "max_width": null,
            "min_height": null,
            "min_width": null,
            "object_fit": null,
            "object_position": null,
            "order": null,
            "overflow": null,
            "overflow_x": null,
            "overflow_y": null,
            "padding": null,
            "right": null,
            "top": null,
            "visibility": null,
            "width": null
          }
        },
        "9d30917a916d49eab663de9e69687ddb": {
          "model_module": "@jupyter-widgets/controls",
          "model_name": "DescriptionStyleModel",
          "model_module_version": "1.5.0",
          "state": {
            "_model_module": "@jupyter-widgets/controls",
            "_model_module_version": "1.5.0",
            "_model_name": "DescriptionStyleModel",
            "_view_count": null,
            "_view_module": "@jupyter-widgets/base",
            "_view_module_version": "1.2.0",
            "_view_name": "StyleView",
            "description_width": ""
          }
        },
        "8ba9b7c89a46498daf53c1631b108725": {
          "model_module": "@jupyter-widgets/base",
          "model_name": "LayoutModel",
          "model_module_version": "1.2.0",
          "state": {
            "_model_module": "@jupyter-widgets/base",
            "_model_module_version": "1.2.0",
            "_model_name": "LayoutModel",
            "_view_count": null,
            "_view_module": "@jupyter-widgets/base",
            "_view_module_version": "1.2.0",
            "_view_name": "LayoutView",
            "align_content": null,
            "align_items": null,
            "align_self": null,
            "border": null,
            "bottom": null,
            "display": null,
            "flex": null,
            "flex_flow": null,
            "grid_area": null,
            "grid_auto_columns": null,
            "grid_auto_flow": null,
            "grid_auto_rows": null,
            "grid_column": null,
            "grid_gap": null,
            "grid_row": null,
            "grid_template_areas": null,
            "grid_template_columns": null,
            "grid_template_rows": null,
            "height": null,
            "justify_content": null,
            "justify_items": null,
            "left": null,
            "margin": null,
            "max_height": null,
            "max_width": null,
            "min_height": null,
            "min_width": null,
            "object_fit": null,
            "object_position": null,
            "order": null,
            "overflow": null,
            "overflow_x": null,
            "overflow_y": null,
            "padding": null,
            "right": null,
            "top": null,
            "visibility": null,
            "width": null
          }
        },
        "c8e8fe36f78b45029bd7099559c3cebd": {
          "model_module": "@jupyter-widgets/controls",
          "model_name": "ProgressStyleModel",
          "model_module_version": "1.5.0",
          "state": {
            "_model_module": "@jupyter-widgets/controls",
            "_model_module_version": "1.5.0",
            "_model_name": "ProgressStyleModel",
            "_view_count": null,
            "_view_module": "@jupyter-widgets/base",
            "_view_module_version": "1.2.0",
            "_view_name": "StyleView",
            "bar_color": null,
            "description_width": ""
          }
        },
        "aab1cdda67344c70b0e41a924196f5c1": {
          "model_module": "@jupyter-widgets/base",
          "model_name": "LayoutModel",
          "model_module_version": "1.2.0",
          "state": {
            "_model_module": "@jupyter-widgets/base",
            "_model_module_version": "1.2.0",
            "_model_name": "LayoutModel",
            "_view_count": null,
            "_view_module": "@jupyter-widgets/base",
            "_view_module_version": "1.2.0",
            "_view_name": "LayoutView",
            "align_content": null,
            "align_items": null,
            "align_self": null,
            "border": null,
            "bottom": null,
            "display": null,
            "flex": null,
            "flex_flow": null,
            "grid_area": null,
            "grid_auto_columns": null,
            "grid_auto_flow": null,
            "grid_auto_rows": null,
            "grid_column": null,
            "grid_gap": null,
            "grid_row": null,
            "grid_template_areas": null,
            "grid_template_columns": null,
            "grid_template_rows": null,
            "height": null,
            "justify_content": null,
            "justify_items": null,
            "left": null,
            "margin": null,
            "max_height": null,
            "max_width": null,
            "min_height": null,
            "min_width": null,
            "object_fit": null,
            "object_position": null,
            "order": null,
            "overflow": null,
            "overflow_x": null,
            "overflow_y": null,
            "padding": null,
            "right": null,
            "top": null,
            "visibility": null,
            "width": null
          }
        },
        "825a8e88e13d4146bcc746500542199d": {
          "model_module": "@jupyter-widgets/controls",
          "model_name": "DescriptionStyleModel",
          "model_module_version": "1.5.0",
          "state": {
            "_model_module": "@jupyter-widgets/controls",
            "_model_module_version": "1.5.0",
            "_model_name": "DescriptionStyleModel",
            "_view_count": null,
            "_view_module": "@jupyter-widgets/base",
            "_view_module_version": "1.2.0",
            "_view_name": "StyleView",
            "description_width": ""
          }
        }
      }
    },
    "accelerator": "GPU"
  },
  "cells": [
    {
      "cell_type": "markdown",
      "source": [
        "# Emotion recognition model development"
      ],
      "metadata": {
        "id": "odWL42FWV_y7"
      }
    },
    {
      "cell_type": "markdown",
      "source": [
        "## Imports"
      ],
      "metadata": {
        "id": "lmNmT-YjWD74"
      }
    },
    {
      "cell_type": "code",
      "execution_count": 1,
      "metadata": {
        "colab": {
          "base_uri": "https://localhost:8080/"
        },
        "id": "Q5ZobdR2UcxJ",
        "outputId": "d34009c8-c7cb-4c10-c62e-df8f8213bcc5"
      },
      "outputs": [
        {
          "output_type": "stream",
          "name": "stdout",
          "text": [
            "Requirement already satisfied: gdown in /usr/local/lib/python3.7/dist-packages (4.4.0)\n",
            "Collecting torchinfo\n",
            "  Downloading torchinfo-1.6.6-py3-none-any.whl (21 kB)\n",
            "Requirement already satisfied: six in /usr/local/lib/python3.7/dist-packages (from gdown) (1.15.0)\n",
            "Requirement already satisfied: tqdm in /usr/local/lib/python3.7/dist-packages (from gdown) (4.64.0)\n",
            "Requirement already satisfied: beautifulsoup4 in /usr/local/lib/python3.7/dist-packages (from gdown) (4.6.3)\n",
            "Requirement already satisfied: requests[socks] in /usr/local/lib/python3.7/dist-packages (from gdown) (2.23.0)\n",
            "Requirement already satisfied: filelock in /usr/local/lib/python3.7/dist-packages (from gdown) (3.7.0)\n",
            "Requirement already satisfied: urllib3!=1.25.0,!=1.25.1,<1.26,>=1.21.1 in /usr/local/lib/python3.7/dist-packages (from requests[socks]->gdown) (1.24.3)\n",
            "Requirement already satisfied: chardet<4,>=3.0.2 in /usr/local/lib/python3.7/dist-packages (from requests[socks]->gdown) (3.0.4)\n",
            "Requirement already satisfied: idna<3,>=2.5 in /usr/local/lib/python3.7/dist-packages (from requests[socks]->gdown) (2.10)\n",
            "Requirement already satisfied: certifi>=2017.4.17 in /usr/local/lib/python3.7/dist-packages (from requests[socks]->gdown) (2021.10.8)\n",
            "Requirement already satisfied: PySocks!=1.5.7,>=1.5.6 in /usr/local/lib/python3.7/dist-packages (from requests[socks]->gdown) (1.7.1)\n",
            "Installing collected packages: torchinfo\n",
            "Successfully installed torchinfo-1.6.6\n"
          ]
        }
      ],
      "source": [
        "!pip install gdown torchinfo "
      ]
    },
    {
      "cell_type": "code",
      "source": [
        "import collections\n",
        "import contextlib\n",
        "import functools\n",
        "import glob\n",
        "import IPython\n",
        "import itertools\n",
        "import pathlib\n",
        "import pickle\n",
        "import time\n",
        "import os\n",
        "import random\n",
        "import requests\n",
        "import shutil\n",
        "import warnings\n",
        "import zipfile\n",
        "\n",
        "import numpy as np\n",
        "import pandas as pd\n",
        "import scipy\n",
        "import scipy.io\n",
        "import tqdm.auto as tqdm\n",
        "\n",
        "import matplotlib.pyplot as plt\n",
        "%matplotlib inline\n",
        "\n",
        "import PIL\n",
        "\n",
        "import sklearn\n",
        "import sklearn.metrics\n",
        "import sklearn.preprocessing\n",
        "\n",
        "import torch\n",
        "import torchvision\n",
        "import torchinfo"
      ],
      "metadata": {
        "id": "3SROwg-dU0J9"
      },
      "execution_count": 2,
      "outputs": []
    },
    {
      "cell_type": "markdown",
      "source": [
        "## Setting random states for reproducibility"
      ],
      "metadata": {
        "id": "7qsz6en6JD9f"
      }
    },
    {
      "cell_type": "code",
      "source": [
        "RANDOM_STATE = 42\n",
        "random.seed(RANDOM_STATE)\n",
        "os.environ['PYTHONHASHSEED'] = str(RANDOM_STATE)\n",
        "np.random.seed(RANDOM_STATE)\n",
        "torch.manual_seed(RANDOM_STATE)\n",
        "torch.cuda.manual_seed(RANDOM_STATE)\n",
        "torch.cuda.manual_seed_all(RANDOM_STATE)"
      ],
      "metadata": {
        "id": "E9_2mLPOJHda"
      },
      "execution_count": 3,
      "outputs": []
    },
    {
      "cell_type": "markdown",
      "source": [
        "## Global variables"
      ],
      "metadata": {
        "id": "PYCZ-v5CWFm0"
      }
    },
    {
      "cell_type": "code",
      "source": [
        "BATCH_SIZE = 256\n",
        "DEVICE = torch.device(\"cuda\" if torch.cuda.is_available() else \"cpu\")\n",
        "CONTEXT_IMAGE_SIZE = 224\n",
        "BODY_IMAGE_SIZE = 128\n",
        "CONTEXT_NORM = {\"mean\": [0.4690646, 0.4407227, 0.40508908], \"std\": [0.2514227, 0.24312855, 0.24266963]}\n",
        "BODY_NORM = {\"mean\": [0.43832874, 0.3964344, 0.3706214], \"std\": [0.24784276, 0.23621225, 0.2323653]}"
      ],
      "metadata": {
        "id": "EA58UsN2WHKN"
      },
      "execution_count": 4,
      "outputs": []
    },
    {
      "cell_type": "markdown",
      "source": [
        "## Annotations loading and converting"
      ],
      "metadata": {
        "id": "Ru86tqojYR-n"
      }
    },
    {
      "cell_type": "code",
      "source": [
        "!gdown https://drive.google.com/uc?id=1HPkjTRC1I9dNSrdarzdybdIM7cKIJPMg"
      ],
      "metadata": {
        "colab": {
          "base_uri": "https://localhost:8080/"
        },
        "id": "YeUQ-QNjYUYc",
        "outputId": "3d2dad1e-5170-4220-c7fe-9198d150cbd5"
      },
      "execution_count": 5,
      "outputs": [
        {
          "output_type": "stream",
          "name": "stdout",
          "text": [
            "Downloading...\n",
            "From: https://drive.google.com/uc?id=1HPkjTRC1I9dNSrdarzdybdIM7cKIJPMg\n",
            "To: /content/Annotations.zip\n",
            "100% 6.40M/6.40M [00:00<00:00, 24.0MB/s]\n"
          ]
        }
      ]
    },
    {
      "cell_type": "code",
      "source": [
        "def prepare_annotations(filename):\n",
        "    if not pathlib.Path(\"annotations.csv\").is_file():\n",
        "        if \"google.colab\" in str(IPython.get_ipython()):\n",
        "            with zipfile.ZipFile(filename, \"r\") as archive:\n",
        "                for member in tqdm.tqdm(archive.namelist(), desc=\"Extracting files\", unit=\"files\", unit_scale=False):\n",
        "                    archive.extract(member, os.getcwd())\n",
        "        else:\n",
        "            if os.path.isfile(filename):\n",
        "                shutil.rmtree(\"Annotations\", ignore_errors=True) # clear out old data\n",
        "                with zipfile.ZipFile(filename, \"r\") as archive:\n",
        "                    for member in tqdm.tqdm(archive.namelist(), desc=\"Extracting files\", unit=\"files\", unit_scale=False):\n",
        "                        archive.extract(member, os.getcwd())\n",
        "        shutil.move(\"Annotations/Annotations.mat\", \".\")\n",
        "        shutil.rmtree(\"Annotations\", ignore_errors=True)\n",
        "        shutil.rmtree(\"__MACOSX\", ignore_errors=True)\n",
        "        with contextlib.suppress(FileNotFoundError):\n",
        "            os.remove(filename)\n",
        "    mat_data = scipy.io.loadmat(\"Annotations.mat\")\n",
        "    return mat_data[\"train\"][0]"
      ],
      "metadata": {
        "id": "nc8cghObYi8R"
      },
      "execution_count": 6,
      "outputs": []
    },
    {
      "cell_type": "code",
      "source": [
        "mat_data = prepare_annotations(\"Annotations.zip\")"
      ],
      "metadata": {
        "id": "AebeCHJudPEK",
        "colab": {
          "base_uri": "https://localhost:8080/",
          "height": 49,
          "referenced_widgets": [
            "96b707bf06c1417daad77cb02c2ea137",
            "141b22d56223458c9704617e348aa50d",
            "f89dc2b9ac5e40018eef293b2bebad15",
            "c365414ed7454106809cc091948a05e2",
            "bc30157859e24eb8b9f9091dcd4590f8",
            "c225c9b9566f4a69ace42a932af9dad3",
            "53a03424bd2541fa9e300a329e8ae338",
            "be23a309398146ada21d64a6e24c694c",
            "1a914c0cf1b8400888e072c5c3030770",
            "3301aa9fb8de4811b732a5967842e915",
            "43a5040afe52452480c7e418d9ffeee6"
          ]
        },
        "outputId": "3039089c-a79e-4bb7-bc87-9221df8cccd5"
      },
      "execution_count": 7,
      "outputs": [
        {
          "output_type": "display_data",
          "data": {
            "text/plain": [
              "Extracting files:   0%|          | 0/19 [00:00<?, ?files/s]"
            ],
            "application/vnd.jupyter.widget-view+json": {
              "version_major": 2,
              "version_minor": 0,
              "model_id": "96b707bf06c1417daad77cb02c2ea137"
            }
          },
          "metadata": {}
        }
      ]
    },
    {
      "cell_type": "code",
      "source": [
        "def set_imsize(image_size):\n",
        "    im_size = []\n",
        "    image_size = np.array(image_size).flatten().tolist()[0]\n",
        "    row = np.array(image_size[0]).flatten().tolist()[0]\n",
        "    col = np.array(image_size[1]).flatten().tolist()[0]\n",
        "    im_size.append(row)\n",
        "    im_size.append(col)\n",
        "    return im_size\n",
        "\n",
        "def validate_bbox(bbox, im_size):\n",
        "        x1, y1, x2, y2 = bbox\n",
        "        x1 = min(im_size[0], max(0, x1))\n",
        "        x2 = min(im_size[0], max(0, x2))\n",
        "        y1 = min(im_size[1], max(0, y1))\n",
        "        y2 = min(im_size[1], max(0, y2))\n",
        "        return [int(x1), int(y1), int(x2), int(y2)]\n",
        "\n",
        "def set_bbox(person_bbox, im_size):\n",
        "    return validate_bbox(np.array(person_bbox).flatten().tolist(), im_size)\n",
        "\n",
        "def set_emotions(person_emotions):\n",
        "    cat = np.array(person_emotions).flatten().tolist()\n",
        "    if not cat:\n",
        "        return\n",
        "    cat = np.array(cat[0]).flatten().tolist()\n",
        "    return [np.array(c).flatten().tolist()[0] for c in cat]\n",
        "\n",
        "def set_vad_scores(person_vad):\n",
        "    cont = np.array(person_vad).flatten().tolist()\n",
        "    if not cont:\n",
        "        return\n",
        "    return [np.array(c).flatten().tolist()[0] for c in cont[0]]\n",
        "\n",
        "def convert_annotations(mat_train):\n",
        "    rows = list()\n",
        "    for e in tqdm.tqdm(mat_train, desc=\"Converting annotations\", unit=\"files\", unit_scale=False):\n",
        "        for person in e[4][0]:\n",
        "            row = {\n",
        "                \"Filename\": e[0][0],\n",
        "                \"Folder\": e[1][0],\n",
        "                \"Gender\": person[3][0],\n",
        "                \"Age\": person[4][0]\n",
        "            }\n",
        "            row[\"Image Size\"] = set_imsize(e[2])\n",
        "            row[\"Bounding Box\"] = set_bbox(person[0], row[\"Image Size\"])\n",
        "            row[\"Emotions\"] = set_emotions(person[1])\n",
        "            row[\"VAD Scores\"] = set_vad_scores(person[2])\n",
        "            if pd.isnull(np.array(row[\"Emotions\"])).any():\n",
        "                row[\"Emotions\"] = None\n",
        "            if pd.isnull(np.array(row[\"VAD Scores\"])).any():\n",
        "                row[\"VAD Scores\"] = None\n",
        "            rows.append(row)\n",
        "    df = pd.DataFrame.from_records(rows)\n",
        "    df.dropna(inplace=True)\n",
        "    df.to_csv(f\"annotations.csv\", index=False)\n",
        "    with contextlib.suppress(FileNotFoundError):\n",
        "        os.remove(\"Annotations.mat\")"
      ],
      "metadata": {
        "id": "9ULSZlB-MW1y"
      },
      "execution_count": 8,
      "outputs": []
    },
    {
      "cell_type": "code",
      "source": [
        "convert_annotations(mat_data)"
      ],
      "metadata": {
        "colab": {
          "base_uri": "https://localhost:8080/",
          "height": 49,
          "referenced_widgets": [
            "1b8b50ddbea0456aaf33921664abcd54",
            "ff9bbc10f0574c8aa6a89c1f38987c20",
            "d40e9be3b21b4635b686e254d0bff81e",
            "2c8a0f6bc8024198a0179ff533d0278c",
            "ddba8c3ce2cb48e4aeb7f4deee8e5b2b",
            "6fccaf1ae6204b3d8efc01ea26c307de",
            "486985f91c4b496a932dff3b1e4950d5",
            "582f9eb3bd254f0b9fe4c2afe49f6885",
            "0934242e91fc4cd4996002b616a33afe",
            "8fde3bb2838b4134b2ad37c8748d3c8a",
            "8c9b84da14404fd0b3705989b5f8e5f3"
          ]
        },
        "id": "kdiRpm18NndC",
        "outputId": "90c60963-bc35-41f2-cc5d-1e5b242f7553"
      },
      "execution_count": 9,
      "outputs": [
        {
          "output_type": "display_data",
          "data": {
            "text/plain": [
              "Converting annotations:   0%|          | 0/17077 [00:00<?, ?files/s]"
            ],
            "application/vnd.jupyter.widget-view+json": {
              "version_major": 2,
              "version_minor": 0,
              "model_id": "1b8b50ddbea0456aaf33921664abcd54"
            }
          },
          "metadata": {}
        }
      ]
    },
    {
      "cell_type": "markdown",
      "source": [
        "## Dataset loading, preprocessing and splitting"
      ],
      "metadata": {
        "id": "DiiKxcXykpiD"
      }
    },
    {
      "cell_type": "code",
      "source": [
        "class EmoticDataset(torch.utils.data.Dataset):\n",
        "    def __init__(self, dir, annotations_fname):\n",
        "        super().__init__()\n",
        "        self.dir = dir\n",
        "        self.annotations = pd.read_csv(annotations_fname)\n",
        "        self.annotations[\"Image Size\"] = self.annotations[\"Image Size\"].apply(eval)\n",
        "        self.annotations[\"Bounding Box\"] = self.annotations[\"Bounding Box\"].apply(eval)\n",
        "        self.annotations[\"Emotions\"] = self.annotations[\"Emotions\"].apply(eval)\n",
        "        self.annotations[\"VAD Scores\"] = self.annotations[\"VAD Scores\"].apply(eval)\n",
        "        self.mlb = sklearn.preprocessing.MultiLabelBinarizer()\n",
        "        self.mlb.fit(self.annotations[\"Emotions\"].to_numpy())\n",
        "        self.context_transforms = torchvision.transforms.Compose([\n",
        "            torchvision.transforms.PILToTensor(),\n",
        "            torchvision.transforms.ConvertImageDtype(torch.float32),\n",
        "            torchvision.transforms.Resize(CONTEXT_IMAGE_SIZE),\n",
        "            torchvision.transforms.Normalize(CONTEXT_NORM[\"mean\"], CONTEXT_NORM[\"std\"])\n",
        "        ])\n",
        "        self.body_transforms = torchvision.transforms.Compose([\n",
        "            torchvision.transforms.PILToTensor(),\n",
        "            torchvision.transforms.ConvertImageDtype(torch.float32),\n",
        "            torchvision.transforms.Resize(BODY_IMAGE_SIZE),\n",
        "            torchvision.transforms.Normalize(BODY_NORM[\"mean\"], BODY_NORM[\"std\"])\n",
        "        ])\n",
        "\n",
        "    def __len__(self):\n",
        "        return len(self.annotations)\n",
        "\n",
        "    def __getitem__(self, index):\n",
        "        row = self.annotations.loc[index]\n",
        "        context = PIL.Image.open(pathlib.Path(self.dir) / row[\"Folder\"] / row[\"Filename\"]).convert(\"RGB\")\n",
        "        bbox = row[\"Bounding Box\"]\n",
        "        body = context.crop((bbox[0], bbox[1], bbox[2], bbox[3])).resize((BODY_IMAGE_SIZE, BODY_IMAGE_SIZE))\n",
        "        context = context.resize((CONTEXT_IMAGE_SIZE, CONTEXT_IMAGE_SIZE))\n",
        "        emotions = self.mlb.transform([row[\"Emotions\"]])\n",
        "        vad_scores = row[\"VAD Scores\"]\n",
        "        return self.context_transforms(context), self.body_transforms(body), torch.tensor(emotions).squeeze(0), torch.tensor(vad_scores) / 10.0\n",
        "\n",
        "    def get_emotion_name(self, output):\n",
        "        return self.mlb.inverse_transform(output)"
      ],
      "metadata": {
        "id": "GnLGerzPh5BS"
      },
      "execution_count": 10,
      "outputs": []
    },
    {
      "cell_type": "code",
      "source": [
        "!gdown https://drive.google.com/uc?id=16V-PJBpdFakpzYTba3sdg_Fg3z9YED3C"
      ],
      "metadata": {
        "colab": {
          "base_uri": "https://localhost:8080/"
        },
        "id": "ikiBUuIY1re9",
        "outputId": "36357603-ae68-4399-cd9d-3a012063619d"
      },
      "execution_count": 11,
      "outputs": [
        {
          "output_type": "stream",
          "name": "stdout",
          "text": [
            "Downloading...\n",
            "From: https://drive.google.com/uc?id=16V-PJBpdFakpzYTba3sdg_Fg3z9YED3C\n",
            "To: /content/emotic.zip\n",
            "100% 3.60G/3.60G [00:36<00:00, 98.7MB/s]\n"
          ]
        }
      ]
    },
    {
      "cell_type": "code",
      "source": [
        "def prepare_dataset(filename):\n",
        "    if not pathlib.Path(\"emotic\").is_dir():\n",
        "        if \"google.colab\" in str(IPython.get_ipython()):\n",
        "                with zipfile.ZipFile(filename, \"r\") as archive:\n",
        "                    for member in tqdm.tqdm(archive.namelist(), desc=\"Extracting files\", unit=\"files\", unit_scale=False):\n",
        "                        archive.extract(member, os.getcwd())\n",
        "        else:\n",
        "            if os.path.isfile(filename):\n",
        "                shutil.rmtree(\"emotic\", ignore_errors=True) # clear out old data\n",
        "                with zipfile.ZipFile(filename, \"r\") as archive:\n",
        "                    for member in tqdm.tqdm(archive.namelist(), desc=\"Extracting files\", unit=\"files\", unit_scale=False):\n",
        "                        archive.extract(member, os.getcwd())\n",
        "        # I hate MacOS\n",
        "        with contextlib.suppress(FileNotFoundError):\n",
        "            for path in pathlib.Path(\"emotic\").rglob(\"*.*\"):\n",
        "                if not str(path).endswith(\".jpg\"):\n",
        "                    os.remove(str(path))\n",
        "    if not pathlib.Path(\"annotations.csv\").is_file():\n",
        "        raise ValueError(\"No annotations file detected, cannot proceed\")\n",
        "    return EmoticDataset(\"emotic\", \"annotations.csv\")"
      ],
      "metadata": {
        "id": "F_wjAdfK7PCK"
      },
      "execution_count": 12,
      "outputs": []
    },
    {
      "cell_type": "code",
      "source": [
        "dataset = prepare_dataset(\"emotic.zip\")"
      ],
      "metadata": {
        "id": "yrUMPqui8AeE",
        "colab": {
          "base_uri": "https://localhost:8080/",
          "height": 49,
          "referenced_widgets": [
            "8f49cfa8701d4575b7f590b95f64ae5f",
            "d06405136a4a4dbf9c47840315056490",
            "106f92f377364dc5a957844816a56d9c",
            "6835a229d3c14cd28ff636e52f1e1180",
            "1c8ad47132ad47e586e6c5ab980817eb",
            "8355babab31240bd90d14a5e76a33d2e",
            "0cd5861c787b482a86cc1da878a74a67",
            "b8a4ef68ea8f4cdc984f39e9551f011a",
            "9869f945267a410a82bac5a08c98d049",
            "f8a9ca616c4c4afcba387c26f1e02b15",
            "906c38feb43c4e8696a04f5c55fdea79"
          ]
        },
        "outputId": "0fcaf3f1-2df2-4b5c-c7c3-abc2ff776e75"
      },
      "execution_count": 13,
      "outputs": [
        {
          "output_type": "display_data",
          "data": {
            "text/plain": [
              "Extracting files:   0%|          | 0/23198 [00:00<?, ?files/s]"
            ],
            "application/vnd.jupyter.widget-view+json": {
              "version_major": 2,
              "version_minor": 0,
              "model_id": "8f49cfa8701d4575b7f590b95f64ae5f"
            }
          },
          "metadata": {}
        }
      ]
    },
    {
      "cell_type": "code",
      "source": [
        "trainset, remains = torch.utils.data.random_split(dataset, \n",
        "                                                  [int(0.7 * len(dataset)), len(dataset) - int(0.7 * len(dataset))],\n",
        "                                                  torch.Generator().manual_seed(RANDOM_STATE))"
      ],
      "metadata": {
        "id": "3Pa6z40aFUFP"
      },
      "execution_count": 14,
      "outputs": []
    },
    {
      "cell_type": "code",
      "source": [
        "valset, testset = torch.utils.data.random_split(remains, \n",
        "                                                [len(remains) // 2, len(remains) - len(remains) // 2],\n",
        "                                                torch.Generator().manual_seed(RANDOM_STATE))"
      ],
      "metadata": {
        "id": "YyX8xRGrJrWO"
      },
      "execution_count": 15,
      "outputs": []
    },
    {
      "cell_type": "markdown",
      "source": [
        "## Preparing Dataloaders"
      ],
      "metadata": {
        "id": "UXEhaVl7L4h7"
      }
    },
    {
      "cell_type": "code",
      "source": [
        "trainloader = torch.utils.data.DataLoader(trainset, BATCH_SIZE, shuffle=True, num_workers=torch.multiprocessing.cpu_count(), pin_memory=True, drop_last=True)\n",
        "valloader = torch.utils.data.DataLoader(valset, BATCH_SIZE, shuffle=False, num_workers=torch.multiprocessing.cpu_count(), pin_memory=True, drop_last=True)\n",
        "testloader = torch.utils.data.DataLoader(testset, BATCH_SIZE, shuffle=False, num_workers=torch.multiprocessing.cpu_count(), pin_memory=True, drop_last=True)"
      ],
      "metadata": {
        "id": "-JqV_FBBJvCs"
      },
      "execution_count": 16,
      "outputs": []
    },
    {
      "cell_type": "markdown",
      "source": [
        "## Selecting optimal \"tail\" CNN (based on inference time)"
      ],
      "metadata": {
        "id": "0gHq3XcTPKan"
      }
    },
    {
      "cell_type": "code",
      "source": [
        "mobilenet = torchvision.models.mobilenet.mobilenet_v3_small(pretrained=True).to(DEVICE)"
      ],
      "metadata": {
        "colab": {
          "base_uri": "https://localhost:8080/",
          "height": 66,
          "referenced_widgets": [
            "cfc39597a30e4064abb1112e7b5c3c1c",
            "e0b60946412a4224b783e4be1e22370c",
            "c2a3c94935694c4dbc42783c5cc40a24",
            "1ef686cb19e6456da8c848230be60f22",
            "bbb703d6305641329ecd45915e325340",
            "a3b88ef35c824dd1b555b2a5a35a03c8",
            "3a4e200f6c9242c2917cb377a83a1413",
            "1c5a7fccb2b240f7ad94220315b8cf1f",
            "bda15f3681934154af714650ca8806ad",
            "451b7938a32a454a886e9c1cfdbdf50d",
            "1ab39b28a8d64b609c628d974e203469"
          ]
        },
        "id": "pk8dKOGEMIr9",
        "outputId": "dbb9a5a3-55a2-429a-b3a1-524b8d300100"
      },
      "execution_count": 17,
      "outputs": [
        {
          "output_type": "stream",
          "name": "stderr",
          "text": [
            "Downloading: \"https://download.pytorch.org/models/mobilenet_v3_small-047dcff4.pth\" to /root/.cache/torch/hub/checkpoints/mobilenet_v3_small-047dcff4.pth\n"
          ]
        },
        {
          "output_type": "display_data",
          "data": {
            "text/plain": [
              "  0%|          | 0.00/9.83M [00:00<?, ?B/s]"
            ],
            "application/vnd.jupyter.widget-view+json": {
              "version_major": 2,
              "version_minor": 0,
              "model_id": "cfc39597a30e4064abb1112e7b5c3c1c"
            }
          },
          "metadata": {}
        }
      ]
    },
    {
      "cell_type": "code",
      "source": [
        "torchinfo.summary(mobilenet, (BATCH_SIZE, 3, CONTEXT_IMAGE_SIZE, CONTEXT_IMAGE_SIZE))"
      ],
      "metadata": {
        "colab": {
          "base_uri": "https://localhost:8080/"
        },
        "id": "e3x8Ev1_MIqf",
        "outputId": "c485f39e-15cb-4183-c02f-f0b842b729aa"
      },
      "execution_count": 18,
      "outputs": [
        {
          "output_type": "execute_result",
          "data": {
            "text/plain": [
              "====================================================================================================\n",
              "Layer (type:depth-idx)                             Output Shape              Param #\n",
              "====================================================================================================\n",
              "MobileNetV3                                        --                        --\n",
              "├─Sequential: 1-1                                  [256, 576, 7, 7]          --\n",
              "│    └─ConvNormActivation: 2-1                     [256, 16, 112, 112]       --\n",
              "│    │    └─Conv2d: 3-1                            [256, 16, 112, 112]       432\n",
              "│    │    └─BatchNorm2d: 3-2                       [256, 16, 112, 112]       32\n",
              "│    │    └─Hardswish: 3-3                         [256, 16, 112, 112]       --\n",
              "│    └─InvertedResidual: 2-2                       [256, 16, 56, 56]         --\n",
              "│    │    └─Sequential: 3-4                        [256, 16, 56, 56]         744\n",
              "│    └─InvertedResidual: 2-3                       [256, 24, 28, 28]         --\n",
              "│    │    └─Sequential: 3-5                        [256, 24, 28, 28]         3,864\n",
              "│    └─InvertedResidual: 2-4                       [256, 24, 28, 28]         --\n",
              "│    │    └─Sequential: 3-6                        [256, 24, 28, 28]         5,416\n",
              "│    └─InvertedResidual: 2-5                       [256, 40, 14, 14]         --\n",
              "│    │    └─Sequential: 3-7                        [256, 40, 14, 14]         13,736\n",
              "│    └─InvertedResidual: 2-6                       [256, 40, 14, 14]         --\n",
              "│    │    └─Sequential: 3-8                        [256, 40, 14, 14]         57,264\n",
              "│    └─InvertedResidual: 2-7                       [256, 40, 14, 14]         --\n",
              "│    │    └─Sequential: 3-9                        [256, 40, 14, 14]         57,264\n",
              "│    └─InvertedResidual: 2-8                       [256, 48, 14, 14]         --\n",
              "│    │    └─Sequential: 3-10                       [256, 48, 14, 14]         21,968\n",
              "│    └─InvertedResidual: 2-9                       [256, 48, 14, 14]         --\n",
              "│    │    └─Sequential: 3-11                       [256, 48, 14, 14]         29,800\n",
              "│    └─InvertedResidual: 2-10                      [256, 96, 7, 7]           --\n",
              "│    │    └─Sequential: 3-12                       [256, 96, 7, 7]           91,848\n",
              "│    └─InvertedResidual: 2-11                      [256, 96, 7, 7]           --\n",
              "│    │    └─Sequential: 3-13                       [256, 96, 7, 7]           294,096\n",
              "│    └─InvertedResidual: 2-12                      [256, 96, 7, 7]           --\n",
              "│    │    └─Sequential: 3-14                       [256, 96, 7, 7]           294,096\n",
              "│    └─ConvNormActivation: 2-13                    [256, 576, 7, 7]          --\n",
              "│    │    └─Conv2d: 3-15                           [256, 576, 7, 7]          55,296\n",
              "│    │    └─BatchNorm2d: 3-16                      [256, 576, 7, 7]          1,152\n",
              "│    │    └─Hardswish: 3-17                        [256, 576, 7, 7]          --\n",
              "├─AdaptiveAvgPool2d: 1-2                           [256, 576, 1, 1]          --\n",
              "├─Sequential: 1-3                                  [256, 1000]               --\n",
              "│    └─Linear: 2-14                                [256, 1024]               590,848\n",
              "│    └─Hardswish: 2-15                             [256, 1024]               --\n",
              "│    └─Dropout: 2-16                               [256, 1024]               --\n",
              "│    └─Linear: 2-17                                [256, 1000]               1,025,000\n",
              "====================================================================================================\n",
              "Total params: 2,542,856\n",
              "Trainable params: 2,542,856\n",
              "Non-trainable params: 0\n",
              "Total mult-adds (G): 14.47\n",
              "====================================================================================================\n",
              "Input size (MB): 154.14\n",
              "Forward/backward pass size (MB): 5796.76\n",
              "Params size (MB): 10.17\n",
              "Estimated Total Size (MB): 5961.07\n",
              "===================================================================================================="
            ]
          },
          "metadata": {},
          "execution_count": 18
        }
      ]
    },
    {
      "cell_type": "code",
      "source": [
        "resnet18 = torchvision.models.resnet18(pretrained=True).to(DEVICE)"
      ],
      "metadata": {
        "colab": {
          "base_uri": "https://localhost:8080/",
          "height": 66,
          "referenced_widgets": [
            "06b5941a51c8463cb3a7ca90a631e351",
            "3c50dcbf4fd1448b92d6d05c8b170702",
            "6e210621c497456187454663bdc863d4",
            "d2e762bcf49e4bbc95095f63a9e41d2b",
            "b3d841d4d8e84494859920e4d0a9b7c1",
            "53eb19a109b342b99dffae1b07d465f1",
            "9d30917a916d49eab663de9e69687ddb",
            "8ba9b7c89a46498daf53c1631b108725",
            "c8e8fe36f78b45029bd7099559c3cebd",
            "aab1cdda67344c70b0e41a924196f5c1",
            "825a8e88e13d4146bcc746500542199d"
          ]
        },
        "id": "nm265JTjM47F",
        "outputId": "c2ed0396-2042-4641-d9d9-75dd78af9275"
      },
      "execution_count": 19,
      "outputs": [
        {
          "output_type": "stream",
          "name": "stderr",
          "text": [
            "Downloading: \"https://download.pytorch.org/models/resnet18-f37072fd.pth\" to /root/.cache/torch/hub/checkpoints/resnet18-f37072fd.pth\n"
          ]
        },
        {
          "output_type": "display_data",
          "data": {
            "text/plain": [
              "  0%|          | 0.00/44.7M [00:00<?, ?B/s]"
            ],
            "application/vnd.jupyter.widget-view+json": {
              "version_major": 2,
              "version_minor": 0,
              "model_id": "06b5941a51c8463cb3a7ca90a631e351"
            }
          },
          "metadata": {}
        }
      ]
    },
    {
      "cell_type": "code",
      "source": [
        "torchinfo.summary(resnet18, (BATCH_SIZE, 3, CONTEXT_IMAGE_SIZE, CONTEXT_IMAGE_SIZE))"
      ],
      "metadata": {
        "colab": {
          "base_uri": "https://localhost:8080/"
        },
        "id": "rX8FlF47Nq4Y",
        "outputId": "64c2c109-0dd1-4863-ca07-a2fd549628c8"
      },
      "execution_count": 20,
      "outputs": [
        {
          "output_type": "execute_result",
          "data": {
            "text/plain": [
              "==========================================================================================\n",
              "Layer (type:depth-idx)                   Output Shape              Param #\n",
              "==========================================================================================\n",
              "ResNet                                   --                        --\n",
              "├─Conv2d: 1-1                            [256, 64, 112, 112]       9,408\n",
              "├─BatchNorm2d: 1-2                       [256, 64, 112, 112]       128\n",
              "├─ReLU: 1-3                              [256, 64, 112, 112]       --\n",
              "├─MaxPool2d: 1-4                         [256, 64, 56, 56]         --\n",
              "├─Sequential: 1-5                        [256, 64, 56, 56]         --\n",
              "│    └─BasicBlock: 2-1                   [256, 64, 56, 56]         --\n",
              "│    │    └─Conv2d: 3-1                  [256, 64, 56, 56]         36,864\n",
              "│    │    └─BatchNorm2d: 3-2             [256, 64, 56, 56]         128\n",
              "│    │    └─ReLU: 3-3                    [256, 64, 56, 56]         --\n",
              "│    │    └─Conv2d: 3-4                  [256, 64, 56, 56]         36,864\n",
              "│    │    └─BatchNorm2d: 3-5             [256, 64, 56, 56]         128\n",
              "│    │    └─ReLU: 3-6                    [256, 64, 56, 56]         --\n",
              "│    └─BasicBlock: 2-2                   [256, 64, 56, 56]         --\n",
              "│    │    └─Conv2d: 3-7                  [256, 64, 56, 56]         36,864\n",
              "│    │    └─BatchNorm2d: 3-8             [256, 64, 56, 56]         128\n",
              "│    │    └─ReLU: 3-9                    [256, 64, 56, 56]         --\n",
              "│    │    └─Conv2d: 3-10                 [256, 64, 56, 56]         36,864\n",
              "│    │    └─BatchNorm2d: 3-11            [256, 64, 56, 56]         128\n",
              "│    │    └─ReLU: 3-12                   [256, 64, 56, 56]         --\n",
              "├─Sequential: 1-6                        [256, 128, 28, 28]        --\n",
              "│    └─BasicBlock: 2-3                   [256, 128, 28, 28]        --\n",
              "│    │    └─Conv2d: 3-13                 [256, 128, 28, 28]        73,728\n",
              "│    │    └─BatchNorm2d: 3-14            [256, 128, 28, 28]        256\n",
              "│    │    └─ReLU: 3-15                   [256, 128, 28, 28]        --\n",
              "│    │    └─Conv2d: 3-16                 [256, 128, 28, 28]        147,456\n",
              "│    │    └─BatchNorm2d: 3-17            [256, 128, 28, 28]        256\n",
              "│    │    └─Sequential: 3-18             [256, 128, 28, 28]        8,448\n",
              "│    │    └─ReLU: 3-19                   [256, 128, 28, 28]        --\n",
              "│    └─BasicBlock: 2-4                   [256, 128, 28, 28]        --\n",
              "│    │    └─Conv2d: 3-20                 [256, 128, 28, 28]        147,456\n",
              "│    │    └─BatchNorm2d: 3-21            [256, 128, 28, 28]        256\n",
              "│    │    └─ReLU: 3-22                   [256, 128, 28, 28]        --\n",
              "│    │    └─Conv2d: 3-23                 [256, 128, 28, 28]        147,456\n",
              "│    │    └─BatchNorm2d: 3-24            [256, 128, 28, 28]        256\n",
              "│    │    └─ReLU: 3-25                   [256, 128, 28, 28]        --\n",
              "├─Sequential: 1-7                        [256, 256, 14, 14]        --\n",
              "│    └─BasicBlock: 2-5                   [256, 256, 14, 14]        --\n",
              "│    │    └─Conv2d: 3-26                 [256, 256, 14, 14]        294,912\n",
              "│    │    └─BatchNorm2d: 3-27            [256, 256, 14, 14]        512\n",
              "│    │    └─ReLU: 3-28                   [256, 256, 14, 14]        --\n",
              "│    │    └─Conv2d: 3-29                 [256, 256, 14, 14]        589,824\n",
              "│    │    └─BatchNorm2d: 3-30            [256, 256, 14, 14]        512\n",
              "│    │    └─Sequential: 3-31             [256, 256, 14, 14]        33,280\n",
              "│    │    └─ReLU: 3-32                   [256, 256, 14, 14]        --\n",
              "│    └─BasicBlock: 2-6                   [256, 256, 14, 14]        --\n",
              "│    │    └─Conv2d: 3-33                 [256, 256, 14, 14]        589,824\n",
              "│    │    └─BatchNorm2d: 3-34            [256, 256, 14, 14]        512\n",
              "│    │    └─ReLU: 3-35                   [256, 256, 14, 14]        --\n",
              "│    │    └─Conv2d: 3-36                 [256, 256, 14, 14]        589,824\n",
              "│    │    └─BatchNorm2d: 3-37            [256, 256, 14, 14]        512\n",
              "│    │    └─ReLU: 3-38                   [256, 256, 14, 14]        --\n",
              "├─Sequential: 1-8                        [256, 512, 7, 7]          --\n",
              "│    └─BasicBlock: 2-7                   [256, 512, 7, 7]          --\n",
              "│    │    └─Conv2d: 3-39                 [256, 512, 7, 7]          1,179,648\n",
              "│    │    └─BatchNorm2d: 3-40            [256, 512, 7, 7]          1,024\n",
              "│    │    └─ReLU: 3-41                   [256, 512, 7, 7]          --\n",
              "│    │    └─Conv2d: 3-42                 [256, 512, 7, 7]          2,359,296\n",
              "│    │    └─BatchNorm2d: 3-43            [256, 512, 7, 7]          1,024\n",
              "│    │    └─Sequential: 3-44             [256, 512, 7, 7]          132,096\n",
              "│    │    └─ReLU: 3-45                   [256, 512, 7, 7]          --\n",
              "│    └─BasicBlock: 2-8                   [256, 512, 7, 7]          --\n",
              "│    │    └─Conv2d: 3-46                 [256, 512, 7, 7]          2,359,296\n",
              "│    │    └─BatchNorm2d: 3-47            [256, 512, 7, 7]          1,024\n",
              "│    │    └─ReLU: 3-48                   [256, 512, 7, 7]          --\n",
              "│    │    └─Conv2d: 3-49                 [256, 512, 7, 7]          2,359,296\n",
              "│    │    └─BatchNorm2d: 3-50            [256, 512, 7, 7]          1,024\n",
              "│    │    └─ReLU: 3-51                   [256, 512, 7, 7]          --\n",
              "├─AdaptiveAvgPool2d: 1-9                 [256, 512, 1, 1]          --\n",
              "├─Linear: 1-10                           [256, 1000]               513,000\n",
              "==========================================================================================\n",
              "Total params: 11,689,512\n",
              "Trainable params: 11,689,512\n",
              "Non-trainable params: 0\n",
              "Total mult-adds (G): 464.41\n",
              "==========================================================================================\n",
              "Input size (MB): 154.14\n",
              "Forward/backward pass size (MB): 10175.33\n",
              "Params size (MB): 46.76\n",
              "Estimated Total Size (MB): 10376.23\n",
              "=========================================================================================="
            ]
          },
          "metadata": {},
          "execution_count": 20
        }
      ]
    },
    {
      "cell_type": "code",
      "source": [
        "#effnet = torchvision.models.efficientnet_v2_s(weights=torchvision.models.EfficientNet_V2_S_Weights.DEFAULT).to(DEVICE)"
      ],
      "metadata": {
        "id": "hAO3t80xQelq"
      },
      "execution_count": 21,
      "outputs": []
    },
    {
      "cell_type": "code",
      "source": [
        "#torchinfo.summary(effnet, (BATCH_SIZE, 3, CONTEXT_IMAGE_SIZE, CONTEXT_IMAGE_SIZE))"
      ],
      "metadata": {
        "id": "WiuQIgsqkkpa"
      },
      "execution_count": 22,
      "outputs": []
    },
    {
      "cell_type": "code",
      "source": [
        "def inference_time(model):\n",
        "    dummy_input = torch.randn(1, 3, CONTEXT_IMAGE_SIZE, CONTEXT_IMAGE_SIZE, dtype=torch.float).to(DEVICE)\n",
        "    start, end = torch.cuda.Event(enable_timing=True), torch.cuda.Event(enable_timing=True)\n",
        "    repetitions = 300\n",
        "    timings = np.zeros((repetitions, 1))\n",
        "    # GPU warmup\n",
        "    for _ in range(10):\n",
        "        _ = model(dummy_input)\n",
        "    # Performance measuring\n",
        "    with torch.no_grad():\n",
        "        for rep in range(repetitions):\n",
        "            start.record()\n",
        "            _ = model(dummy_input)\n",
        "            end.record()\n",
        "            torch.cuda.synchronize()\n",
        "            curr_time = start.elapsed_time(end)\n",
        "            timings[rep] = curr_time\n",
        "\n",
        "    mean_syn = np.sum(timings) / repetitions\n",
        "    std_syn = np.std(timings)\n",
        "    return mean_syn, std_syn"
      ],
      "metadata": {
        "id": "1PRRr10zO_Qu"
      },
      "execution_count": 23,
      "outputs": []
    },
    {
      "cell_type": "code",
      "source": [
        "mean_syn_mobnet, std_syn_mobnet = inference_time(mobilenet)\n",
        "print(f\"Mean inference time for MobileNetV2 (with sync): {mean_syn_mobnet}, stddev: {std_syn_mobnet}\")\n",
        "mean_syn_resnet, std_syn_resnet = inference_time(resnet18)\n",
        "print(f\"Mean inference time for ResNet18 (with sync): {mean_syn_resnet}, stddev: {std_syn_resnet}\")"
      ],
      "metadata": {
        "id": "PEBMSUwbQF3s",
        "colab": {
          "base_uri": "https://localhost:8080/",
          "height": 365
        },
        "outputId": "4dafd0f4-caae-47aa-c07c-d09ab2522353"
      },
      "execution_count": 24,
      "outputs": [
        {
          "output_type": "error",
          "ename": "RuntimeError",
          "evalue": "ignored",
          "traceback": [
            "\u001b[0;31m---------------------------------------------------------------------------\u001b[0m",
            "\u001b[0;31mRuntimeError\u001b[0m                              Traceback (most recent call last)",
            "\u001b[0;32m<ipython-input-24-d58e2f225a76>\u001b[0m in \u001b[0;36m<module>\u001b[0;34m()\u001b[0m\n\u001b[0;32m----> 1\u001b[0;31m \u001b[0mmean_syn_mobnet\u001b[0m\u001b[0;34m,\u001b[0m \u001b[0mstd_syn_mobnet\u001b[0m \u001b[0;34m=\u001b[0m \u001b[0minference_time\u001b[0m\u001b[0;34m(\u001b[0m\u001b[0mmobilenet\u001b[0m\u001b[0;34m)\u001b[0m\u001b[0;34m\u001b[0m\u001b[0;34m\u001b[0m\u001b[0m\n\u001b[0m\u001b[1;32m      2\u001b[0m \u001b[0mprint\u001b[0m\u001b[0;34m(\u001b[0m\u001b[0;34mf\"Mean inference time for MobileNetV2 (with sync): {mean_syn_mobnet}, stddev: {std_syn_mobnet}\"\u001b[0m\u001b[0;34m)\u001b[0m\u001b[0;34m\u001b[0m\u001b[0;34m\u001b[0m\u001b[0m\n\u001b[1;32m      3\u001b[0m \u001b[0mmean_syn_resnet\u001b[0m\u001b[0;34m,\u001b[0m \u001b[0mstd_syn_resnet\u001b[0m \u001b[0;34m=\u001b[0m \u001b[0minference_time\u001b[0m\u001b[0;34m(\u001b[0m\u001b[0mresnet18\u001b[0m\u001b[0;34m)\u001b[0m\u001b[0;34m\u001b[0m\u001b[0;34m\u001b[0m\u001b[0m\n\u001b[1;32m      4\u001b[0m \u001b[0mprint\u001b[0m\u001b[0;34m(\u001b[0m\u001b[0;34mf\"Mean inference time for ResNet18 (with sync): {mean_syn_resnet}, stddev: {std_syn_resnet}\"\u001b[0m\u001b[0;34m)\u001b[0m\u001b[0;34m\u001b[0m\u001b[0;34m\u001b[0m\u001b[0m\n",
            "\u001b[0;32m<ipython-input-23-14f406a3423f>\u001b[0m in \u001b[0;36minference_time\u001b[0;34m(model)\u001b[0m\n\u001b[1;32m     10\u001b[0m     \u001b[0;32mwith\u001b[0m \u001b[0mtorch\u001b[0m\u001b[0;34m.\u001b[0m\u001b[0mno_grad\u001b[0m\u001b[0;34m(\u001b[0m\u001b[0;34m)\u001b[0m\u001b[0;34m:\u001b[0m\u001b[0;34m\u001b[0m\u001b[0;34m\u001b[0m\u001b[0m\n\u001b[1;32m     11\u001b[0m         \u001b[0;32mfor\u001b[0m \u001b[0mrep\u001b[0m \u001b[0;32min\u001b[0m \u001b[0mrange\u001b[0m\u001b[0;34m(\u001b[0m\u001b[0mrepetitions\u001b[0m\u001b[0;34m)\u001b[0m\u001b[0;34m:\u001b[0m\u001b[0;34m\u001b[0m\u001b[0;34m\u001b[0m\u001b[0m\n\u001b[0;32m---> 12\u001b[0;31m             \u001b[0mstart\u001b[0m\u001b[0;34m.\u001b[0m\u001b[0mrecord\u001b[0m\u001b[0;34m(\u001b[0m\u001b[0;34m)\u001b[0m\u001b[0;34m\u001b[0m\u001b[0;34m\u001b[0m\u001b[0m\n\u001b[0m\u001b[1;32m     13\u001b[0m             \u001b[0m_\u001b[0m \u001b[0;34m=\u001b[0m \u001b[0mmodel\u001b[0m\u001b[0;34m(\u001b[0m\u001b[0mdummy_input\u001b[0m\u001b[0;34m)\u001b[0m\u001b[0;34m\u001b[0m\u001b[0;34m\u001b[0m\u001b[0m\n\u001b[1;32m     14\u001b[0m             \u001b[0mend\u001b[0m\u001b[0;34m.\u001b[0m\u001b[0mrecord\u001b[0m\u001b[0;34m(\u001b[0m\u001b[0;34m)\u001b[0m\u001b[0;34m\u001b[0m\u001b[0;34m\u001b[0m\u001b[0m\n",
            "\u001b[0;32m/usr/local/lib/python3.7/dist-packages/torch/cuda/streams.py\u001b[0m in \u001b[0;36mrecord\u001b[0;34m(self, stream)\u001b[0m\n\u001b[1;32m    173\u001b[0m         stream's device must match the event's device.\"\"\"\n\u001b[1;32m    174\u001b[0m         \u001b[0;32mif\u001b[0m \u001b[0mstream\u001b[0m \u001b[0;32mis\u001b[0m \u001b[0;32mNone\u001b[0m\u001b[0;34m:\u001b[0m\u001b[0;34m\u001b[0m\u001b[0;34m\u001b[0m\u001b[0m\n\u001b[0;32m--> 175\u001b[0;31m             \u001b[0mstream\u001b[0m \u001b[0;34m=\u001b[0m \u001b[0mtorch\u001b[0m\u001b[0;34m.\u001b[0m\u001b[0mcuda\u001b[0m\u001b[0;34m.\u001b[0m\u001b[0mcurrent_stream\u001b[0m\u001b[0;34m(\u001b[0m\u001b[0;34m)\u001b[0m\u001b[0;34m\u001b[0m\u001b[0;34m\u001b[0m\u001b[0m\n\u001b[0m\u001b[1;32m    176\u001b[0m         \u001b[0msuper\u001b[0m\u001b[0;34m(\u001b[0m\u001b[0mEvent\u001b[0m\u001b[0;34m,\u001b[0m \u001b[0mself\u001b[0m\u001b[0;34m)\u001b[0m\u001b[0;34m.\u001b[0m\u001b[0mrecord\u001b[0m\u001b[0;34m(\u001b[0m\u001b[0mstream\u001b[0m\u001b[0;34m)\u001b[0m\u001b[0;34m\u001b[0m\u001b[0;34m\u001b[0m\u001b[0m\n\u001b[1;32m    177\u001b[0m \u001b[0;34m\u001b[0m\u001b[0m\n",
            "\u001b[0;32m/usr/local/lib/python3.7/dist-packages/torch/cuda/__init__.py\u001b[0m in \u001b[0;36mcurrent_stream\u001b[0;34m(device)\u001b[0m\n\u001b[1;32m    518\u001b[0m             \u001b[0;34m(\u001b[0m\u001b[0mdefault\u001b[0m\u001b[0;34m)\u001b[0m\u001b[0;34m.\u001b[0m\u001b[0;34m\u001b[0m\u001b[0;34m\u001b[0m\u001b[0m\n\u001b[1;32m    519\u001b[0m     \"\"\"\n\u001b[0;32m--> 520\u001b[0;31m     \u001b[0m_lazy_init\u001b[0m\u001b[0;34m(\u001b[0m\u001b[0;34m)\u001b[0m\u001b[0;34m\u001b[0m\u001b[0;34m\u001b[0m\u001b[0m\n\u001b[0m\u001b[1;32m    521\u001b[0m     return Stream(_cdata=torch._C._cuda_getCurrentStream(\n\u001b[1;32m    522\u001b[0m         _get_device_index(device, optional=True)))\n",
            "\u001b[0;32m/usr/local/lib/python3.7/dist-packages/torch/cuda/__init__.py\u001b[0m in \u001b[0;36m_lazy_init\u001b[0;34m()\u001b[0m\n\u001b[1;32m    214\u001b[0m         \u001b[0;31m# This function throws if there's a driver initialization error, no GPUs\u001b[0m\u001b[0;34m\u001b[0m\u001b[0;34m\u001b[0m\u001b[0;34m\u001b[0m\u001b[0m\n\u001b[1;32m    215\u001b[0m         \u001b[0;31m# are found or any other error occurs\u001b[0m\u001b[0;34m\u001b[0m\u001b[0;34m\u001b[0m\u001b[0;34m\u001b[0m\u001b[0m\n\u001b[0;32m--> 216\u001b[0;31m         \u001b[0mtorch\u001b[0m\u001b[0;34m.\u001b[0m\u001b[0m_C\u001b[0m\u001b[0;34m.\u001b[0m\u001b[0m_cuda_init\u001b[0m\u001b[0;34m(\u001b[0m\u001b[0;34m)\u001b[0m\u001b[0;34m\u001b[0m\u001b[0;34m\u001b[0m\u001b[0m\n\u001b[0m\u001b[1;32m    217\u001b[0m         \u001b[0;31m# Some of the queued calls may reentrantly call _lazy_init();\u001b[0m\u001b[0;34m\u001b[0m\u001b[0;34m\u001b[0m\u001b[0;34m\u001b[0m\u001b[0m\n\u001b[1;32m    218\u001b[0m         \u001b[0;31m# we need to just return without initializing in that case.\u001b[0m\u001b[0;34m\u001b[0m\u001b[0;34m\u001b[0m\u001b[0;34m\u001b[0m\u001b[0m\n",
            "\u001b[0;31mRuntimeError\u001b[0m: No CUDA GPUs are available"
          ]
        }
      ]
    },
    {
      "cell_type": "markdown",
      "source": [
        "*Will check out ResNet performance in pre-deployment test, if the model turns out to be too large, will switch to MobileNet*"
      ],
      "metadata": {
        "id": "qF9Y1qi-rhiS"
      }
    },
    {
      "cell_type": "code",
      "source": [
        "mobilenet, resnet18 = mobilenet.cpu(), resnet18.cpu()\n",
        "del mobilenet, resnet18\n",
        "torch.cuda.synchronize()\n",
        "torch.cuda.empty_cache()"
      ],
      "metadata": {
        "id": "8xs8fJPt5JGQ"
      },
      "execution_count": null,
      "outputs": []
    },
    {
      "cell_type": "markdown",
      "source": [
        "## Model architecture definition and preloading"
      ],
      "metadata": {
        "id": "qe3WjHu1sJvY"
      }
    },
    {
      "cell_type": "code",
      "source": [
        "def partialclass(cls, *args, **kwargs):\n",
        "    class NewCls(cls):\n",
        "        __init__ = functools.partialmethod(cls.__init__, *args, **kwargs)\n",
        "\n",
        "    return NewCls"
      ],
      "metadata": {
        "id": "U_pt5d_kXQmN"
      },
      "execution_count": null,
      "outputs": []
    },
    {
      "cell_type": "code",
      "source": [
        "def download_file(url, dest):\n",
        "    with requests.get(url, stream=True) as r:\n",
        "        r.raise_for_status()\n",
        "        with open(dest, 'wb') as f:\n",
        "            for chunk in tqdm.tqdm(r.iter_content(chunk_size=8192), desc=\"Downloading\"):\n",
        "                #if chunk: \n",
        "                f.write(chunk)\n",
        "    return"
      ],
      "metadata": {
        "id": "ayuFrYSZEmuT"
      },
      "execution_count": null,
      "outputs": []
    },
    {
      "cell_type": "code",
      "source": [
        "class EmoticNet(torch.nn.Module):\n",
        "    def __init__(self):\n",
        "        super().__init__()\n",
        "        self._load_body_tail()\n",
        "        self._load_context_tail()\n",
        "        self.fusion_block = torch.nn.Sequential(collections.OrderedDict([\n",
        "            (\"fusion_fc\", torch.nn.Linear(self.context_out_size+ self.body_out_size, 256)),\n",
        "            (\"fusion_batchnorm\", torch.nn.BatchNorm1d(256)),\n",
        "            (\"fusion_act\", torch.nn.ReLU(inplace=True)),\n",
        "            (\"fusion_dropout\", torch.nn.Dropout(p=0.5)),\n",
        "        ]))\n",
        "        self.emotion_dense = torch.nn.Linear(256, 26)\n",
        "        self.vad_dense = torch.nn.Linear(256, 3)\n",
        "\n",
        "        for p in self.parameters():\n",
        "            p.requires_grad_ = True\n",
        "\n",
        "    def _load_context_tail(self):\n",
        "        pickle.load = functools.partial(pickle.load, encoding=\"latin1\")\n",
        "        unpickler_orig = pickle.Unpickler\n",
        "        pickle.Unpickler = partialclass(pickle.Unpickler, encoding=\"latin1\")\n",
        "        checkpoint_file = pathlib.Path(torch.hub.get_dir()) / \"checkpoints\" / \"resnet18_places365.pth.tar\"\n",
        "        if not checkpoint_file.is_file():\n",
        "            download_file(\"http://places2.csail.mit.edu/models_places365/resnet18_places365.pth.tar\", checkpoint_file)\n",
        "        context_tail = torch.load(checkpoint_file, map_location=lambda storage, loc: storage, pickle_module=pickle)\n",
        "        torch.save(context_tail, pathlib.Path(torch.hub.get_dir()) / \"checkpoints\" / \"resnet.pth.tar\")\n",
        "        context_tail = torchvision.models.resnet18(num_classes=365)\n",
        "        checkpoint = torch.load(pathlib.Path(torch.hub.get_dir()) / \"checkpoints\" / \"resnet.pth.tar\", map_location=lambda storage, loc: storage)\n",
        "        state_dict = {str.replace(k, \"module.\", \"\"): v for k, v in checkpoint[\"state_dict\"].items()}\n",
        "        context_tail.load_state_dict(state_dict)\n",
        "        context_tail.eval()\n",
        "        self.context_out_size = list(context_tail.children())[-1].in_features\n",
        "        context_tail = torch.nn.Sequential(*(list(context_tail.children())[:-1]))\n",
        "        context_tail.add_module(\"flatten\", torch.nn.Flatten())\n",
        "        self.context_tail = context_tail\n",
        "        pickle.load = pickle.load.func\n",
        "        pickle.Unpickler = unpickler_orig\n",
        "\n",
        "    def _load_body_tail(self):\n",
        "        body_tail = torchvision.models.resnet18(pretrained=True)\n",
        "        body_tail = body_tail.cpu()\n",
        "        self.body_out_size = list(body_tail.children())[-1].in_features\n",
        "        body_tail = torch.nn.Sequential(*(list(body_tail.children())[:-1]))\n",
        "        body_tail.add_module(\"flatten\", torch.nn.Flatten())\n",
        "        self.body_tail = body_tail\n",
        "\n",
        "    def _apply(self, fn):\n",
        "        # required to move tails to the same device as the fusion block and heads\n",
        "        super()._apply(fn)\n",
        "        self.context_tail._apply(fn)\n",
        "        self.body_tail._apply(fn)\n",
        "        return self\n",
        "\n",
        "    def forward(self, context, body):\n",
        "        features_context = self.context_tail(context)\n",
        "        features_body = self.body_tail(body)\n",
        "        fused = torch.cat((features_context, features_body), 1)\n",
        "        fused_out = self.fusion_block(fused)\n",
        "        emotions = self.emotion_dense(fused_out)\n",
        "        vad = self.vad_dense(fused_out)\n",
        "        return emotions, vad"
      ],
      "metadata": {
        "id": "4bAmaUZervtt"
      },
      "execution_count": null,
      "outputs": []
    },
    {
      "cell_type": "code",
      "source": [
        "model = EmoticNet().to(DEVICE)"
      ],
      "metadata": {
        "id": "_b85KrDZ9ZH_"
      },
      "execution_count": null,
      "outputs": []
    },
    {
      "cell_type": "code",
      "source": [
        "torchinfo.summary(model, ((BATCH_SIZE, 3, CONTEXT_IMAGE_SIZE, CONTEXT_IMAGE_SIZE), (BATCH_SIZE, 3, BODY_IMAGE_SIZE, BODY_IMAGE_SIZE)))"
      ],
      "metadata": {
        "id": "bGDRGrgTWo2G"
      },
      "execution_count": null,
      "outputs": []
    },
    {
      "cell_type": "code",
      "source": [
        "!nvidia-smi"
      ],
      "metadata": {
        "id": "v6aSBYRq5W_1"
      },
      "execution_count": null,
      "outputs": []
    },
    {
      "cell_type": "markdown",
      "source": [
        "## Loss definition"
      ],
      "metadata": {
        "id": "uT64MRafiXsM"
      }
    },
    {
      "cell_type": "code",
      "source": [
        "class EmoticLoss(torch.nn.Module):\n",
        "    def __init__(self, weight_type=\"mean\", margin=1, ratio=0.5, shift=1.2, smooth=1e-4, vad_loss_type=\"sl1\", device=torch.device(\"cpu\")):\n",
        "        super().__init__()\n",
        "        self.weight_type = weight_type\n",
        "        self.margin = margin\n",
        "        self.ratio = ratio\n",
        "        self.shift = shift\n",
        "        self.smooth = smooth\n",
        "        self.device = device\n",
        "        self.vad_loss_type = vad_loss_type\n",
        "        if self.weight_type == \"mean\":\n",
        "            self.weights = torch.ones((1, 26)) / 26.0\n",
        "            self.weights = self.weights.to(self.device)\n",
        "        elif self.weight_type == \"static\":\n",
        "            self.weights = torch.FloatTensor([0.1435, 0.1870, 0.1692, 0.1165, 0.1949, 0.1204, 0.1728, 0.1372, 0.1620,\n",
        "                                              0.1540, 0.1987, 0.1057, 0.1482, 0.1192, 0.1590, 0.1929, 0.1158, 0.1907,\n",
        "                                              0.1345, 0.1307, 0.1665, 0.1698, 0.1797, 0.1657, 0.1520, 0.1537]).unsqueeze(0)\n",
        "            self.weights = self.weights.to(self.device)\n",
        "\n",
        "    def _create_dynamic_weights(self, target):\n",
        "        target_stats = torch.sum(target, dim=0).float().unsqueeze(dim=0).cpu()\n",
        "        weights = torch.zeros((1, 26))\n",
        "        weights[target_stats != 0] = 1.0 / torch.log(target_stats[target_stats != 0].data + self.shift)\n",
        "        weights[target_stats == 0] = self.smooth\n",
        "        return weights\n",
        "\n",
        "    def _emotions_loss(self, pred, target):\n",
        "        if self.weight_type == \"dynamic\":\n",
        "            self.weights = self._create_dynamic_weights(target)\n",
        "            self.weights = self.weights.to(self.device)\n",
        "        return (((pred - target) ** 2) * self.weights).sum()\n",
        "\n",
        "    def _vad_loss_sl1(self, pred, target):\n",
        "        mae = torch.abs(pred - target)\n",
        "        loss = 0.5 * (mae ** 2)\n",
        "        loss[(mae > self.margin)] = mae[(mae > self.margin)] - 0.5\n",
        "        return loss.sum()\n",
        "\n",
        "    def _vad_loss_l2(self, pred, target):\n",
        "        mae = torch.abs(pred - target)\n",
        "        loss = mae ** 2\n",
        "        loss[(mae < self.margin)] = 0.0\n",
        "        return loss.sum()\n",
        "\n",
        "    \n",
        "    def forward(self, pred_emotions, target_emotions, pred_vad, target_vad):\n",
        "        emotions_loss = self._emotions_loss(pred_emotions, target_emotions)\n",
        "        if self.vad_loss_type == \"sl1\":\n",
        "            vad_loss = self._vad_loss_sl1(pred_vad, target_vad)\n",
        "        else:\n",
        "            vad_loss = self._vad_loss_l2(pred_vad, target_vad)\n",
        "        return emotions_loss * self.ratio + vad_loss * (1 - self.ratio)"
      ],
      "metadata": {
        "id": "vwuNOPjviW8s"
      },
      "execution_count": null,
      "outputs": []
    },
    {
      "cell_type": "markdown",
      "source": [
        "## Training loop"
      ],
      "metadata": {
        "id": "ki11f8zgnSvw"
      }
    },
    {
      "cell_type": "code",
      "source": [
        "def fit_epoch(model, loader, optimizer, criterion, epoch, epochs, device=DEVICE):\n",
        "    losses = []\n",
        "    model.train()\n",
        "    for context, body, emotions, vad_scores in tqdm.tqdm(loader, desc=f\"Training, epoch {epoch + 1} / {epochs}\", unit=\"batches\", unit_scale=False):\n",
        "        try:\n",
        "            context, body, emotions, vad_scores = context.to(device), body.to(device), emotions.to(device), vad_scores.to(device)\n",
        "            optimizer.zero_grad()\n",
        "            pred_emotions, pred_vad = model(context, body)\n",
        "            loss = criterion(pred_emotions, emotions, pred_vad * 10, vad_scores * 10)\n",
        "            loss.backward()\n",
        "            losses.append(loss.item())\n",
        "            optimizer.step()\n",
        "            pred_emotions, pred_vad = pred_emotions.cpu(), pred_vad.cpu()\n",
        "            del pred_emotions, pred_vad\n",
        "        finally:\n",
        "            context, body, emotions, vad_scores = context.cpu(), body.cpu(), emotions.cpu(), vad_scores.cpu()\n",
        "            del context, body, emotions, vad_scores\n",
        "    \n",
        "    torch.cuda.synchronize()\n",
        "    torch.cuda.empty_cache()\n",
        "    return np.mean(losses)\n",
        "\n",
        "def eval_epoch(model, loader, criterion, epoch, epochs, device=DEVICE):\n",
        "    losses = []\n",
        "    scores = []\n",
        "    model.eval()\n",
        "    for context, body, emotions, vad_scores in tqdm.tqdm(loader, desc=f\"Validating, epoch {epoch + 1} / {epochs}\", unit=\"batches\", unit_scale=False):\n",
        "        try:\n",
        "            context, body, emotions, vad_scores = context.to(device), body.to(device), emotions.to(device), vad_scores.to(device)\n",
        "            with torch.no_grad():\n",
        "                pred_emotions, pred_vad = model(context, body)\n",
        "                loss = criterion(pred_emotions, emotions, pred_vad * 10, vad_scores * 10)\n",
        "            losses.append(loss.item())\n",
        "            pred_emotions, pred_vad = pred_emotions.cpu(), pred_vad.cpu()\n",
        "            emotion_jaccard = sklearn.metrics.jaccard_score(emotions.cpu().numpy(), (pred_emotions > 0.5).to(int), average=\"samples\")\n",
        "            scores.append(emotion_jaccard)\n",
        "            del pred_emotions, pred_vad\n",
        "        finally:\n",
        "            context, body, emotions, vad_scores = context.cpu(), body.cpu(), emotions.cpu(), vad_scores.cpu()\n",
        "            del context, body, emotions, vad_scores\n",
        "\n",
        "    torch.cuda.synchronize()\n",
        "    torch.cuda.empty_cache()\n",
        "    return np.mean(losses), np.mean(scores)\n",
        "\n",
        "def fit(model, train_loader, val_loader, optimizer, criterion, epochs, scheduler=None, device=DEVICE, start_epoch=0):\n",
        "    history = []\n",
        "    start_time = time.time()\n",
        "    with tqdm.tqdm(desc=\"Epoch\", total=epochs, unit=\"epoch\", unit_scale=False) as pbar:\n",
        "        for epoch in range(start_epoch, epochs):\n",
        "            try:\n",
        "                train_loss = fit_epoch(model, train_loader, optimizer, criterion, epoch, epochs, device)\n",
        "                val_loss, scores = eval_epoch(model, val_loader, criterion, epoch, epochs, device)\n",
        "                IPython.display.clear_output(wait=True)\n",
        "\n",
        "                history.append((train_loss, val_loss, scores, optimizer.param_groups[0][\"lr\"]))\n",
        "\n",
        "                if scheduler is not None:\n",
        "                    scheduler.step()\n",
        "\n",
        "                show_train_pics(model, val_loader, epoch, history[-1], device)\n",
        "\n",
        "                pbar.update(1)\n",
        "                pbar.refresh()\n",
        "\n",
        "            except KeyboardInterrupt as stop:\n",
        "                tqdm.tqdm.write(f\"Training interrupted at epoch {epoch + 1}, returning history\")\n",
        "                return history\n",
        "\n",
        "    end_time = time.time()\n",
        "    train_time = end_time - start_time\n",
        "    tqdm.tqdm.write(f\"Training time: {train_time: 0.1f}\")\n",
        "\n",
        "    return history\n",
        "\n",
        "def denormalize_image(image, norm_params):\n",
        "    return image * norm_params[\"std\"][0] + norm_params[\"mean\"][0]\n",
        "\n",
        "def show_train_pics(model, val_loader, epoch, epoch_stats, device=DEVICE, sample_size=4):\n",
        "    plt.figure(figsize=(20, 20))\n",
        "    header = \"Validation results on epoch {ep:03d}\\n\\\n",
        "    Train loss: {t_loss: 0.4f}, validation loss: {v_loss: 0.4f}, Jaccard score: {j_score: 0.4f}\"\n",
        "    contexts, bodies, _, _ = next(iter(val_loader))\n",
        "    contexts, bodies = contexts[:sample_size], bodies[:sample_size]\n",
        "    contexts, bodies = contexts.to(device), bodies.to(device)\n",
        "    with torch.no_grad():\n",
        "        emotions, vad_scores = model(contexts, bodies)\n",
        "        emotion_labels = dataset.get_emotion_name(emotions.gt(torch.full_like(emotions, 0.5)).cpu())\n",
        "        vad_scores *= 10\n",
        "    for i in range(sample_size):\n",
        "        plt.subplot(sample_size, 1, i + 1)\n",
        "        plt.imshow(np.clip(denormalize_image(bodies[i].cpu(), BODY_NORM).permute(1, 2, 0).numpy(), 0, 1))\n",
        "        plt.title(f\"Emotions: {emotion_labels[i]}, VAD scores: {vad_scores[i].cpu().tolist()}\")\n",
        "        plt.axis(\"off\")\n",
        "    plt.suptitle(header.format(ep=epoch + 1, t_loss=epoch_stats[0], v_loss=epoch_stats[1], j_score=epoch_stats[2]))\n",
        "    plt.show()\n",
        "    contexts, bodies, emotions, vad_scores = contexts.cpu(), bodies.cpu(), emotions.cpu(), vad_scores.cpu()\n",
        "    del contexts, bodies, emotions, vad_scores\n",
        "    torch.cuda.synchronize()\n",
        "    torch.cuda.empty_cache()"
      ],
      "metadata": {
        "id": "INVh8UDgjTDl"
      },
      "execution_count": null,
      "outputs": []
    },
    {
      "cell_type": "code",
      "source": [
        "def plot_loss(history):\n",
        "  loss, val_loss, _, _ = zip(*history)\n",
        "  plt.figure(figsize=(15, 9))\n",
        "  plt.plot(loss, label=\"Train loss\")\n",
        "  plt.plot(val_loss, label=\"Validation loss\")\n",
        "  plt.legend(loc=\"best\")\n",
        "  plt.xlabel(\"Epochs\")\n",
        "  plt.ylabel(\"Loss\")\n",
        "  plt.show()\n",
        "\n",
        "def plot_metrics(history):\n",
        "  _, _, val_metric, _ = zip(*history)\n",
        "  plt.figure(figsize=(15, 9))\n",
        "  plt.plot(val_metric, label=\"Jaccard score\")\n",
        "  plt.legend(loc=\"best\")\n",
        "  plt.xlabel(\"Epochs\")\n",
        "  plt.ylabel(\"Score\")\n",
        "  plt.show()\n",
        "\n",
        "def plot_learn_rate(history):\n",
        "  _, _, _, learn_rate = zip(*history)\n",
        "  plt.figure(figsize=(15, 9))\n",
        "  plt.plot(learn_rate, label=\"Learn rate\")\n",
        "  plt.legend(loc=\"best\")\n",
        "  plt.xlabel(\"Epochs\")\n",
        "  plt.ylabel(\"Learn rate\")\n",
        "  plt.show()"
      ],
      "metadata": {
        "id": "mAcSSW0hzd44"
      },
      "execution_count": null,
      "outputs": []
    },
    {
      "cell_type": "code",
      "source": [
        "def load_model(path, model_arch, optim_class, optim_kwargs):\n",
        "  model = model_arch()\n",
        "  checkpoint = torch.load(path)\n",
        "  model.load_state_dict(checkpoint[\"model_state_dict\"])\n",
        "  optim = optim_class(model.parameters(), **optim_kwargs)\n",
        "  optim.load_state_dict(checkpoint[\"optim_state_dict\"])\n",
        "  epoch = checkpoint[\"epoch\"]\n",
        "  loss = checkpoint[\"loss\"]\n",
        "  history = checkpoint[\"history\"]\n",
        "  model.eval()\n",
        "  return model, optim, epoch, loss, history"
      ],
      "metadata": {
        "id": "pPYQLDHA46it"
      },
      "execution_count": null,
      "outputs": []
    },
    {
      "cell_type": "code",
      "source": [
        "def save_history(path, history):\n",
        "  with open(path, \"wb\") as f:\n",
        "    pickle.dump(history, f)"
      ],
      "metadata": {
        "id": "rjP-aTUG48iX"
      },
      "execution_count": null,
      "outputs": []
    },
    {
      "cell_type": "code",
      "source": [
        "def load_history(path):\n",
        "  with open(path, \"rb\") as f:\n",
        "    history = pickle.load(f)\n",
        "  \n",
        "  return history"
      ],
      "metadata": {
        "id": "ZV3JaB8149pq"
      },
      "execution_count": null,
      "outputs": []
    },
    {
      "cell_type": "markdown",
      "source": [
        "## Training the model"
      ],
      "metadata": {
        "id": "mltEnCzf5P7I"
      }
    },
    {
      "cell_type": "code",
      "source": [
        "optimizer = torch.optim.Adam(model.parameters(), lr=1e-3, weight_decay=5e-4)\n",
        "scheduler = torch.optim.lr_scheduler.StepLR(optimizer, step_size=7, gamma=0.1)\n",
        "criterion = EmoticLoss(device=DEVICE)"
      ],
      "metadata": {
        "id": "qYvl_kqe5Td4"
      },
      "execution_count": null,
      "outputs": []
    },
    {
      "cell_type": "code",
      "source": [
        "history = fit(model, trainloader, valloader, optimizer, criterion, 50, scheduler=scheduler, device=DEVICE)"
      ],
      "metadata": {
        "id": "3jx3mGd_6UHD"
      },
      "execution_count": null,
      "outputs": []
    },
    {
      "cell_type": "code",
      "source": [
        "plot_loss(history)"
      ],
      "metadata": {
        "id": "2XIld4tp6orS"
      },
      "execution_count": null,
      "outputs": []
    },
    {
      "cell_type": "code",
      "source": [
        "plot_metrics(history)"
      ],
      "metadata": {
        "id": "2GwnCfLb6u1o"
      },
      "execution_count": null,
      "outputs": []
    },
    {
      "cell_type": "code",
      "source": [
        "plot_learn_rate(history)"
      ],
      "metadata": {
        "id": "-ZSX7JSo6xNK"
      },
      "execution_count": null,
      "outputs": []
    },
    {
      "cell_type": "code",
      "source": [
        "save_model(model, \"model.tar\")"
      ],
      "metadata": {
        "id": "RE__IDUokXC3"
      },
      "execution_count": null,
      "outputs": []
    },
    {
      "cell_type": "code",
      "source": [
        "!cp model.tar /content/drive/MyDrive"
      ],
      "metadata": {
        "id": "kSnOoMSykiAe"
      },
      "execution_count": null,
      "outputs": []
    },
    {
      "cell_type": "markdown",
      "source": [
        "*Will write model scoring later*"
      ],
      "metadata": {
        "id": "EA_7WM1C63r2"
      }
    }
  ]
}