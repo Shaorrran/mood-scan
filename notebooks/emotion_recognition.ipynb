{
  "nbformat": 4,
  "nbformat_minor": 0,
  "metadata": {
    "colab": {
      "name": "emotion_recognition.ipynb",
      "provenance": [],
      "collapsed_sections": []
    },
    "kernelspec": {
      "name": "python3",
      "display_name": "Python 3"
    },
    "language_info": {
      "name": "python"
    },
    "widgets": {
      "application/vnd.jupyter.widget-state+json": {
        "a2d7f1ea1af344169017a95aa233babf": {
          "model_module": "@jupyter-widgets/controls",
          "model_name": "HBoxModel",
          "model_module_version": "1.5.0",
          "state": {
            "_dom_classes": [],
            "_model_module": "@jupyter-widgets/controls",
            "_model_module_version": "1.5.0",
            "_model_name": "HBoxModel",
            "_view_count": null,
            "_view_module": "@jupyter-widgets/controls",
            "_view_module_version": "1.5.0",
            "_view_name": "HBoxView",
            "box_style": "",
            "children": [
              "IPY_MODEL_dd1524601ceb44c09ab7063c4d87656b",
              "IPY_MODEL_956d7e4d4d6d4a27a50b8748b17f6228",
              "IPY_MODEL_1796915b9ca54c46929c8a99fc74e57c"
            ],
            "layout": "IPY_MODEL_18f98487e8b54e3bb7165a4459d257ba"
          }
        },
        "dd1524601ceb44c09ab7063c4d87656b": {
          "model_module": "@jupyter-widgets/controls",
          "model_name": "HTMLModel",
          "model_module_version": "1.5.0",
          "state": {
            "_dom_classes": [],
            "_model_module": "@jupyter-widgets/controls",
            "_model_module_version": "1.5.0",
            "_model_name": "HTMLModel",
            "_view_count": null,
            "_view_module": "@jupyter-widgets/controls",
            "_view_module_version": "1.5.0",
            "_view_name": "HTMLView",
            "description": "",
            "description_tooltip": null,
            "layout": "IPY_MODEL_7f7a8718c62241c8a8186f60b040f3a7",
            "placeholder": "​",
            "style": "IPY_MODEL_f8ca4ed3767949e9b240ac3a1b099548",
            "value": "Extracting files: 100%"
          }
        },
        "956d7e4d4d6d4a27a50b8748b17f6228": {
          "model_module": "@jupyter-widgets/controls",
          "model_name": "FloatProgressModel",
          "model_module_version": "1.5.0",
          "state": {
            "_dom_classes": [],
            "_model_module": "@jupyter-widgets/controls",
            "_model_module_version": "1.5.0",
            "_model_name": "FloatProgressModel",
            "_view_count": null,
            "_view_module": "@jupyter-widgets/controls",
            "_view_module_version": "1.5.0",
            "_view_name": "ProgressView",
            "bar_style": "success",
            "description": "",
            "description_tooltip": null,
            "layout": "IPY_MODEL_4c733fb31875478b97e6938b6e9e2bda",
            "max": 19,
            "min": 0,
            "orientation": "horizontal",
            "style": "IPY_MODEL_aab0de13507e490681501fb99e9744fb",
            "value": 19
          }
        },
        "1796915b9ca54c46929c8a99fc74e57c": {
          "model_module": "@jupyter-widgets/controls",
          "model_name": "HTMLModel",
          "model_module_version": "1.5.0",
          "state": {
            "_dom_classes": [],
            "_model_module": "@jupyter-widgets/controls",
            "_model_module_version": "1.5.0",
            "_model_name": "HTMLModel",
            "_view_count": null,
            "_view_module": "@jupyter-widgets/controls",
            "_view_module_version": "1.5.0",
            "_view_name": "HTMLView",
            "description": "",
            "description_tooltip": null,
            "layout": "IPY_MODEL_71be90a06f944760ac21305a68d7b914",
            "placeholder": "​",
            "style": "IPY_MODEL_1c8f1fbfb95c47b8aec1cda6828ce45d",
            "value": " 19/19 [00:00&lt;00:00, 200.80files/s]"
          }
        },
        "18f98487e8b54e3bb7165a4459d257ba": {
          "model_module": "@jupyter-widgets/base",
          "model_name": "LayoutModel",
          "model_module_version": "1.2.0",
          "state": {
            "_model_module": "@jupyter-widgets/base",
            "_model_module_version": "1.2.0",
            "_model_name": "LayoutModel",
            "_view_count": null,
            "_view_module": "@jupyter-widgets/base",
            "_view_module_version": "1.2.0",
            "_view_name": "LayoutView",
            "align_content": null,
            "align_items": null,
            "align_self": null,
            "border": null,
            "bottom": null,
            "display": null,
            "flex": null,
            "flex_flow": null,
            "grid_area": null,
            "grid_auto_columns": null,
            "grid_auto_flow": null,
            "grid_auto_rows": null,
            "grid_column": null,
            "grid_gap": null,
            "grid_row": null,
            "grid_template_areas": null,
            "grid_template_columns": null,
            "grid_template_rows": null,
            "height": null,
            "justify_content": null,
            "justify_items": null,
            "left": null,
            "margin": null,
            "max_height": null,
            "max_width": null,
            "min_height": null,
            "min_width": null,
            "object_fit": null,
            "object_position": null,
            "order": null,
            "overflow": null,
            "overflow_x": null,
            "overflow_y": null,
            "padding": null,
            "right": null,
            "top": null,
            "visibility": null,
            "width": null
          }
        },
        "7f7a8718c62241c8a8186f60b040f3a7": {
          "model_module": "@jupyter-widgets/base",
          "model_name": "LayoutModel",
          "model_module_version": "1.2.0",
          "state": {
            "_model_module": "@jupyter-widgets/base",
            "_model_module_version": "1.2.0",
            "_model_name": "LayoutModel",
            "_view_count": null,
            "_view_module": "@jupyter-widgets/base",
            "_view_module_version": "1.2.0",
            "_view_name": "LayoutView",
            "align_content": null,
            "align_items": null,
            "align_self": null,
            "border": null,
            "bottom": null,
            "display": null,
            "flex": null,
            "flex_flow": null,
            "grid_area": null,
            "grid_auto_columns": null,
            "grid_auto_flow": null,
            "grid_auto_rows": null,
            "grid_column": null,
            "grid_gap": null,
            "grid_row": null,
            "grid_template_areas": null,
            "grid_template_columns": null,
            "grid_template_rows": null,
            "height": null,
            "justify_content": null,
            "justify_items": null,
            "left": null,
            "margin": null,
            "max_height": null,
            "max_width": null,
            "min_height": null,
            "min_width": null,
            "object_fit": null,
            "object_position": null,
            "order": null,
            "overflow": null,
            "overflow_x": null,
            "overflow_y": null,
            "padding": null,
            "right": null,
            "top": null,
            "visibility": null,
            "width": null
          }
        },
        "f8ca4ed3767949e9b240ac3a1b099548": {
          "model_module": "@jupyter-widgets/controls",
          "model_name": "DescriptionStyleModel",
          "model_module_version": "1.5.0",
          "state": {
            "_model_module": "@jupyter-widgets/controls",
            "_model_module_version": "1.5.0",
            "_model_name": "DescriptionStyleModel",
            "_view_count": null,
            "_view_module": "@jupyter-widgets/base",
            "_view_module_version": "1.2.0",
            "_view_name": "StyleView",
            "description_width": ""
          }
        },
        "4c733fb31875478b97e6938b6e9e2bda": {
          "model_module": "@jupyter-widgets/base",
          "model_name": "LayoutModel",
          "model_module_version": "1.2.0",
          "state": {
            "_model_module": "@jupyter-widgets/base",
            "_model_module_version": "1.2.0",
            "_model_name": "LayoutModel",
            "_view_count": null,
            "_view_module": "@jupyter-widgets/base",
            "_view_module_version": "1.2.0",
            "_view_name": "LayoutView",
            "align_content": null,
            "align_items": null,
            "align_self": null,
            "border": null,
            "bottom": null,
            "display": null,
            "flex": null,
            "flex_flow": null,
            "grid_area": null,
            "grid_auto_columns": null,
            "grid_auto_flow": null,
            "grid_auto_rows": null,
            "grid_column": null,
            "grid_gap": null,
            "grid_row": null,
            "grid_template_areas": null,
            "grid_template_columns": null,
            "grid_template_rows": null,
            "height": null,
            "justify_content": null,
            "justify_items": null,
            "left": null,
            "margin": null,
            "max_height": null,
            "max_width": null,
            "min_height": null,
            "min_width": null,
            "object_fit": null,
            "object_position": null,
            "order": null,
            "overflow": null,
            "overflow_x": null,
            "overflow_y": null,
            "padding": null,
            "right": null,
            "top": null,
            "visibility": null,
            "width": null
          }
        },
        "aab0de13507e490681501fb99e9744fb": {
          "model_module": "@jupyter-widgets/controls",
          "model_name": "ProgressStyleModel",
          "model_module_version": "1.5.0",
          "state": {
            "_model_module": "@jupyter-widgets/controls",
            "_model_module_version": "1.5.0",
            "_model_name": "ProgressStyleModel",
            "_view_count": null,
            "_view_module": "@jupyter-widgets/base",
            "_view_module_version": "1.2.0",
            "_view_name": "StyleView",
            "bar_color": null,
            "description_width": ""
          }
        },
        "71be90a06f944760ac21305a68d7b914": {
          "model_module": "@jupyter-widgets/base",
          "model_name": "LayoutModel",
          "model_module_version": "1.2.0",
          "state": {
            "_model_module": "@jupyter-widgets/base",
            "_model_module_version": "1.2.0",
            "_model_name": "LayoutModel",
            "_view_count": null,
            "_view_module": "@jupyter-widgets/base",
            "_view_module_version": "1.2.0",
            "_view_name": "LayoutView",
            "align_content": null,
            "align_items": null,
            "align_self": null,
            "border": null,
            "bottom": null,
            "display": null,
            "flex": null,
            "flex_flow": null,
            "grid_area": null,
            "grid_auto_columns": null,
            "grid_auto_flow": null,
            "grid_auto_rows": null,
            "grid_column": null,
            "grid_gap": null,
            "grid_row": null,
            "grid_template_areas": null,
            "grid_template_columns": null,
            "grid_template_rows": null,
            "height": null,
            "justify_content": null,
            "justify_items": null,
            "left": null,
            "margin": null,
            "max_height": null,
            "max_width": null,
            "min_height": null,
            "min_width": null,
            "object_fit": null,
            "object_position": null,
            "order": null,
            "overflow": null,
            "overflow_x": null,
            "overflow_y": null,
            "padding": null,
            "right": null,
            "top": null,
            "visibility": null,
            "width": null
          }
        },
        "1c8f1fbfb95c47b8aec1cda6828ce45d": {
          "model_module": "@jupyter-widgets/controls",
          "model_name": "DescriptionStyleModel",
          "model_module_version": "1.5.0",
          "state": {
            "_model_module": "@jupyter-widgets/controls",
            "_model_module_version": "1.5.0",
            "_model_name": "DescriptionStyleModel",
            "_view_count": null,
            "_view_module": "@jupyter-widgets/base",
            "_view_module_version": "1.2.0",
            "_view_name": "StyleView",
            "description_width": ""
          }
        },
        "d108a8e21dc847e1949c924dcc226935": {
          "model_module": "@jupyter-widgets/controls",
          "model_name": "HBoxModel",
          "model_module_version": "1.5.0",
          "state": {
            "_dom_classes": [],
            "_model_module": "@jupyter-widgets/controls",
            "_model_module_version": "1.5.0",
            "_model_name": "HBoxModel",
            "_view_count": null,
            "_view_module": "@jupyter-widgets/controls",
            "_view_module_version": "1.5.0",
            "_view_name": "HBoxView",
            "box_style": "",
            "children": [
              "IPY_MODEL_eaa38f60d279408ba4ea8aef5dc9610d",
              "IPY_MODEL_4e591f8eb1fd4e9b99322a23da391ca4",
              "IPY_MODEL_1738b65803af44a68b65ac3c6661bb48"
            ],
            "layout": "IPY_MODEL_56adb59c9cf74dd5ae3ed6f00a06f3b2"
          }
        },
        "eaa38f60d279408ba4ea8aef5dc9610d": {
          "model_module": "@jupyter-widgets/controls",
          "model_name": "HTMLModel",
          "model_module_version": "1.5.0",
          "state": {
            "_dom_classes": [],
            "_model_module": "@jupyter-widgets/controls",
            "_model_module_version": "1.5.0",
            "_model_name": "HTMLModel",
            "_view_count": null,
            "_view_module": "@jupyter-widgets/controls",
            "_view_module_version": "1.5.0",
            "_view_name": "HTMLView",
            "description": "",
            "description_tooltip": null,
            "layout": "IPY_MODEL_8cca40ba2e7f4acaad2b9d7e1897ef4b",
            "placeholder": "​",
            "style": "IPY_MODEL_415d589f29c14b8881c6c34a19f56073",
            "value": "Converting annotations: 100%"
          }
        },
        "4e591f8eb1fd4e9b99322a23da391ca4": {
          "model_module": "@jupyter-widgets/controls",
          "model_name": "FloatProgressModel",
          "model_module_version": "1.5.0",
          "state": {
            "_dom_classes": [],
            "_model_module": "@jupyter-widgets/controls",
            "_model_module_version": "1.5.0",
            "_model_name": "FloatProgressModel",
            "_view_count": null,
            "_view_module": "@jupyter-widgets/controls",
            "_view_module_version": "1.5.0",
            "_view_name": "ProgressView",
            "bar_style": "success",
            "description": "",
            "description_tooltip": null,
            "layout": "IPY_MODEL_4338ed80632b4294bff2250e0378d41a",
            "max": 17077,
            "min": 0,
            "orientation": "horizontal",
            "style": "IPY_MODEL_d3710c45ad9c4764b9152c2a5417a3c5",
            "value": 17077
          }
        },
        "1738b65803af44a68b65ac3c6661bb48": {
          "model_module": "@jupyter-widgets/controls",
          "model_name": "HTMLModel",
          "model_module_version": "1.5.0",
          "state": {
            "_dom_classes": [],
            "_model_module": "@jupyter-widgets/controls",
            "_model_module_version": "1.5.0",
            "_model_name": "HTMLModel",
            "_view_count": null,
            "_view_module": "@jupyter-widgets/controls",
            "_view_module_version": "1.5.0",
            "_view_name": "HTMLView",
            "description": "",
            "description_tooltip": null,
            "layout": "IPY_MODEL_4b6c1de3328c4b34a667494168f97562",
            "placeholder": "​",
            "style": "IPY_MODEL_75cc0c5451004336a95e92769a7e8fe0",
            "value": " 17077/17077 [00:04&lt;00:00, 4103.81files/s]"
          }
        },
        "56adb59c9cf74dd5ae3ed6f00a06f3b2": {
          "model_module": "@jupyter-widgets/base",
          "model_name": "LayoutModel",
          "model_module_version": "1.2.0",
          "state": {
            "_model_module": "@jupyter-widgets/base",
            "_model_module_version": "1.2.0",
            "_model_name": "LayoutModel",
            "_view_count": null,
            "_view_module": "@jupyter-widgets/base",
            "_view_module_version": "1.2.0",
            "_view_name": "LayoutView",
            "align_content": null,
            "align_items": null,
            "align_self": null,
            "border": null,
            "bottom": null,
            "display": null,
            "flex": null,
            "flex_flow": null,
            "grid_area": null,
            "grid_auto_columns": null,
            "grid_auto_flow": null,
            "grid_auto_rows": null,
            "grid_column": null,
            "grid_gap": null,
            "grid_row": null,
            "grid_template_areas": null,
            "grid_template_columns": null,
            "grid_template_rows": null,
            "height": null,
            "justify_content": null,
            "justify_items": null,
            "left": null,
            "margin": null,
            "max_height": null,
            "max_width": null,
            "min_height": null,
            "min_width": null,
            "object_fit": null,
            "object_position": null,
            "order": null,
            "overflow": null,
            "overflow_x": null,
            "overflow_y": null,
            "padding": null,
            "right": null,
            "top": null,
            "visibility": null,
            "width": null
          }
        },
        "8cca40ba2e7f4acaad2b9d7e1897ef4b": {
          "model_module": "@jupyter-widgets/base",
          "model_name": "LayoutModel",
          "model_module_version": "1.2.0",
          "state": {
            "_model_module": "@jupyter-widgets/base",
            "_model_module_version": "1.2.0",
            "_model_name": "LayoutModel",
            "_view_count": null,
            "_view_module": "@jupyter-widgets/base",
            "_view_module_version": "1.2.0",
            "_view_name": "LayoutView",
            "align_content": null,
            "align_items": null,
            "align_self": null,
            "border": null,
            "bottom": null,
            "display": null,
            "flex": null,
            "flex_flow": null,
            "grid_area": null,
            "grid_auto_columns": null,
            "grid_auto_flow": null,
            "grid_auto_rows": null,
            "grid_column": null,
            "grid_gap": null,
            "grid_row": null,
            "grid_template_areas": null,
            "grid_template_columns": null,
            "grid_template_rows": null,
            "height": null,
            "justify_content": null,
            "justify_items": null,
            "left": null,
            "margin": null,
            "max_height": null,
            "max_width": null,
            "min_height": null,
            "min_width": null,
            "object_fit": null,
            "object_position": null,
            "order": null,
            "overflow": null,
            "overflow_x": null,
            "overflow_y": null,
            "padding": null,
            "right": null,
            "top": null,
            "visibility": null,
            "width": null
          }
        },
        "415d589f29c14b8881c6c34a19f56073": {
          "model_module": "@jupyter-widgets/controls",
          "model_name": "DescriptionStyleModel",
          "model_module_version": "1.5.0",
          "state": {
            "_model_module": "@jupyter-widgets/controls",
            "_model_module_version": "1.5.0",
            "_model_name": "DescriptionStyleModel",
            "_view_count": null,
            "_view_module": "@jupyter-widgets/base",
            "_view_module_version": "1.2.0",
            "_view_name": "StyleView",
            "description_width": ""
          }
        },
        "4338ed80632b4294bff2250e0378d41a": {
          "model_module": "@jupyter-widgets/base",
          "model_name": "LayoutModel",
          "model_module_version": "1.2.0",
          "state": {
            "_model_module": "@jupyter-widgets/base",
            "_model_module_version": "1.2.0",
            "_model_name": "LayoutModel",
            "_view_count": null,
            "_view_module": "@jupyter-widgets/base",
            "_view_module_version": "1.2.0",
            "_view_name": "LayoutView",
            "align_content": null,
            "align_items": null,
            "align_self": null,
            "border": null,
            "bottom": null,
            "display": null,
            "flex": null,
            "flex_flow": null,
            "grid_area": null,
            "grid_auto_columns": null,
            "grid_auto_flow": null,
            "grid_auto_rows": null,
            "grid_column": null,
            "grid_gap": null,
            "grid_row": null,
            "grid_template_areas": null,
            "grid_template_columns": null,
            "grid_template_rows": null,
            "height": null,
            "justify_content": null,
            "justify_items": null,
            "left": null,
            "margin": null,
            "max_height": null,
            "max_width": null,
            "min_height": null,
            "min_width": null,
            "object_fit": null,
            "object_position": null,
            "order": null,
            "overflow": null,
            "overflow_x": null,
            "overflow_y": null,
            "padding": null,
            "right": null,
            "top": null,
            "visibility": null,
            "width": null
          }
        },
        "d3710c45ad9c4764b9152c2a5417a3c5": {
          "model_module": "@jupyter-widgets/controls",
          "model_name": "ProgressStyleModel",
          "model_module_version": "1.5.0",
          "state": {
            "_model_module": "@jupyter-widgets/controls",
            "_model_module_version": "1.5.0",
            "_model_name": "ProgressStyleModel",
            "_view_count": null,
            "_view_module": "@jupyter-widgets/base",
            "_view_module_version": "1.2.0",
            "_view_name": "StyleView",
            "bar_color": null,
            "description_width": ""
          }
        },
        "4b6c1de3328c4b34a667494168f97562": {
          "model_module": "@jupyter-widgets/base",
          "model_name": "LayoutModel",
          "model_module_version": "1.2.0",
          "state": {
            "_model_module": "@jupyter-widgets/base",
            "_model_module_version": "1.2.0",
            "_model_name": "LayoutModel",
            "_view_count": null,
            "_view_module": "@jupyter-widgets/base",
            "_view_module_version": "1.2.0",
            "_view_name": "LayoutView",
            "align_content": null,
            "align_items": null,
            "align_self": null,
            "border": null,
            "bottom": null,
            "display": null,
            "flex": null,
            "flex_flow": null,
            "grid_area": null,
            "grid_auto_columns": null,
            "grid_auto_flow": null,
            "grid_auto_rows": null,
            "grid_column": null,
            "grid_gap": null,
            "grid_row": null,
            "grid_template_areas": null,
            "grid_template_columns": null,
            "grid_template_rows": null,
            "height": null,
            "justify_content": null,
            "justify_items": null,
            "left": null,
            "margin": null,
            "max_height": null,
            "max_width": null,
            "min_height": null,
            "min_width": null,
            "object_fit": null,
            "object_position": null,
            "order": null,
            "overflow": null,
            "overflow_x": null,
            "overflow_y": null,
            "padding": null,
            "right": null,
            "top": null,
            "visibility": null,
            "width": null
          }
        },
        "75cc0c5451004336a95e92769a7e8fe0": {
          "model_module": "@jupyter-widgets/controls",
          "model_name": "DescriptionStyleModel",
          "model_module_version": "1.5.0",
          "state": {
            "_model_module": "@jupyter-widgets/controls",
            "_model_module_version": "1.5.0",
            "_model_name": "DescriptionStyleModel",
            "_view_count": null,
            "_view_module": "@jupyter-widgets/base",
            "_view_module_version": "1.2.0",
            "_view_name": "StyleView",
            "description_width": ""
          }
        },
        "db6d87ceb47e4d43bad6bac937259f23": {
          "model_module": "@jupyter-widgets/controls",
          "model_name": "HBoxModel",
          "model_module_version": "1.5.0",
          "state": {
            "_dom_classes": [],
            "_model_module": "@jupyter-widgets/controls",
            "_model_module_version": "1.5.0",
            "_model_name": "HBoxModel",
            "_view_count": null,
            "_view_module": "@jupyter-widgets/controls",
            "_view_module_version": "1.5.0",
            "_view_name": "HBoxView",
            "box_style": "",
            "children": [
              "IPY_MODEL_d04b8a8b9921495085105636affdec63",
              "IPY_MODEL_37bf81812671491b9bb151236f5e8a2c",
              "IPY_MODEL_1f46ad3996f448b090060c4dbd05aa4c"
            ],
            "layout": "IPY_MODEL_c002192646e24479883dad4340404263"
          }
        },
        "d04b8a8b9921495085105636affdec63": {
          "model_module": "@jupyter-widgets/controls",
          "model_name": "HTMLModel",
          "model_module_version": "1.5.0",
          "state": {
            "_dom_classes": [],
            "_model_module": "@jupyter-widgets/controls",
            "_model_module_version": "1.5.0",
            "_model_name": "HTMLModel",
            "_view_count": null,
            "_view_module": "@jupyter-widgets/controls",
            "_view_module_version": "1.5.0",
            "_view_name": "HTMLView",
            "description": "",
            "description_tooltip": null,
            "layout": "IPY_MODEL_046c9a82ab54456d8dd69e8d0284a940",
            "placeholder": "​",
            "style": "IPY_MODEL_24e5e69d53244a858f8adf2a804a2911",
            "value": "100%"
          }
        },
        "37bf81812671491b9bb151236f5e8a2c": {
          "model_module": "@jupyter-widgets/controls",
          "model_name": "FloatProgressModel",
          "model_module_version": "1.5.0",
          "state": {
            "_dom_classes": [],
            "_model_module": "@jupyter-widgets/controls",
            "_model_module_version": "1.5.0",
            "_model_name": "FloatProgressModel",
            "_view_count": null,
            "_view_module": "@jupyter-widgets/controls",
            "_view_module_version": "1.5.0",
            "_view_name": "ProgressView",
            "bar_style": "success",
            "description": "",
            "description_tooltip": null,
            "layout": "IPY_MODEL_fe4aa0b4f91245328ffab2155c11d3ee",
            "max": 10306551,
            "min": 0,
            "orientation": "horizontal",
            "style": "IPY_MODEL_f9accaf15e1b4318b3ed1ecc5b0c8e67",
            "value": 10306551
          }
        },
        "1f46ad3996f448b090060c4dbd05aa4c": {
          "model_module": "@jupyter-widgets/controls",
          "model_name": "HTMLModel",
          "model_module_version": "1.5.0",
          "state": {
            "_dom_classes": [],
            "_model_module": "@jupyter-widgets/controls",
            "_model_module_version": "1.5.0",
            "_model_name": "HTMLModel",
            "_view_count": null,
            "_view_module": "@jupyter-widgets/controls",
            "_view_module_version": "1.5.0",
            "_view_name": "HTMLView",
            "description": "",
            "description_tooltip": null,
            "layout": "IPY_MODEL_8676162cfc6c4ea7b7b274937349a170",
            "placeholder": "​",
            "style": "IPY_MODEL_08a3f86bcb8d496986d38ec626533e2d",
            "value": " 9.83M/9.83M [00:00&lt;00:00, 14.6MB/s]"
          }
        },
        "c002192646e24479883dad4340404263": {
          "model_module": "@jupyter-widgets/base",
          "model_name": "LayoutModel",
          "model_module_version": "1.2.0",
          "state": {
            "_model_module": "@jupyter-widgets/base",
            "_model_module_version": "1.2.0",
            "_model_name": "LayoutModel",
            "_view_count": null,
            "_view_module": "@jupyter-widgets/base",
            "_view_module_version": "1.2.0",
            "_view_name": "LayoutView",
            "align_content": null,
            "align_items": null,
            "align_self": null,
            "border": null,
            "bottom": null,
            "display": null,
            "flex": null,
            "flex_flow": null,
            "grid_area": null,
            "grid_auto_columns": null,
            "grid_auto_flow": null,
            "grid_auto_rows": null,
            "grid_column": null,
            "grid_gap": null,
            "grid_row": null,
            "grid_template_areas": null,
            "grid_template_columns": null,
            "grid_template_rows": null,
            "height": null,
            "justify_content": null,
            "justify_items": null,
            "left": null,
            "margin": null,
            "max_height": null,
            "max_width": null,
            "min_height": null,
            "min_width": null,
            "object_fit": null,
            "object_position": null,
            "order": null,
            "overflow": null,
            "overflow_x": null,
            "overflow_y": null,
            "padding": null,
            "right": null,
            "top": null,
            "visibility": null,
            "width": null
          }
        },
        "046c9a82ab54456d8dd69e8d0284a940": {
          "model_module": "@jupyter-widgets/base",
          "model_name": "LayoutModel",
          "model_module_version": "1.2.0",
          "state": {
            "_model_module": "@jupyter-widgets/base",
            "_model_module_version": "1.2.0",
            "_model_name": "LayoutModel",
            "_view_count": null,
            "_view_module": "@jupyter-widgets/base",
            "_view_module_version": "1.2.0",
            "_view_name": "LayoutView",
            "align_content": null,
            "align_items": null,
            "align_self": null,
            "border": null,
            "bottom": null,
            "display": null,
            "flex": null,
            "flex_flow": null,
            "grid_area": null,
            "grid_auto_columns": null,
            "grid_auto_flow": null,
            "grid_auto_rows": null,
            "grid_column": null,
            "grid_gap": null,
            "grid_row": null,
            "grid_template_areas": null,
            "grid_template_columns": null,
            "grid_template_rows": null,
            "height": null,
            "justify_content": null,
            "justify_items": null,
            "left": null,
            "margin": null,
            "max_height": null,
            "max_width": null,
            "min_height": null,
            "min_width": null,
            "object_fit": null,
            "object_position": null,
            "order": null,
            "overflow": null,
            "overflow_x": null,
            "overflow_y": null,
            "padding": null,
            "right": null,
            "top": null,
            "visibility": null,
            "width": null
          }
        },
        "24e5e69d53244a858f8adf2a804a2911": {
          "model_module": "@jupyter-widgets/controls",
          "model_name": "DescriptionStyleModel",
          "model_module_version": "1.5.0",
          "state": {
            "_model_module": "@jupyter-widgets/controls",
            "_model_module_version": "1.5.0",
            "_model_name": "DescriptionStyleModel",
            "_view_count": null,
            "_view_module": "@jupyter-widgets/base",
            "_view_module_version": "1.2.0",
            "_view_name": "StyleView",
            "description_width": ""
          }
        },
        "fe4aa0b4f91245328ffab2155c11d3ee": {
          "model_module": "@jupyter-widgets/base",
          "model_name": "LayoutModel",
          "model_module_version": "1.2.0",
          "state": {
            "_model_module": "@jupyter-widgets/base",
            "_model_module_version": "1.2.0",
            "_model_name": "LayoutModel",
            "_view_count": null,
            "_view_module": "@jupyter-widgets/base",
            "_view_module_version": "1.2.0",
            "_view_name": "LayoutView",
            "align_content": null,
            "align_items": null,
            "align_self": null,
            "border": null,
            "bottom": null,
            "display": null,
            "flex": null,
            "flex_flow": null,
            "grid_area": null,
            "grid_auto_columns": null,
            "grid_auto_flow": null,
            "grid_auto_rows": null,
            "grid_column": null,
            "grid_gap": null,
            "grid_row": null,
            "grid_template_areas": null,
            "grid_template_columns": null,
            "grid_template_rows": null,
            "height": null,
            "justify_content": null,
            "justify_items": null,
            "left": null,
            "margin": null,
            "max_height": null,
            "max_width": null,
            "min_height": null,
            "min_width": null,
            "object_fit": null,
            "object_position": null,
            "order": null,
            "overflow": null,
            "overflow_x": null,
            "overflow_y": null,
            "padding": null,
            "right": null,
            "top": null,
            "visibility": null,
            "width": null
          }
        },
        "f9accaf15e1b4318b3ed1ecc5b0c8e67": {
          "model_module": "@jupyter-widgets/controls",
          "model_name": "ProgressStyleModel",
          "model_module_version": "1.5.0",
          "state": {
            "_model_module": "@jupyter-widgets/controls",
            "_model_module_version": "1.5.0",
            "_model_name": "ProgressStyleModel",
            "_view_count": null,
            "_view_module": "@jupyter-widgets/base",
            "_view_module_version": "1.2.0",
            "_view_name": "StyleView",
            "bar_color": null,
            "description_width": ""
          }
        },
        "8676162cfc6c4ea7b7b274937349a170": {
          "model_module": "@jupyter-widgets/base",
          "model_name": "LayoutModel",
          "model_module_version": "1.2.0",
          "state": {
            "_model_module": "@jupyter-widgets/base",
            "_model_module_version": "1.2.0",
            "_model_name": "LayoutModel",
            "_view_count": null,
            "_view_module": "@jupyter-widgets/base",
            "_view_module_version": "1.2.0",
            "_view_name": "LayoutView",
            "align_content": null,
            "align_items": null,
            "align_self": null,
            "border": null,
            "bottom": null,
            "display": null,
            "flex": null,
            "flex_flow": null,
            "grid_area": null,
            "grid_auto_columns": null,
            "grid_auto_flow": null,
            "grid_auto_rows": null,
            "grid_column": null,
            "grid_gap": null,
            "grid_row": null,
            "grid_template_areas": null,
            "grid_template_columns": null,
            "grid_template_rows": null,
            "height": null,
            "justify_content": null,
            "justify_items": null,
            "left": null,
            "margin": null,
            "max_height": null,
            "max_width": null,
            "min_height": null,
            "min_width": null,
            "object_fit": null,
            "object_position": null,
            "order": null,
            "overflow": null,
            "overflow_x": null,
            "overflow_y": null,
            "padding": null,
            "right": null,
            "top": null,
            "visibility": null,
            "width": null
          }
        },
        "08a3f86bcb8d496986d38ec626533e2d": {
          "model_module": "@jupyter-widgets/controls",
          "model_name": "DescriptionStyleModel",
          "model_module_version": "1.5.0",
          "state": {
            "_model_module": "@jupyter-widgets/controls",
            "_model_module_version": "1.5.0",
            "_model_name": "DescriptionStyleModel",
            "_view_count": null,
            "_view_module": "@jupyter-widgets/base",
            "_view_module_version": "1.2.0",
            "_view_name": "StyleView",
            "description_width": ""
          }
        },
        "91c9994339bf49949194df73bebc5d8a": {
          "model_module": "@jupyter-widgets/controls",
          "model_name": "HBoxModel",
          "model_module_version": "1.5.0",
          "state": {
            "_dom_classes": [],
            "_model_module": "@jupyter-widgets/controls",
            "_model_module_version": "1.5.0",
            "_model_name": "HBoxModel",
            "_view_count": null,
            "_view_module": "@jupyter-widgets/controls",
            "_view_module_version": "1.5.0",
            "_view_name": "HBoxView",
            "box_style": "",
            "children": [
              "IPY_MODEL_3d92069951c44345a5c57964aec05a1b",
              "IPY_MODEL_9c9681f62132432b99875bfe21ec83b9",
              "IPY_MODEL_506456743e3c4c4c9bdcfb67848d0dac"
            ],
            "layout": "IPY_MODEL_43e6d00a46ac46a080a979039fec346b"
          }
        },
        "3d92069951c44345a5c57964aec05a1b": {
          "model_module": "@jupyter-widgets/controls",
          "model_name": "HTMLModel",
          "model_module_version": "1.5.0",
          "state": {
            "_dom_classes": [],
            "_model_module": "@jupyter-widgets/controls",
            "_model_module_version": "1.5.0",
            "_model_name": "HTMLModel",
            "_view_count": null,
            "_view_module": "@jupyter-widgets/controls",
            "_view_module_version": "1.5.0",
            "_view_name": "HTMLView",
            "description": "",
            "description_tooltip": null,
            "layout": "IPY_MODEL_3445d9762acd4e7897563a5100817530",
            "placeholder": "​",
            "style": "IPY_MODEL_85e9a2cc95f645c9a6bbb1f39a03cd05",
            "value": "100%"
          }
        },
        "9c9681f62132432b99875bfe21ec83b9": {
          "model_module": "@jupyter-widgets/controls",
          "model_name": "FloatProgressModel",
          "model_module_version": "1.5.0",
          "state": {
            "_dom_classes": [],
            "_model_module": "@jupyter-widgets/controls",
            "_model_module_version": "1.5.0",
            "_model_name": "FloatProgressModel",
            "_view_count": null,
            "_view_module": "@jupyter-widgets/controls",
            "_view_module_version": "1.5.0",
            "_view_name": "ProgressView",
            "bar_style": "success",
            "description": "",
            "description_tooltip": null,
            "layout": "IPY_MODEL_0399f2bca5ff479a806c0115ad3a2f22",
            "max": 46830571,
            "min": 0,
            "orientation": "horizontal",
            "style": "IPY_MODEL_cef4fb0cdae444a5b422de2ca4a78192",
            "value": 46830571
          }
        },
        "506456743e3c4c4c9bdcfb67848d0dac": {
          "model_module": "@jupyter-widgets/controls",
          "model_name": "HTMLModel",
          "model_module_version": "1.5.0",
          "state": {
            "_dom_classes": [],
            "_model_module": "@jupyter-widgets/controls",
            "_model_module_version": "1.5.0",
            "_model_name": "HTMLModel",
            "_view_count": null,
            "_view_module": "@jupyter-widgets/controls",
            "_view_module_version": "1.5.0",
            "_view_name": "HTMLView",
            "description": "",
            "description_tooltip": null,
            "layout": "IPY_MODEL_2c46898a57c34768b92cc086d5e4a2c5",
            "placeholder": "​",
            "style": "IPY_MODEL_75e0fb21c64d462f82a4f9e15f881266",
            "value": " 44.7M/44.7M [00:00&lt;00:00, 61.4MB/s]"
          }
        },
        "43e6d00a46ac46a080a979039fec346b": {
          "model_module": "@jupyter-widgets/base",
          "model_name": "LayoutModel",
          "model_module_version": "1.2.0",
          "state": {
            "_model_module": "@jupyter-widgets/base",
            "_model_module_version": "1.2.0",
            "_model_name": "LayoutModel",
            "_view_count": null,
            "_view_module": "@jupyter-widgets/base",
            "_view_module_version": "1.2.0",
            "_view_name": "LayoutView",
            "align_content": null,
            "align_items": null,
            "align_self": null,
            "border": null,
            "bottom": null,
            "display": null,
            "flex": null,
            "flex_flow": null,
            "grid_area": null,
            "grid_auto_columns": null,
            "grid_auto_flow": null,
            "grid_auto_rows": null,
            "grid_column": null,
            "grid_gap": null,
            "grid_row": null,
            "grid_template_areas": null,
            "grid_template_columns": null,
            "grid_template_rows": null,
            "height": null,
            "justify_content": null,
            "justify_items": null,
            "left": null,
            "margin": null,
            "max_height": null,
            "max_width": null,
            "min_height": null,
            "min_width": null,
            "object_fit": null,
            "object_position": null,
            "order": null,
            "overflow": null,
            "overflow_x": null,
            "overflow_y": null,
            "padding": null,
            "right": null,
            "top": null,
            "visibility": null,
            "width": null
          }
        },
        "3445d9762acd4e7897563a5100817530": {
          "model_module": "@jupyter-widgets/base",
          "model_name": "LayoutModel",
          "model_module_version": "1.2.0",
          "state": {
            "_model_module": "@jupyter-widgets/base",
            "_model_module_version": "1.2.0",
            "_model_name": "LayoutModel",
            "_view_count": null,
            "_view_module": "@jupyter-widgets/base",
            "_view_module_version": "1.2.0",
            "_view_name": "LayoutView",
            "align_content": null,
            "align_items": null,
            "align_self": null,
            "border": null,
            "bottom": null,
            "display": null,
            "flex": null,
            "flex_flow": null,
            "grid_area": null,
            "grid_auto_columns": null,
            "grid_auto_flow": null,
            "grid_auto_rows": null,
            "grid_column": null,
            "grid_gap": null,
            "grid_row": null,
            "grid_template_areas": null,
            "grid_template_columns": null,
            "grid_template_rows": null,
            "height": null,
            "justify_content": null,
            "justify_items": null,
            "left": null,
            "margin": null,
            "max_height": null,
            "max_width": null,
            "min_height": null,
            "min_width": null,
            "object_fit": null,
            "object_position": null,
            "order": null,
            "overflow": null,
            "overflow_x": null,
            "overflow_y": null,
            "padding": null,
            "right": null,
            "top": null,
            "visibility": null,
            "width": null
          }
        },
        "85e9a2cc95f645c9a6bbb1f39a03cd05": {
          "model_module": "@jupyter-widgets/controls",
          "model_name": "DescriptionStyleModel",
          "model_module_version": "1.5.0",
          "state": {
            "_model_module": "@jupyter-widgets/controls",
            "_model_module_version": "1.5.0",
            "_model_name": "DescriptionStyleModel",
            "_view_count": null,
            "_view_module": "@jupyter-widgets/base",
            "_view_module_version": "1.2.0",
            "_view_name": "StyleView",
            "description_width": ""
          }
        },
        "0399f2bca5ff479a806c0115ad3a2f22": {
          "model_module": "@jupyter-widgets/base",
          "model_name": "LayoutModel",
          "model_module_version": "1.2.0",
          "state": {
            "_model_module": "@jupyter-widgets/base",
            "_model_module_version": "1.2.0",
            "_model_name": "LayoutModel",
            "_view_count": null,
            "_view_module": "@jupyter-widgets/base",
            "_view_module_version": "1.2.0",
            "_view_name": "LayoutView",
            "align_content": null,
            "align_items": null,
            "align_self": null,
            "border": null,
            "bottom": null,
            "display": null,
            "flex": null,
            "flex_flow": null,
            "grid_area": null,
            "grid_auto_columns": null,
            "grid_auto_flow": null,
            "grid_auto_rows": null,
            "grid_column": null,
            "grid_gap": null,
            "grid_row": null,
            "grid_template_areas": null,
            "grid_template_columns": null,
            "grid_template_rows": null,
            "height": null,
            "justify_content": null,
            "justify_items": null,
            "left": null,
            "margin": null,
            "max_height": null,
            "max_width": null,
            "min_height": null,
            "min_width": null,
            "object_fit": null,
            "object_position": null,
            "order": null,
            "overflow": null,
            "overflow_x": null,
            "overflow_y": null,
            "padding": null,
            "right": null,
            "top": null,
            "visibility": null,
            "width": null
          }
        },
        "cef4fb0cdae444a5b422de2ca4a78192": {
          "model_module": "@jupyter-widgets/controls",
          "model_name": "ProgressStyleModel",
          "model_module_version": "1.5.0",
          "state": {
            "_model_module": "@jupyter-widgets/controls",
            "_model_module_version": "1.5.0",
            "_model_name": "ProgressStyleModel",
            "_view_count": null,
            "_view_module": "@jupyter-widgets/base",
            "_view_module_version": "1.2.0",
            "_view_name": "StyleView",
            "bar_color": null,
            "description_width": ""
          }
        },
        "2c46898a57c34768b92cc086d5e4a2c5": {
          "model_module": "@jupyter-widgets/base",
          "model_name": "LayoutModel",
          "model_module_version": "1.2.0",
          "state": {
            "_model_module": "@jupyter-widgets/base",
            "_model_module_version": "1.2.0",
            "_model_name": "LayoutModel",
            "_view_count": null,
            "_view_module": "@jupyter-widgets/base",
            "_view_module_version": "1.2.0",
            "_view_name": "LayoutView",
            "align_content": null,
            "align_items": null,
            "align_self": null,
            "border": null,
            "bottom": null,
            "display": null,
            "flex": null,
            "flex_flow": null,
            "grid_area": null,
            "grid_auto_columns": null,
            "grid_auto_flow": null,
            "grid_auto_rows": null,
            "grid_column": null,
            "grid_gap": null,
            "grid_row": null,
            "grid_template_areas": null,
            "grid_template_columns": null,
            "grid_template_rows": null,
            "height": null,
            "justify_content": null,
            "justify_items": null,
            "left": null,
            "margin": null,
            "max_height": null,
            "max_width": null,
            "min_height": null,
            "min_width": null,
            "object_fit": null,
            "object_position": null,
            "order": null,
            "overflow": null,
            "overflow_x": null,
            "overflow_y": null,
            "padding": null,
            "right": null,
            "top": null,
            "visibility": null,
            "width": null
          }
        },
        "75e0fb21c64d462f82a4f9e15f881266": {
          "model_module": "@jupyter-widgets/controls",
          "model_name": "DescriptionStyleModel",
          "model_module_version": "1.5.0",
          "state": {
            "_model_module": "@jupyter-widgets/controls",
            "_model_module_version": "1.5.0",
            "_model_name": "DescriptionStyleModel",
            "_view_count": null,
            "_view_module": "@jupyter-widgets/base",
            "_view_module_version": "1.2.0",
            "_view_name": "StyleView",
            "description_width": ""
          }
        },
        "b1409f9a788f4bbc927fc558c9b261a0": {
          "model_module": "@jupyter-widgets/controls",
          "model_name": "HBoxModel",
          "model_module_version": "1.5.0",
          "state": {
            "_dom_classes": [],
            "_model_module": "@jupyter-widgets/controls",
            "_model_module_version": "1.5.0",
            "_model_name": "HBoxModel",
            "_view_count": null,
            "_view_module": "@jupyter-widgets/controls",
            "_view_module_version": "1.5.0",
            "_view_name": "HBoxView",
            "box_style": "",
            "children": [
              "IPY_MODEL_06ac962e3be84a14bc068cc81e44a5ab",
              "IPY_MODEL_a818ecc7a1854680aef742e56b51411a",
              "IPY_MODEL_d57ecc98f7c04155a8ed56f2f50e3245"
            ],
            "layout": "IPY_MODEL_a03cdfa468e04a168ee69bb5dc58ce32"
          }
        },
        "06ac962e3be84a14bc068cc81e44a5ab": {
          "model_module": "@jupyter-widgets/controls",
          "model_name": "HTMLModel",
          "model_module_version": "1.5.0",
          "state": {
            "_dom_classes": [],
            "_model_module": "@jupyter-widgets/controls",
            "_model_module_version": "1.5.0",
            "_model_name": "HTMLModel",
            "_view_count": null,
            "_view_module": "@jupyter-widgets/controls",
            "_view_module_version": "1.5.0",
            "_view_name": "HTMLView",
            "description": "",
            "description_tooltip": null,
            "layout": "IPY_MODEL_008c208f03234590a0957e84f0abd1bc",
            "placeholder": "​",
            "style": "IPY_MODEL_d16f26962501465fa1d9e88a03a4cfca",
            "value": "Downloading: "
          }
        },
        "a818ecc7a1854680aef742e56b51411a": {
          "model_module": "@jupyter-widgets/controls",
          "model_name": "FloatProgressModel",
          "model_module_version": "1.5.0",
          "state": {
            "_dom_classes": [],
            "_model_module": "@jupyter-widgets/controls",
            "_model_module_version": "1.5.0",
            "_model_name": "FloatProgressModel",
            "_view_count": null,
            "_view_module": "@jupyter-widgets/controls",
            "_view_module_version": "1.5.0",
            "_view_name": "ProgressView",
            "bar_style": "success",
            "description": "",
            "description_tooltip": null,
            "layout": "IPY_MODEL_7f7d494c8dc0410487bb530df275060c",
            "max": 1,
            "min": 0,
            "orientation": "horizontal",
            "style": "IPY_MODEL_9e194c5d4292435e82dac940c5ee5136",
            "value": 1
          }
        },
        "d57ecc98f7c04155a8ed56f2f50e3245": {
          "model_module": "@jupyter-widgets/controls",
          "model_name": "HTMLModel",
          "model_module_version": "1.5.0",
          "state": {
            "_dom_classes": [],
            "_model_module": "@jupyter-widgets/controls",
            "_model_module_version": "1.5.0",
            "_model_name": "HTMLModel",
            "_view_count": null,
            "_view_module": "@jupyter-widgets/controls",
            "_view_module_version": "1.5.0",
            "_view_name": "HTMLView",
            "description": "",
            "description_tooltip": null,
            "layout": "IPY_MODEL_9ab4aa308433433cb4883612f2c0b905",
            "placeholder": "​",
            "style": "IPY_MODEL_77a5be4e7ab84a2fbca237358659a359",
            "value": " 5555/? [00:03&lt;00:00, 1864.30it/s]"
          }
        },
        "a03cdfa468e04a168ee69bb5dc58ce32": {
          "model_module": "@jupyter-widgets/base",
          "model_name": "LayoutModel",
          "model_module_version": "1.2.0",
          "state": {
            "_model_module": "@jupyter-widgets/base",
            "_model_module_version": "1.2.0",
            "_model_name": "LayoutModel",
            "_view_count": null,
            "_view_module": "@jupyter-widgets/base",
            "_view_module_version": "1.2.0",
            "_view_name": "LayoutView",
            "align_content": null,
            "align_items": null,
            "align_self": null,
            "border": null,
            "bottom": null,
            "display": null,
            "flex": null,
            "flex_flow": null,
            "grid_area": null,
            "grid_auto_columns": null,
            "grid_auto_flow": null,
            "grid_auto_rows": null,
            "grid_column": null,
            "grid_gap": null,
            "grid_row": null,
            "grid_template_areas": null,
            "grid_template_columns": null,
            "grid_template_rows": null,
            "height": null,
            "justify_content": null,
            "justify_items": null,
            "left": null,
            "margin": null,
            "max_height": null,
            "max_width": null,
            "min_height": null,
            "min_width": null,
            "object_fit": null,
            "object_position": null,
            "order": null,
            "overflow": null,
            "overflow_x": null,
            "overflow_y": null,
            "padding": null,
            "right": null,
            "top": null,
            "visibility": null,
            "width": null
          }
        },
        "008c208f03234590a0957e84f0abd1bc": {
          "model_module": "@jupyter-widgets/base",
          "model_name": "LayoutModel",
          "model_module_version": "1.2.0",
          "state": {
            "_model_module": "@jupyter-widgets/base",
            "_model_module_version": "1.2.0",
            "_model_name": "LayoutModel",
            "_view_count": null,
            "_view_module": "@jupyter-widgets/base",
            "_view_module_version": "1.2.0",
            "_view_name": "LayoutView",
            "align_content": null,
            "align_items": null,
            "align_self": null,
            "border": null,
            "bottom": null,
            "display": null,
            "flex": null,
            "flex_flow": null,
            "grid_area": null,
            "grid_auto_columns": null,
            "grid_auto_flow": null,
            "grid_auto_rows": null,
            "grid_column": null,
            "grid_gap": null,
            "grid_row": null,
            "grid_template_areas": null,
            "grid_template_columns": null,
            "grid_template_rows": null,
            "height": null,
            "justify_content": null,
            "justify_items": null,
            "left": null,
            "margin": null,
            "max_height": null,
            "max_width": null,
            "min_height": null,
            "min_width": null,
            "object_fit": null,
            "object_position": null,
            "order": null,
            "overflow": null,
            "overflow_x": null,
            "overflow_y": null,
            "padding": null,
            "right": null,
            "top": null,
            "visibility": null,
            "width": null
          }
        },
        "d16f26962501465fa1d9e88a03a4cfca": {
          "model_module": "@jupyter-widgets/controls",
          "model_name": "DescriptionStyleModel",
          "model_module_version": "1.5.0",
          "state": {
            "_model_module": "@jupyter-widgets/controls",
            "_model_module_version": "1.5.0",
            "_model_name": "DescriptionStyleModel",
            "_view_count": null,
            "_view_module": "@jupyter-widgets/base",
            "_view_module_version": "1.2.0",
            "_view_name": "StyleView",
            "description_width": ""
          }
        },
        "7f7d494c8dc0410487bb530df275060c": {
          "model_module": "@jupyter-widgets/base",
          "model_name": "LayoutModel",
          "model_module_version": "1.2.0",
          "state": {
            "_model_module": "@jupyter-widgets/base",
            "_model_module_version": "1.2.0",
            "_model_name": "LayoutModel",
            "_view_count": null,
            "_view_module": "@jupyter-widgets/base",
            "_view_module_version": "1.2.0",
            "_view_name": "LayoutView",
            "align_content": null,
            "align_items": null,
            "align_self": null,
            "border": null,
            "bottom": null,
            "display": null,
            "flex": null,
            "flex_flow": null,
            "grid_area": null,
            "grid_auto_columns": null,
            "grid_auto_flow": null,
            "grid_auto_rows": null,
            "grid_column": null,
            "grid_gap": null,
            "grid_row": null,
            "grid_template_areas": null,
            "grid_template_columns": null,
            "grid_template_rows": null,
            "height": null,
            "justify_content": null,
            "justify_items": null,
            "left": null,
            "margin": null,
            "max_height": null,
            "max_width": null,
            "min_height": null,
            "min_width": null,
            "object_fit": null,
            "object_position": null,
            "order": null,
            "overflow": null,
            "overflow_x": null,
            "overflow_y": null,
            "padding": null,
            "right": null,
            "top": null,
            "visibility": null,
            "width": "20px"
          }
        },
        "9e194c5d4292435e82dac940c5ee5136": {
          "model_module": "@jupyter-widgets/controls",
          "model_name": "ProgressStyleModel",
          "model_module_version": "1.5.0",
          "state": {
            "_model_module": "@jupyter-widgets/controls",
            "_model_module_version": "1.5.0",
            "_model_name": "ProgressStyleModel",
            "_view_count": null,
            "_view_module": "@jupyter-widgets/base",
            "_view_module_version": "1.2.0",
            "_view_name": "StyleView",
            "bar_color": null,
            "description_width": ""
          }
        },
        "9ab4aa308433433cb4883612f2c0b905": {
          "model_module": "@jupyter-widgets/base",
          "model_name": "LayoutModel",
          "model_module_version": "1.2.0",
          "state": {
            "_model_module": "@jupyter-widgets/base",
            "_model_module_version": "1.2.0",
            "_model_name": "LayoutModel",
            "_view_count": null,
            "_view_module": "@jupyter-widgets/base",
            "_view_module_version": "1.2.0",
            "_view_name": "LayoutView",
            "align_content": null,
            "align_items": null,
            "align_self": null,
            "border": null,
            "bottom": null,
            "display": null,
            "flex": null,
            "flex_flow": null,
            "grid_area": null,
            "grid_auto_columns": null,
            "grid_auto_flow": null,
            "grid_auto_rows": null,
            "grid_column": null,
            "grid_gap": null,
            "grid_row": null,
            "grid_template_areas": null,
            "grid_template_columns": null,
            "grid_template_rows": null,
            "height": null,
            "justify_content": null,
            "justify_items": null,
            "left": null,
            "margin": null,
            "max_height": null,
            "max_width": null,
            "min_height": null,
            "min_width": null,
            "object_fit": null,
            "object_position": null,
            "order": null,
            "overflow": null,
            "overflow_x": null,
            "overflow_y": null,
            "padding": null,
            "right": null,
            "top": null,
            "visibility": null,
            "width": null
          }
        },
        "77a5be4e7ab84a2fbca237358659a359": {
          "model_module": "@jupyter-widgets/controls",
          "model_name": "DescriptionStyleModel",
          "model_module_version": "1.5.0",
          "state": {
            "_model_module": "@jupyter-widgets/controls",
            "_model_module_version": "1.5.0",
            "_model_name": "DescriptionStyleModel",
            "_view_count": null,
            "_view_module": "@jupyter-widgets/base",
            "_view_module_version": "1.2.0",
            "_view_name": "StyleView",
            "description_width": ""
          }
        }
      }
    },
    "accelerator": "GPU"
  },
  "cells": [
    {
      "cell_type": "markdown",
      "source": [
        "# Emotion recognition model development"
      ],
      "metadata": {
        "id": "odWL42FWV_y7"
      }
    },
    {
      "cell_type": "markdown",
      "source": [
        "## Imports"
      ],
      "metadata": {
        "id": "lmNmT-YjWD74"
      }
    },
    {
      "cell_type": "code",
      "execution_count": 1,
      "metadata": {
        "colab": {
          "base_uri": "https://localhost:8080/"
        },
        "id": "Q5ZobdR2UcxJ",
        "outputId": "845218e0-cf63-4f4d-b2dc-3529eadf5ba9"
      },
      "outputs": [
        {
          "output_type": "stream",
          "name": "stdout",
          "text": [
            "Requirement already satisfied: gdown in /usr/local/lib/python3.7/dist-packages (4.4.0)\n",
            "Collecting torchinfo\n",
            "  Downloading torchinfo-1.6.6-py3-none-any.whl (21 kB)\n",
            "Requirement already satisfied: filelock in /usr/local/lib/python3.7/dist-packages (from gdown) (3.7.0)\n",
            "Requirement already satisfied: six in /usr/local/lib/python3.7/dist-packages (from gdown) (1.15.0)\n",
            "Requirement already satisfied: requests[socks] in /usr/local/lib/python3.7/dist-packages (from gdown) (2.23.0)\n",
            "Requirement already satisfied: tqdm in /usr/local/lib/python3.7/dist-packages (from gdown) (4.64.0)\n",
            "Requirement already satisfied: beautifulsoup4 in /usr/local/lib/python3.7/dist-packages (from gdown) (4.6.3)\n",
            "Requirement already satisfied: certifi>=2017.4.17 in /usr/local/lib/python3.7/dist-packages (from requests[socks]->gdown) (2021.10.8)\n",
            "Requirement already satisfied: idna<3,>=2.5 in /usr/local/lib/python3.7/dist-packages (from requests[socks]->gdown) (2.10)\n",
            "Requirement already satisfied: urllib3!=1.25.0,!=1.25.1,<1.26,>=1.21.1 in /usr/local/lib/python3.7/dist-packages (from requests[socks]->gdown) (1.24.3)\n",
            "Requirement already satisfied: chardet<4,>=3.0.2 in /usr/local/lib/python3.7/dist-packages (from requests[socks]->gdown) (3.0.4)\n",
            "Requirement already satisfied: PySocks!=1.5.7,>=1.5.6 in /usr/local/lib/python3.7/dist-packages (from requests[socks]->gdown) (1.7.1)\n",
            "Installing collected packages: torchinfo\n",
            "Successfully installed torchinfo-1.6.6\n"
          ]
        }
      ],
      "source": [
        "!pip install gdown torchinfo "
      ]
    },
    {
      "cell_type": "code",
      "source": [
        "import collections\n",
        "import contextlib\n",
        "import functools\n",
        "import glob\n",
        "import IPython\n",
        "import pathlib\n",
        "import pickle\n",
        "import time\n",
        "import os\n",
        "import random\n",
        "import requests\n",
        "import shutil\n",
        "import warnings\n",
        "import zipfile\n",
        "\n",
        "import numpy as np\n",
        "import pandas as pd\n",
        "import scipy\n",
        "import scipy.io\n",
        "import tqdm.auto as tqdm\n",
        "\n",
        "import matplotlib.pyplot as plt\n",
        "%matplotlib inline\n",
        "\n",
        "import PIL\n",
        "\n",
        "import sklearn\n",
        "import sklearn.metrics\n",
        "import sklearn.preprocessing\n",
        "\n",
        "import torch\n",
        "import torchvision\n",
        "import torchinfo"
      ],
      "metadata": {
        "id": "3SROwg-dU0J9"
      },
      "execution_count": 2,
      "outputs": []
    },
    {
      "cell_type": "markdown",
      "source": [
        "## Setting random states for reproducibility"
      ],
      "metadata": {
        "id": "7qsz6en6JD9f"
      }
    },
    {
      "cell_type": "code",
      "source": [
        "RANDOM_STATE = 42\n",
        "random.seed(RANDOM_STATE)\n",
        "os.environ['PYTHONHASHSEED'] = str(RANDOM_STATE)\n",
        "np.random.seed(RANDOM_STATE)\n",
        "torch.manual_seed(RANDOM_STATE)\n",
        "torch.cuda.manual_seed(RANDOM_STATE)\n",
        "torch.cuda.manual_seed_all(RANDOM_STATE)"
      ],
      "metadata": {
        "id": "E9_2mLPOJHda"
      },
      "execution_count": 3,
      "outputs": []
    },
    {
      "cell_type": "markdown",
      "source": [
        "## Global variables"
      ],
      "metadata": {
        "id": "PYCZ-v5CWFm0"
      }
    },
    {
      "cell_type": "code",
      "source": [
        "BATCH_SIZE = 32\n",
        "DEVICE = torch.device(\"cuda\" if torch.cuda.is_available() else \"cpu\")\n",
        "CONTEXT_IMAGE_SIZE = 224\n",
        "BODY_IMAGE_SIZE = 128\n",
        "CONTEXT_NORM = {\"mean\": [0.4690646, 0.4407227, 0.40508908], \"std\": [0.2514227, 0.24312855, 0.24266963]}\n",
        "BODY_NORM = {\"mean\": [0.43832874, 0.3964344, 0.3706214], \"std\": [0.24784276, 0.23621225, 0.2323653]}"
      ],
      "metadata": {
        "id": "EA58UsN2WHKN"
      },
      "execution_count": 4,
      "outputs": []
    },
    {
      "cell_type": "markdown",
      "source": [
        "## Annotations loading and converting"
      ],
      "metadata": {
        "id": "Ru86tqojYR-n"
      }
    },
    {
      "cell_type": "code",
      "source": [
        "!gdown https://drive.google.com/uc?id=1HPkjTRC1I9dNSrdarzdybdIM7cKIJPMg"
      ],
      "metadata": {
        "colab": {
          "base_uri": "https://localhost:8080/"
        },
        "id": "YeUQ-QNjYUYc",
        "outputId": "0001b227-8664-4ecd-ebff-5166b7c61e90"
      },
      "execution_count": 5,
      "outputs": [
        {
          "output_type": "stream",
          "name": "stdout",
          "text": [
            "Downloading...\n",
            "From: https://drive.google.com/uc?id=1HPkjTRC1I9dNSrdarzdybdIM7cKIJPMg\n",
            "To: /content/Annotations.zip\n",
            "100% 6.40M/6.40M [00:00<00:00, 25.7MB/s]\n"
          ]
        }
      ]
    },
    {
      "cell_type": "code",
      "source": [
        "def prepare_annotations(filename):\n",
        "    if not pathlib.Path(\"annotations.csv\").is_file():\n",
        "        if \"google.colab\" in str(IPython.get_ipython()):\n",
        "            with zipfile.ZipFile(filename, \"r\") as archive:\n",
        "                for member in tqdm.tqdm(archive.namelist(), desc=\"Extracting files\", unit=\"files\", unit_scale=False):\n",
        "                    archive.extract(member, os.getcwd())\n",
        "        else:\n",
        "            if os.path.isfile(filename):\n",
        "                shutil.rmtree(\"Annotations\", ignore_errors=True) # clear out old data\n",
        "                with zipfile.ZipFile(filename, \"r\") as archive:\n",
        "                    for member in tqdm.tqdm(archive.namelist(), desc=\"Extracting files\", unit=\"files\", unit_scale=False):\n",
        "                        archive.extract(member, os.getcwd())\n",
        "        shutil.move(\"Annotations/Annotations.mat\", \".\")\n",
        "        shutil.rmtree(\"Annotations\", ignore_errors=True)\n",
        "        shutil.rmtree(\"__MACOSX\", ignore_errors=True)\n",
        "        with contextlib.suppress(FileNotFoundError):\n",
        "            os.remove(filename)\n",
        "    mat_data = scipy.io.loadmat(\"Annotations.mat\")\n",
        "    return mat_data[\"train\"][0]"
      ],
      "metadata": {
        "id": "nc8cghObYi8R"
      },
      "execution_count": 6,
      "outputs": []
    },
    {
      "cell_type": "code",
      "source": [
        "mat_data = prepare_annotations(\"Annotations.zip\")"
      ],
      "metadata": {
        "id": "AebeCHJudPEK",
        "colab": {
          "base_uri": "https://localhost:8080/",
          "height": 49,
          "referenced_widgets": [
            "a2d7f1ea1af344169017a95aa233babf",
            "dd1524601ceb44c09ab7063c4d87656b",
            "956d7e4d4d6d4a27a50b8748b17f6228",
            "1796915b9ca54c46929c8a99fc74e57c",
            "18f98487e8b54e3bb7165a4459d257ba",
            "7f7a8718c62241c8a8186f60b040f3a7",
            "f8ca4ed3767949e9b240ac3a1b099548",
            "4c733fb31875478b97e6938b6e9e2bda",
            "aab0de13507e490681501fb99e9744fb",
            "71be90a06f944760ac21305a68d7b914",
            "1c8f1fbfb95c47b8aec1cda6828ce45d"
          ]
        },
        "outputId": "2e82cfb6-7868-4c62-8140-bb6e3f7d3a73"
      },
      "execution_count": 7,
      "outputs": [
        {
          "output_type": "display_data",
          "data": {
            "text/plain": [
              "Extracting files:   0%|          | 0/19 [00:00<?, ?files/s]"
            ],
            "application/vnd.jupyter.widget-view+json": {
              "version_major": 2,
              "version_minor": 0,
              "model_id": "a2d7f1ea1af344169017a95aa233babf"
            }
          },
          "metadata": {}
        }
      ]
    },
    {
      "cell_type": "code",
      "source": [
        "def set_imsize(image_size):\n",
        "    im_size = []\n",
        "    image_size = np.array(image_size).flatten().tolist()[0]\n",
        "    row = np.array(image_size[0]).flatten().tolist()[0]\n",
        "    col = np.array(image_size[1]).flatten().tolist()[0]\n",
        "    im_size.append(row)\n",
        "    im_size.append(col)\n",
        "    return im_size\n",
        "\n",
        "def validate_bbox(bbox, im_size):\n",
        "        x1, y1, x2, y2 = bbox\n",
        "        x1 = min(im_size[0], max(0, x1))\n",
        "        x2 = min(im_size[0], max(0, x2))\n",
        "        y1 = min(im_size[1], max(0, y1))\n",
        "        y2 = min(im_size[1], max(0, y2))\n",
        "        return [int(x1), int(y1), int(x2), int(y2)]\n",
        "\n",
        "def set_bbox(person_bbox, im_size):\n",
        "    return validate_bbox(np.array(person_bbox).flatten().tolist(), im_size)\n",
        "\n",
        "def set_emotions(person_emotions):\n",
        "    cat = np.array(person_emotions).flatten().tolist()\n",
        "    if not cat:\n",
        "        return\n",
        "    cat = np.array(cat[0]).flatten().tolist()\n",
        "    return [np.array(c).flatten().tolist()[0] for c in cat]\n",
        "\n",
        "def set_vad_scores(person_vad):\n",
        "    cont = np.array(person_vad).flatten().tolist()\n",
        "    if not cont:\n",
        "        return\n",
        "    return [np.array(c).flatten().tolist()[0] for c in cont[0]]\n",
        "\n",
        "def convert_annotations(mat_train):\n",
        "    rows = list()\n",
        "    for e in tqdm.tqdm(mat_train, desc=\"Converting annotations\", unit=\"files\", unit_scale=False):\n",
        "        for person in e[4][0]:\n",
        "            row = {\n",
        "                \"Filename\": e[0][0],\n",
        "                \"Folder\": e[1][0],\n",
        "                \"Gender\": person[3][0],\n",
        "                \"Age\": person[4][0]\n",
        "            }\n",
        "            row[\"Image Size\"] = set_imsize(e[2])\n",
        "            row[\"Bounding Box\"] = set_bbox(person[0], row[\"Image Size\"])\n",
        "            row[\"Emotions\"] = set_emotions(person[1])\n",
        "            row[\"VAD Scores\"] = set_vad_scores(person[2])\n",
        "            if pd.isnull(np.array(row[\"Emotions\"])).any():\n",
        "                row[\"Emotions\"] = None\n",
        "            if pd.isnull(np.array(row[\"VAD Scores\"])).any():\n",
        "                row[\"VAD Scores\"] = None\n",
        "            rows.append(row)\n",
        "    df = pd.DataFrame.from_records(rows)\n",
        "    df.dropna(inplace=True)\n",
        "    df.to_csv(f\"annotations.csv\", index=False)\n",
        "    with contextlib.suppress(FileNotFoundError):\n",
        "        os.remove(\"Annotations.mat\")"
      ],
      "metadata": {
        "id": "9ULSZlB-MW1y"
      },
      "execution_count": 8,
      "outputs": []
    },
    {
      "cell_type": "code",
      "source": [
        "convert_annotations(mat_data)"
      ],
      "metadata": {
        "colab": {
          "base_uri": "https://localhost:8080/",
          "height": 49,
          "referenced_widgets": [
            "d108a8e21dc847e1949c924dcc226935",
            "eaa38f60d279408ba4ea8aef5dc9610d",
            "4e591f8eb1fd4e9b99322a23da391ca4",
            "1738b65803af44a68b65ac3c6661bb48",
            "56adb59c9cf74dd5ae3ed6f00a06f3b2",
            "8cca40ba2e7f4acaad2b9d7e1897ef4b",
            "415d589f29c14b8881c6c34a19f56073",
            "4338ed80632b4294bff2250e0378d41a",
            "d3710c45ad9c4764b9152c2a5417a3c5",
            "4b6c1de3328c4b34a667494168f97562",
            "75cc0c5451004336a95e92769a7e8fe0"
          ]
        },
        "id": "kdiRpm18NndC",
        "outputId": "dc34ba78-529d-4515-eded-2dbbb4c86ed6"
      },
      "execution_count": 9,
      "outputs": [
        {
          "output_type": "display_data",
          "data": {
            "text/plain": [
              "Converting annotations:   0%|          | 0/17077 [00:00<?, ?files/s]"
            ],
            "application/vnd.jupyter.widget-view+json": {
              "version_major": 2,
              "version_minor": 0,
              "model_id": "d108a8e21dc847e1949c924dcc226935"
            }
          },
          "metadata": {}
        }
      ]
    },
    {
      "cell_type": "markdown",
      "source": [
        "## Dataset loading, preprocessing and splitting"
      ],
      "metadata": {
        "id": "DiiKxcXykpiD"
      }
    },
    {
      "cell_type": "code",
      "source": [
        "class EmoticDataset(torch.utils.data.Dataset):\n",
        "    def __init__(self, dir, annotations_fname):\n",
        "        super().__init__()\n",
        "        self.dir = dir\n",
        "        self.annotations = pd.read_csv(annotations_fname)\n",
        "        self.annotations[\"Image Size\"] = self.annotations[\"Image Size\"].apply(eval)\n",
        "        self.annotations[\"Bounding Box\"] = self.annotations[\"Bounding Box\"].apply(eval)\n",
        "        self.annotations[\"Emotions\"] = self.annotations[\"Emotions\"].apply(eval)\n",
        "        self.annotations[\"VAD Scores\"] = self.annotations[\"VAD Scores\"].apply(eval)\n",
        "        self.mlb = sklearn.preprocessing.MultiLabelBinarizer()\n",
        "        self.annotations[\"Emotions\"] = self.mlb.fit_transform(self.annotations[\"Emotions\"].to_numpy().tolist())\n",
        "        self.context_transforms = torchvision.transforms.Compose([\n",
        "            torchvision.transforms.PILToTensor(),\n",
        "            torchvision.transforms.ConvertImageDtype(torch.float),\n",
        "            torchvision.transforms.Resize(CONTEXT_IMAGE_SIZE),\n",
        "            torchvision.transforms.Normalize(CONTEXT_NORM[\"mean\"], CONTEXT_NORM[\"std\"])\n",
        "        ])\n",
        "        self.body_transforms = torchvision.transforms.Compose([\n",
        "            torchvision.transforms.PILToTensor(),\n",
        "            torchvision.transforms.ConvertImageDtype(torch.float),\n",
        "            torchvision.transforms.Resize(BODY_IMAGE_SIZE),\n",
        "            torchvision.transforms.Normalize(BODY_NORM[\"mean\"], BODY_NORM[\"std\"])\n",
        "        ])\n",
        "\n",
        "    def __len__(self):\n",
        "        return len(self.annotations)\n",
        "\n",
        "    def __getitem__(self, index):\n",
        "        row = self.annotations.loc[index]\n",
        "        context = PIL.Image.open(pathlib.Path(self.dir) / row[\"Folder\"] / row[\"Filename\"])\n",
        "        bbox = row[\"Bounding Box\"]\n",
        "        body = context.crop((bbox[0], bbox[1], bbox[2], bbox[3])).resize((BODY_IMAGE_SIZE, BODY_IMAGE_SIZE))\n",
        "        context = context.resize((CONTEXT_IMAGE_SIZE, CONTEXT_IMAGE_SIZE))\n",
        "        emotions = row[\"Emotions\"]\n",
        "        vad_scores = row[\"VAD Scores\"]\n",
        "        return self.context_transforms(context), self.body_transforms(body), torch.tensor(row[\"Emotions\"]), torch.tensor(vad_scores) / 10.0, bbox\n",
        "\n",
        "    def get_bbox(self, index):\n",
        "        return self.annotations.loc[index]"
      ],
      "metadata": {
        "id": "GnLGerzPh5BS"
      },
      "execution_count": 60,
      "outputs": []
    },
    {
      "cell_type": "code",
      "source": [
        "!gdown https://drive.google.com/uc?id=16V-PJBpdFakpzYTba3sdg_Fg3z9YED3C"
      ],
      "metadata": {
        "colab": {
          "base_uri": "https://localhost:8080/"
        },
        "id": "ikiBUuIY1re9",
        "outputId": "505524b4-a777-4ca4-9065-27b4843a4bcd"
      },
      "execution_count": 41,
      "outputs": [
        {
          "output_type": "stream",
          "name": "stdout",
          "text": [
            "Downloading...\n",
            "From: https://drive.google.com/uc?id=16V-PJBpdFakpzYTba3sdg_Fg3z9YED3C\n",
            "To: /content/emotic.zip\n",
            "100% 3.60G/3.60G [00:32<00:00, 111MB/s] \n"
          ]
        }
      ]
    },
    {
      "cell_type": "code",
      "source": [
        "def prepare_dataset(filename):\n",
        "    if not pathlib.Path(\"emotic\").is_dir():\n",
        "        if \"google.colab\" in str(IPython.get_ipython()):\n",
        "                with zipfile.ZipFile(filename, \"r\") as archive:\n",
        "                    for member in tqdm.tqdm(archive.namelist(), desc=\"Extracting files\", unit=\"files\", unit_scale=False):\n",
        "                        archive.extract(member, os.getcwd())\n",
        "        else:\n",
        "            if os.path.isfile(filename):\n",
        "                shutil.rmtree(\"emotic\", ignore_errors=True) # clear out old data\n",
        "                with zipfile.ZipFile(filename, \"r\") as archive:\n",
        "                    for member in tqdm.tqdm(archive.namelist(), desc=\"Extracting files\", unit=\"files\", unit_scale=False):\n",
        "                        archive.extract(member, os.getcwd())\n",
        "        # I hate MacOS\n",
        "        with contextlib.suppress(FileNotFoundError):\n",
        "            for path in pathlib.Path(\"emotic\").rglob(\"*.*\"):\n",
        "                if not str(path).endswith(\".jpg\"):\n",
        "                    os.remove(str(path))\n",
        "    if not pathlib.Path(\"annotations.csv\").is_file():\n",
        "        raise ValueError(\"No annotations file detected, cannot proceed\")\n",
        "    return EmoticDataset(\"emotic\", \"annotations.csv\")"
      ],
      "metadata": {
        "id": "F_wjAdfK7PCK"
      },
      "execution_count": 61,
      "outputs": []
    },
    {
      "cell_type": "code",
      "source": [
        "dataset = prepare_dataset(\"emotic.zip\")"
      ],
      "metadata": {
        "id": "yrUMPqui8AeE"
      },
      "execution_count": 62,
      "outputs": []
    },
    {
      "cell_type": "code",
      "source": [
        "trainset, remains = torch.utils.data.random_split(dataset, \n",
        "                                                  [int(0.7 * len(dataset)), len(dataset) - int(0.7 * len(dataset))],\n",
        "                                                  torch.Generator().manual_seed(RANDOM_STATE))"
      ],
      "metadata": {
        "id": "3Pa6z40aFUFP"
      },
      "execution_count": 63,
      "outputs": []
    },
    {
      "cell_type": "code",
      "source": [
        "valset, testset = torch.utils.data.random_split(remains, \n",
        "                                                [len(remains) // 2, len(remains) - len(remains) // 2],\n",
        "                                                torch.Generator().manual_seed(RANDOM_STATE))"
      ],
      "metadata": {
        "id": "YyX8xRGrJrWO"
      },
      "execution_count": 64,
      "outputs": []
    },
    {
      "cell_type": "markdown",
      "source": [
        "## Preparing Dataloaders"
      ],
      "metadata": {
        "id": "UXEhaVl7L4h7"
      }
    },
    {
      "cell_type": "code",
      "source": [
        "trainloader = torch.utils.data.DataLoader(trainset, BATCH_SIZE, shuffle=True, num_workers=torch.multiprocessing.cpu_count(), pin_memory=True, drop_last=True)\n",
        "valloader = torch.utils.data.DataLoader(valset, BATCH_SIZE, shuffle=False, num_workers=torch.multiprocessing.cpu_count(), pin_memory=True, drop_last=True)\n",
        "testloader = torch.utils.data.DataLoader(testset, BATCH_SIZE, shuffle=False, num_workers=torch.multiprocessing.cpu_count(), pin_memory=True, drop_last=True)"
      ],
      "metadata": {
        "id": "-JqV_FBBJvCs"
      },
      "execution_count": 65,
      "outputs": []
    },
    {
      "cell_type": "markdown",
      "source": [
        "# Selecting optimal \"tail\" CNN (based on inference time)"
      ],
      "metadata": {
        "id": "0gHq3XcTPKan"
      }
    },
    {
      "cell_type": "code",
      "source": [
        "mobilenet = torchvision.models.mobilenet.mobilenet_v3_small(pretrained=True).to(DEVICE)"
      ],
      "metadata": {
        "colab": {
          "base_uri": "https://localhost:8080/",
          "height": 66,
          "referenced_widgets": [
            "db6d87ceb47e4d43bad6bac937259f23",
            "d04b8a8b9921495085105636affdec63",
            "37bf81812671491b9bb151236f5e8a2c",
            "1f46ad3996f448b090060c4dbd05aa4c",
            "c002192646e24479883dad4340404263",
            "046c9a82ab54456d8dd69e8d0284a940",
            "24e5e69d53244a858f8adf2a804a2911",
            "fe4aa0b4f91245328ffab2155c11d3ee",
            "f9accaf15e1b4318b3ed1ecc5b0c8e67",
            "8676162cfc6c4ea7b7b274937349a170",
            "08a3f86bcb8d496986d38ec626533e2d"
          ]
        },
        "id": "pk8dKOGEMIr9",
        "outputId": "c8dc5e59-3575-430d-b2fa-b704b8dd9978"
      },
      "execution_count": 17,
      "outputs": [
        {
          "output_type": "stream",
          "name": "stderr",
          "text": [
            "Downloading: \"https://download.pytorch.org/models/mobilenet_v3_small-047dcff4.pth\" to /root/.cache/torch/hub/checkpoints/mobilenet_v3_small-047dcff4.pth\n"
          ]
        },
        {
          "output_type": "display_data",
          "data": {
            "text/plain": [
              "  0%|          | 0.00/9.83M [00:00<?, ?B/s]"
            ],
            "application/vnd.jupyter.widget-view+json": {
              "version_major": 2,
              "version_minor": 0,
              "model_id": "db6d87ceb47e4d43bad6bac937259f23"
            }
          },
          "metadata": {}
        }
      ]
    },
    {
      "cell_type": "code",
      "source": [
        "torchinfo.summary(mobilenet, (BATCH_SIZE, 3, CONTEXT_IMAGE_SIZE, CONTEXT_IMAGE_SIZE))"
      ],
      "metadata": {
        "colab": {
          "base_uri": "https://localhost:8080/"
        },
        "id": "e3x8Ev1_MIqf",
        "outputId": "c8b79ec0-3021-4215-fe20-fdd4e544273a"
      },
      "execution_count": 18,
      "outputs": [
        {
          "output_type": "execute_result",
          "data": {
            "text/plain": [
              "====================================================================================================\n",
              "Layer (type:depth-idx)                             Output Shape              Param #\n",
              "====================================================================================================\n",
              "MobileNetV3                                        --                        --\n",
              "├─Sequential: 1-1                                  [32, 576, 7, 7]           --\n",
              "│    └─ConvNormActivation: 2-1                     [32, 16, 112, 112]        --\n",
              "│    │    └─Conv2d: 3-1                            [32, 16, 112, 112]        432\n",
              "│    │    └─BatchNorm2d: 3-2                       [32, 16, 112, 112]        32\n",
              "│    │    └─Hardswish: 3-3                         [32, 16, 112, 112]        --\n",
              "│    └─InvertedResidual: 2-2                       [32, 16, 56, 56]          --\n",
              "│    │    └─Sequential: 3-4                        [32, 16, 56, 56]          744\n",
              "│    └─InvertedResidual: 2-3                       [32, 24, 28, 28]          --\n",
              "│    │    └─Sequential: 3-5                        [32, 24, 28, 28]          3,864\n",
              "│    └─InvertedResidual: 2-4                       [32, 24, 28, 28]          --\n",
              "│    │    └─Sequential: 3-6                        [32, 24, 28, 28]          5,416\n",
              "│    └─InvertedResidual: 2-5                       [32, 40, 14, 14]          --\n",
              "│    │    └─Sequential: 3-7                        [32, 40, 14, 14]          13,736\n",
              "│    └─InvertedResidual: 2-6                       [32, 40, 14, 14]          --\n",
              "│    │    └─Sequential: 3-8                        [32, 40, 14, 14]          57,264\n",
              "│    └─InvertedResidual: 2-7                       [32, 40, 14, 14]          --\n",
              "│    │    └─Sequential: 3-9                        [32, 40, 14, 14]          57,264\n",
              "│    └─InvertedResidual: 2-8                       [32, 48, 14, 14]          --\n",
              "│    │    └─Sequential: 3-10                       [32, 48, 14, 14]          21,968\n",
              "│    └─InvertedResidual: 2-9                       [32, 48, 14, 14]          --\n",
              "│    │    └─Sequential: 3-11                       [32, 48, 14, 14]          29,800\n",
              "│    └─InvertedResidual: 2-10                      [32, 96, 7, 7]            --\n",
              "│    │    └─Sequential: 3-12                       [32, 96, 7, 7]            91,848\n",
              "│    └─InvertedResidual: 2-11                      [32, 96, 7, 7]            --\n",
              "│    │    └─Sequential: 3-13                       [32, 96, 7, 7]            294,096\n",
              "│    └─InvertedResidual: 2-12                      [32, 96, 7, 7]            --\n",
              "│    │    └─Sequential: 3-14                       [32, 96, 7, 7]            294,096\n",
              "│    └─ConvNormActivation: 2-13                    [32, 576, 7, 7]           --\n",
              "│    │    └─Conv2d: 3-15                           [32, 576, 7, 7]           55,296\n",
              "│    │    └─BatchNorm2d: 3-16                      [32, 576, 7, 7]           1,152\n",
              "│    │    └─Hardswish: 3-17                        [32, 576, 7, 7]           --\n",
              "├─AdaptiveAvgPool2d: 1-2                           [32, 576, 1, 1]           --\n",
              "├─Sequential: 1-3                                  [32, 1000]                --\n",
              "│    └─Linear: 2-14                                [32, 1024]                590,848\n",
              "│    └─Hardswish: 2-15                             [32, 1024]                --\n",
              "│    └─Dropout: 2-16                               [32, 1024]                --\n",
              "│    └─Linear: 2-17                                [32, 1000]                1,025,000\n",
              "====================================================================================================\n",
              "Total params: 2,542,856\n",
              "Trainable params: 2,542,856\n",
              "Non-trainable params: 0\n",
              "Total mult-adds (G): 1.81\n",
              "====================================================================================================\n",
              "Input size (MB): 19.27\n",
              "Forward/backward pass size (MB): 724.59\n",
              "Params size (MB): 10.17\n",
              "Estimated Total Size (MB): 754.03\n",
              "===================================================================================================="
            ]
          },
          "metadata": {},
          "execution_count": 18
        }
      ]
    },
    {
      "cell_type": "code",
      "source": [
        "resnet18 = torchvision.models.resnet18(pretrained=True).to(DEVICE)"
      ],
      "metadata": {
        "colab": {
          "base_uri": "https://localhost:8080/",
          "height": 66,
          "referenced_widgets": [
            "91c9994339bf49949194df73bebc5d8a",
            "3d92069951c44345a5c57964aec05a1b",
            "9c9681f62132432b99875bfe21ec83b9",
            "506456743e3c4c4c9bdcfb67848d0dac",
            "43e6d00a46ac46a080a979039fec346b",
            "3445d9762acd4e7897563a5100817530",
            "85e9a2cc95f645c9a6bbb1f39a03cd05",
            "0399f2bca5ff479a806c0115ad3a2f22",
            "cef4fb0cdae444a5b422de2ca4a78192",
            "2c46898a57c34768b92cc086d5e4a2c5",
            "75e0fb21c64d462f82a4f9e15f881266"
          ]
        },
        "id": "nm265JTjM47F",
        "outputId": "6225fd6a-205f-4f58-d187-f4674b119578"
      },
      "execution_count": 19,
      "outputs": [
        {
          "output_type": "stream",
          "name": "stderr",
          "text": [
            "Downloading: \"https://download.pytorch.org/models/resnet18-f37072fd.pth\" to /root/.cache/torch/hub/checkpoints/resnet18-f37072fd.pth\n"
          ]
        },
        {
          "output_type": "display_data",
          "data": {
            "text/plain": [
              "  0%|          | 0.00/44.7M [00:00<?, ?B/s]"
            ],
            "application/vnd.jupyter.widget-view+json": {
              "version_major": 2,
              "version_minor": 0,
              "model_id": "91c9994339bf49949194df73bebc5d8a"
            }
          },
          "metadata": {}
        }
      ]
    },
    {
      "cell_type": "code",
      "source": [
        "torchinfo.summary(resnet18, (BATCH_SIZE, 3, CONTEXT_IMAGE_SIZE, CONTEXT_IMAGE_SIZE))"
      ],
      "metadata": {
        "colab": {
          "base_uri": "https://localhost:8080/"
        },
        "id": "rX8FlF47Nq4Y",
        "outputId": "6f9ed8ab-ebb9-4d56-ac15-1de1a3ff2f42"
      },
      "execution_count": 20,
      "outputs": [
        {
          "output_type": "execute_result",
          "data": {
            "text/plain": [
              "==========================================================================================\n",
              "Layer (type:depth-idx)                   Output Shape              Param #\n",
              "==========================================================================================\n",
              "ResNet                                   --                        --\n",
              "├─Conv2d: 1-1                            [32, 64, 112, 112]        9,408\n",
              "├─BatchNorm2d: 1-2                       [32, 64, 112, 112]        128\n",
              "├─ReLU: 1-3                              [32, 64, 112, 112]        --\n",
              "├─MaxPool2d: 1-4                         [32, 64, 56, 56]          --\n",
              "├─Sequential: 1-5                        [32, 64, 56, 56]          --\n",
              "│    └─BasicBlock: 2-1                   [32, 64, 56, 56]          --\n",
              "│    │    └─Conv2d: 3-1                  [32, 64, 56, 56]          36,864\n",
              "│    │    └─BatchNorm2d: 3-2             [32, 64, 56, 56]          128\n",
              "│    │    └─ReLU: 3-3                    [32, 64, 56, 56]          --\n",
              "│    │    └─Conv2d: 3-4                  [32, 64, 56, 56]          36,864\n",
              "│    │    └─BatchNorm2d: 3-5             [32, 64, 56, 56]          128\n",
              "│    │    └─ReLU: 3-6                    [32, 64, 56, 56]          --\n",
              "│    └─BasicBlock: 2-2                   [32, 64, 56, 56]          --\n",
              "│    │    └─Conv2d: 3-7                  [32, 64, 56, 56]          36,864\n",
              "│    │    └─BatchNorm2d: 3-8             [32, 64, 56, 56]          128\n",
              "│    │    └─ReLU: 3-9                    [32, 64, 56, 56]          --\n",
              "│    │    └─Conv2d: 3-10                 [32, 64, 56, 56]          36,864\n",
              "│    │    └─BatchNorm2d: 3-11            [32, 64, 56, 56]          128\n",
              "│    │    └─ReLU: 3-12                   [32, 64, 56, 56]          --\n",
              "├─Sequential: 1-6                        [32, 128, 28, 28]         --\n",
              "│    └─BasicBlock: 2-3                   [32, 128, 28, 28]         --\n",
              "│    │    └─Conv2d: 3-13                 [32, 128, 28, 28]         73,728\n",
              "│    │    └─BatchNorm2d: 3-14            [32, 128, 28, 28]         256\n",
              "│    │    └─ReLU: 3-15                   [32, 128, 28, 28]         --\n",
              "│    │    └─Conv2d: 3-16                 [32, 128, 28, 28]         147,456\n",
              "│    │    └─BatchNorm2d: 3-17            [32, 128, 28, 28]         256\n",
              "│    │    └─Sequential: 3-18             [32, 128, 28, 28]         8,448\n",
              "│    │    └─ReLU: 3-19                   [32, 128, 28, 28]         --\n",
              "│    └─BasicBlock: 2-4                   [32, 128, 28, 28]         --\n",
              "│    │    └─Conv2d: 3-20                 [32, 128, 28, 28]         147,456\n",
              "│    │    └─BatchNorm2d: 3-21            [32, 128, 28, 28]         256\n",
              "│    │    └─ReLU: 3-22                   [32, 128, 28, 28]         --\n",
              "│    │    └─Conv2d: 3-23                 [32, 128, 28, 28]         147,456\n",
              "│    │    └─BatchNorm2d: 3-24            [32, 128, 28, 28]         256\n",
              "│    │    └─ReLU: 3-25                   [32, 128, 28, 28]         --\n",
              "├─Sequential: 1-7                        [32, 256, 14, 14]         --\n",
              "│    └─BasicBlock: 2-5                   [32, 256, 14, 14]         --\n",
              "│    │    └─Conv2d: 3-26                 [32, 256, 14, 14]         294,912\n",
              "│    │    └─BatchNorm2d: 3-27            [32, 256, 14, 14]         512\n",
              "│    │    └─ReLU: 3-28                   [32, 256, 14, 14]         --\n",
              "│    │    └─Conv2d: 3-29                 [32, 256, 14, 14]         589,824\n",
              "│    │    └─BatchNorm2d: 3-30            [32, 256, 14, 14]         512\n",
              "│    │    └─Sequential: 3-31             [32, 256, 14, 14]         33,280\n",
              "│    │    └─ReLU: 3-32                   [32, 256, 14, 14]         --\n",
              "│    └─BasicBlock: 2-6                   [32, 256, 14, 14]         --\n",
              "│    │    └─Conv2d: 3-33                 [32, 256, 14, 14]         589,824\n",
              "│    │    └─BatchNorm2d: 3-34            [32, 256, 14, 14]         512\n",
              "│    │    └─ReLU: 3-35                   [32, 256, 14, 14]         --\n",
              "│    │    └─Conv2d: 3-36                 [32, 256, 14, 14]         589,824\n",
              "│    │    └─BatchNorm2d: 3-37            [32, 256, 14, 14]         512\n",
              "│    │    └─ReLU: 3-38                   [32, 256, 14, 14]         --\n",
              "├─Sequential: 1-8                        [32, 512, 7, 7]           --\n",
              "│    └─BasicBlock: 2-7                   [32, 512, 7, 7]           --\n",
              "│    │    └─Conv2d: 3-39                 [32, 512, 7, 7]           1,179,648\n",
              "│    │    └─BatchNorm2d: 3-40            [32, 512, 7, 7]           1,024\n",
              "│    │    └─ReLU: 3-41                   [32, 512, 7, 7]           --\n",
              "│    │    └─Conv2d: 3-42                 [32, 512, 7, 7]           2,359,296\n",
              "│    │    └─BatchNorm2d: 3-43            [32, 512, 7, 7]           1,024\n",
              "│    │    └─Sequential: 3-44             [32, 512, 7, 7]           132,096\n",
              "│    │    └─ReLU: 3-45                   [32, 512, 7, 7]           --\n",
              "│    └─BasicBlock: 2-8                   [32, 512, 7, 7]           --\n",
              "│    │    └─Conv2d: 3-46                 [32, 512, 7, 7]           2,359,296\n",
              "│    │    └─BatchNorm2d: 3-47            [32, 512, 7, 7]           1,024\n",
              "│    │    └─ReLU: 3-48                   [32, 512, 7, 7]           --\n",
              "│    │    └─Conv2d: 3-49                 [32, 512, 7, 7]           2,359,296\n",
              "│    │    └─BatchNorm2d: 3-50            [32, 512, 7, 7]           1,024\n",
              "│    │    └─ReLU: 3-51                   [32, 512, 7, 7]           --\n",
              "├─AdaptiveAvgPool2d: 1-9                 [32, 512, 1, 1]           --\n",
              "├─Linear: 1-10                           [32, 1000]                513,000\n",
              "==========================================================================================\n",
              "Total params: 11,689,512\n",
              "Trainable params: 11,689,512\n",
              "Non-trainable params: 0\n",
              "Total mult-adds (G): 58.05\n",
              "==========================================================================================\n",
              "Input size (MB): 19.27\n",
              "Forward/backward pass size (MB): 1271.92\n",
              "Params size (MB): 46.76\n",
              "Estimated Total Size (MB): 1337.94\n",
              "=========================================================================================="
            ]
          },
          "metadata": {},
          "execution_count": 20
        }
      ]
    },
    {
      "cell_type": "code",
      "source": [
        "#effnet = torchvision.models.efficientnet_v2_s(weights=torchvision.models.EfficientNet_V2_S_Weights.DEFAULT).to(DEVICE)"
      ],
      "metadata": {
        "id": "hAO3t80xQelq"
      },
      "execution_count": 21,
      "outputs": []
    },
    {
      "cell_type": "code",
      "source": [
        "#torchinfo.summary(effnet, (BATCH_SIZE, 3, CONTEXT_IMAGE_SIZE, CONTEXT_IMAGE_SIZE))"
      ],
      "metadata": {
        "id": "WiuQIgsqkkpa"
      },
      "execution_count": 22,
      "outputs": []
    },
    {
      "cell_type": "code",
      "source": [
        "def inference_time(model):\n",
        "    dummy_input = torch.randn(1, 3, CONTEXT_IMAGE_SIZE, CONTEXT_IMAGE_SIZE, dtype=torch.float).to(DEVICE)\n",
        "    start, end = torch.cuda.Event(enable_timing=True), torch.cuda.Event(enable_timing=True)\n",
        "    repetitions = 300\n",
        "    timings = np.zeros((repetitions, 1))\n",
        "    # GPU warmup\n",
        "    for _ in range(10):\n",
        "        _ = model(dummy_input)\n",
        "    # Performance measuring\n",
        "    with torch.no_grad():\n",
        "        for rep in range(repetitions):\n",
        "            start.record()\n",
        "            _ = model(dummy_input)\n",
        "            end.record()\n",
        "            torch.cuda.synchronize()\n",
        "            curr_time = start.elapsed_time(end)\n",
        "            timings[rep] = curr_time\n",
        "\n",
        "    mean_syn = np.sum(timings) / repetitions\n",
        "    std_syn = np.std(timings)\n",
        "    return mean_syn, std_syn"
      ],
      "metadata": {
        "id": "1PRRr10zO_Qu"
      },
      "execution_count": 23,
      "outputs": []
    },
    {
      "cell_type": "code",
      "source": [
        "mean_syn_mobnet, std_syn_mobnet = inference_time(mobilenet)\n",
        "print(f\"Mean inference time for MobileNetV2 (with sync): {mean_syn_mobnet}, stddev: {std_syn_mobnet}\")\n",
        "mean_syn_resnet, std_syn_resnet = inference_time(resnet18)\n",
        "print(f\"Mean inference time for ResNet18 (with sync): {mean_syn_resnet}, stddev: {std_syn_resnet}\")"
      ],
      "metadata": {
        "id": "PEBMSUwbQF3s",
        "colab": {
          "base_uri": "https://localhost:8080/"
        },
        "outputId": "e8dc4b21-f03b-41e7-928f-9730984556d7"
      },
      "execution_count": 24,
      "outputs": [
        {
          "output_type": "stream",
          "name": "stdout",
          "text": [
            "Mean inference time for MobileNetV2 (with sync): 7.618223153750102, stddev: 0.8988441904731189\n",
            "Mean inference time for ResNet18 (with sync): 4.288938123385112, stddev: 0.5079671044774604\n"
          ]
        }
      ]
    },
    {
      "cell_type": "markdown",
      "source": [
        "*Will check out ResNet performance in pre-deployment test, if the model turns out to be too large, will switch to MobileNet*"
      ],
      "metadata": {
        "id": "qF9Y1qi-rhiS"
      }
    },
    {
      "cell_type": "markdown",
      "source": [
        "## Model architecture definition and preloading"
      ],
      "metadata": {
        "id": "qe3WjHu1sJvY"
      }
    },
    {
      "cell_type": "code",
      "source": [
        "def partialclass(cls, *args, **kwargs):\n",
        "    class NewCls(cls):\n",
        "        __init__ = functools.partialmethod(cls.__init__, *args, **kwargs)\n",
        "\n",
        "    return NewCls"
      ],
      "metadata": {
        "id": "U_pt5d_kXQmN"
      },
      "execution_count": 25,
      "outputs": []
    },
    {
      "cell_type": "code",
      "source": [
        "def download_file(url, dest):\n",
        "    with requests.get(url, stream=True) as r:\n",
        "        r.raise_for_status()\n",
        "        with open(dest, 'wb') as f:\n",
        "            for chunk in tqdm.tqdm(r.iter_content(chunk_size=8192), desc=\"Downloading\"):\n",
        "                #if chunk: \n",
        "                f.write(chunk)\n",
        "    return"
      ],
      "metadata": {
        "id": "ayuFrYSZEmuT"
      },
      "execution_count": 26,
      "outputs": []
    },
    {
      "cell_type": "code",
      "source": [
        "class EmoticNet(torch.nn.Module):\n",
        "    def __init__(self):\n",
        "        super().__init__()\n",
        "        self._load_body_tail()\n",
        "        self._load_context_tail()\n",
        "        self.fusion_block = torch.nn.Sequential(collections.OrderedDict([\n",
        "            (\"fusion_fc\", torch.nn.Linear(self.context_out_size+ self.body_out_size, 256)),\n",
        "            (\"fusion_batchnorm\", torch.nn.BatchNorm1d(256)),\n",
        "            (\"fusion_act\", torch.nn.ReLU(inplace=True)),\n",
        "            (\"fusion_dropout\", torch.nn.Dropout(p=0.5)),\n",
        "        ]))\n",
        "        self.emotion_dense = torch.nn.Linear(256, 26)\n",
        "        self.vad_dense = torch.nn.Linear(256, 3)\n",
        "\n",
        "    def _load_context_tail(self):\n",
        "        pickle.load = functools.partial(pickle.load, encoding=\"latin1\")\n",
        "        unpickler_orig = pickle.Unpickler\n",
        "        pickle.Unpickler = partialclass(pickle.Unpickler, encoding=\"latin1\")\n",
        "        checkpoint_file = pathlib.Path(torch.hub.get_dir()) / \"checkpoints\" / \"resnet18_places365.pth.tar\"\n",
        "        if not checkpoint_file.is_file():\n",
        "            download_file(\"http://places2.csail.mit.edu/models_places365/resnet18_places365.pth.tar\", checkpoint_file)\n",
        "        context_tail = torch.load(checkpoint_file, map_location=lambda storage, loc: storage, pickle_module=pickle)\n",
        "        torch.save(context_tail, pathlib.Path(torch.hub.get_dir()) / \"checkpoints\" / \"resnet.pth.tar\")\n",
        "        context_tail = torchvision.models.resnet18(num_classes=365)\n",
        "        checkpoint = torch.load(pathlib.Path(torch.hub.get_dir()) / \"checkpoints\" / \"resnet.pth.tar\", map_location=lambda storage, loc: storage)\n",
        "        state_dict = {str.replace(k, \"module.\", \"\"): v for k, v in checkpoint[\"state_dict\"].items()}\n",
        "        context_tail.load_state_dict(state_dict)\n",
        "        context_tail.eval()\n",
        "        self.context_out_size = list(context_tail.children())[-1].in_features\n",
        "        context_tail = torch.nn.Sequential(*(list(context_tail.children())[:-1]))\n",
        "        context_tail.add_module(\"flatten\", torch.nn.Flatten())\n",
        "        self.context_tail = context_tail\n",
        "        pickle.load = pickle.load.func\n",
        "        pickle.Unpickler = unpickler_orig\n",
        "\n",
        "    def _load_body_tail(self):\n",
        "        body_tail = torchvision.models.resnet18(pretrained=True)\n",
        "        body_tail = body_tail.cpu()\n",
        "        self.body_out_size = list(body_tail.children())[-1].in_features\n",
        "        body_tail = torch.nn.Sequential(*(list(body_tail.children())[:-1]))\n",
        "        body_tail.add_module(\"flatten\", torch.nn.Flatten())\n",
        "        self.body_tail = body_tail\n",
        "\n",
        "    def _apply(self, fn):\n",
        "        # required to move tails to the same device as the fusion block and heads\n",
        "        super()._apply(fn)\n",
        "        self.context_tail._apply(fn)\n",
        "        self.body_tail._apply(fn)\n",
        "        return self\n",
        "\n",
        "    def forward(self, context, body):\n",
        "        features_context = self.context_tail(context)\n",
        "        features_body = self.body_tail(body)\n",
        "        fused = torch.cat((features_context, features_body), 1)\n",
        "        fused_out = self.fusion_block(fused)\n",
        "        emotions = self.emotion_dense(fused_out)\n",
        "        vad = self.vad_dense(fused_out)\n",
        "        return emotions, vad"
      ],
      "metadata": {
        "id": "4bAmaUZervtt"
      },
      "execution_count": 27,
      "outputs": []
    },
    {
      "cell_type": "code",
      "source": [
        "model = EmoticNet().to(DEVICE)"
      ],
      "metadata": {
        "colab": {
          "base_uri": "https://localhost:8080/",
          "height": 49,
          "referenced_widgets": [
            "b1409f9a788f4bbc927fc558c9b261a0",
            "06ac962e3be84a14bc068cc81e44a5ab",
            "a818ecc7a1854680aef742e56b51411a",
            "d57ecc98f7c04155a8ed56f2f50e3245",
            "a03cdfa468e04a168ee69bb5dc58ce32",
            "008c208f03234590a0957e84f0abd1bc",
            "d16f26962501465fa1d9e88a03a4cfca",
            "7f7d494c8dc0410487bb530df275060c",
            "9e194c5d4292435e82dac940c5ee5136",
            "9ab4aa308433433cb4883612f2c0b905",
            "77a5be4e7ab84a2fbca237358659a359"
          ]
        },
        "id": "_b85KrDZ9ZH_",
        "outputId": "55162842-1b8d-4faf-8c65-b75db31d48bb"
      },
      "execution_count": 28,
      "outputs": [
        {
          "output_type": "display_data",
          "data": {
            "text/plain": [
              "Downloading: 0it [00:00, ?it/s]"
            ],
            "application/vnd.jupyter.widget-view+json": {
              "version_major": 2,
              "version_minor": 0,
              "model_id": "b1409f9a788f4bbc927fc558c9b261a0"
            }
          },
          "metadata": {}
        }
      ]
    },
    {
      "cell_type": "code",
      "source": [
        "torchinfo.summary(model, ((BATCH_SIZE, 3, CONTEXT_IMAGE_SIZE, CONTEXT_IMAGE_SIZE), (BATCH_SIZE, 3, BODY_IMAGE_SIZE, BODY_IMAGE_SIZE)))"
      ],
      "metadata": {
        "colab": {
          "base_uri": "https://localhost:8080/"
        },
        "id": "bGDRGrgTWo2G",
        "outputId": "b8b8fe72-55f9-476b-adde-e504190e5aab"
      },
      "execution_count": 29,
      "outputs": [
        {
          "output_type": "execute_result",
          "data": {
            "text/plain": [
              "===============================================================================================\n",
              "Layer (type:depth-idx)                        Output Shape              Param #\n",
              "===============================================================================================\n",
              "EmoticNet                                     --                        --\n",
              "├─Sequential: 1-1                             [32, 512]                 --\n",
              "│    └─Conv2d: 2-1                            [32, 64, 112, 112]        9,408\n",
              "│    └─BatchNorm2d: 2-2                       [32, 64, 112, 112]        128\n",
              "│    └─ReLU: 2-3                              [32, 64, 112, 112]        --\n",
              "│    └─MaxPool2d: 2-4                         [32, 64, 56, 56]          --\n",
              "│    └─Sequential: 2-5                        [32, 64, 56, 56]          --\n",
              "│    │    └─BasicBlock: 3-1                   [32, 64, 56, 56]          73,984\n",
              "│    │    └─BasicBlock: 3-2                   [32, 64, 56, 56]          73,984\n",
              "│    └─Sequential: 2-6                        [32, 128, 28, 28]         --\n",
              "│    │    └─BasicBlock: 3-3                   [32, 128, 28, 28]         230,144\n",
              "│    │    └─BasicBlock: 3-4                   [32, 128, 28, 28]         295,424\n",
              "│    └─Sequential: 2-7                        [32, 256, 14, 14]         --\n",
              "│    │    └─BasicBlock: 3-5                   [32, 256, 14, 14]         919,040\n",
              "│    │    └─BasicBlock: 3-6                   [32, 256, 14, 14]         1,180,672\n",
              "│    └─Sequential: 2-8                        [32, 512, 7, 7]           --\n",
              "│    │    └─BasicBlock: 3-7                   [32, 512, 7, 7]           3,673,088\n",
              "│    │    └─BasicBlock: 3-8                   [32, 512, 7, 7]           4,720,640\n",
              "│    └─AdaptiveAvgPool2d: 2-9                 [32, 512, 1, 1]           --\n",
              "│    └─Flatten: 2-10                          [32, 512]                 --\n",
              "├─Sequential: 1-2                             [32, 512]                 --\n",
              "│    └─Conv2d: 2-11                           [32, 64, 64, 64]          9,408\n",
              "│    └─BatchNorm2d: 2-12                      [32, 64, 64, 64]          128\n",
              "│    └─ReLU: 2-13                             [32, 64, 64, 64]          --\n",
              "│    └─MaxPool2d: 2-14                        [32, 64, 32, 32]          --\n",
              "│    └─Sequential: 2-15                       [32, 64, 32, 32]          --\n",
              "│    │    └─BasicBlock: 3-9                   [32, 64, 32, 32]          73,984\n",
              "│    │    └─BasicBlock: 3-10                  [32, 64, 32, 32]          73,984\n",
              "│    └─Sequential: 2-16                       [32, 128, 16, 16]         --\n",
              "│    │    └─BasicBlock: 3-11                  [32, 128, 16, 16]         230,144\n",
              "│    │    └─BasicBlock: 3-12                  [32, 128, 16, 16]         295,424\n",
              "│    └─Sequential: 2-17                       [32, 256, 8, 8]           --\n",
              "│    │    └─BasicBlock: 3-13                  [32, 256, 8, 8]           919,040\n",
              "│    │    └─BasicBlock: 3-14                  [32, 256, 8, 8]           1,180,672\n",
              "│    └─Sequential: 2-18                       [32, 512, 4, 4]           --\n",
              "│    │    └─BasicBlock: 3-15                  [32, 512, 4, 4]           3,673,088\n",
              "│    │    └─BasicBlock: 3-16                  [32, 512, 4, 4]           4,720,640\n",
              "│    └─AdaptiveAvgPool2d: 2-19                [32, 512, 1, 1]           --\n",
              "│    └─Flatten: 2-20                          [32, 512]                 --\n",
              "├─Sequential: 1-3                             [32, 256]                 --\n",
              "│    └─Linear: 2-21                           [32, 256]                 262,400\n",
              "│    └─BatchNorm1d: 2-22                      [32, 256]                 512\n",
              "│    └─ReLU: 2-23                             [32, 256]                 --\n",
              "│    └─Dropout: 2-24                          [32, 256]                 --\n",
              "├─Linear: 1-4                                 [32, 26]                  6,682\n",
              "├─Linear: 1-5                                 [32, 3]                   771\n",
              "===============================================================================================\n",
              "Total params: 22,623,389\n",
              "Trainable params: 22,623,389\n",
              "Non-trainable params: 0\n",
              "Total mult-adds (G): 76.99\n",
              "===============================================================================================\n",
              "Input size (MB): 25.56\n",
              "Forward/backward pass size (MB): 1687.04\n",
              "Params size (MB): 90.49\n",
              "Estimated Total Size (MB): 1803.09\n",
              "==============================================================================================="
            ]
          },
          "metadata": {},
          "execution_count": 29
        }
      ]
    },
    {
      "cell_type": "markdown",
      "source": [
        "## Loss definition"
      ],
      "metadata": {
        "id": "uT64MRafiXsM"
      }
    },
    {
      "cell_type": "code",
      "source": [
        "class EmoticLoss(torch.nn.Module):\n",
        "    def __init__(self, weight_type=\"mean\", margin=1, ratio=0.5, shift=1.2, smooth=1e-4, vad_loss_type=\"sl1\", device=torch.device(\"cpu\")):\n",
        "        super().__init__()\n",
        "        self.weight_type = weight_type\n",
        "        self.margin = margin\n",
        "        self.ratio = ratio\n",
        "        self.shift = shift\n",
        "        self.smooth = smooth\n",
        "        self.device = device\n",
        "        self.vad_loss_type = vad_loss_type\n",
        "        if self.weight_type == \"mean\":\n",
        "            self.weights = torch.ones((1, 26)) / 26.0\n",
        "            self.weights.to(self.device)\n",
        "        elif self.weight_type == \"static\":\n",
        "            self.weights = torch.FloatTensor([0.1435, 0.1870, 0.1692, 0.1165, 0.1949, 0.1204, 0.1728, 0.1372, 0.1620,\n",
        "                                              0.1540, 0.1987, 0.1057, 0.1482, 0.1192, 0.1590, 0.1929, 0.1158, 0.1907,\n",
        "                                              0.1345, 0.1307, 0.1665, 0.1698, 0.1797, 0.1657, 0.1520, 0.1537]).unsqueeze(0)\n",
        "            self.weights.to(self.device)\n",
        "\n",
        "    def _create_dynamic_weights(self, target):\n",
        "        target_stats = torch.sum(target, dim=0).float().unsqueeze(dim=0).cpu()\n",
        "        weights = torch.zeros((1, 26))\n",
        "        weights[target_stats != 0] = 1.0 / torch.log(target_stats[target_stats != 0].data + self.shift)\n",
        "        weights[target_stats == 0] = self.smooth\n",
        "        return weights\n",
        "\n",
        "    def _emotions_loss(self, pred, target):\n",
        "        if self.weight_type == \"dynamic\":\n",
        "            self.weights = self._create_dynamic_weights(target)\n",
        "        return (((pred - target) ** 2) * self.weights).sum()\n",
        "\n",
        "    def _vad_loss_sl1(self, pred, target):\n",
        "        mae = torch.abs(pred - target)\n",
        "        loss = 0.5 * (mae ** 2)\n",
        "        loss[(mae > self.margin)] = mae[(mae > self.margin)] - 0.5\n",
        "        return loss.sum()\n",
        "\n",
        "    def _vad_loss_l2(self, pred, target):\n",
        "        mae = torch.abs(pred - target)\n",
        "        loss = mae ** 2\n",
        "        loss[(mae < self.margin)] = 0.0\n",
        "        return loss.sum()\n",
        "\n",
        "    \n",
        "    def forward(self, pred_emotions, target_emotions, pred_vad, target_vad):\n",
        "        emotions_loss = self._emotions_loss(pred_emotions, target_emotions)\n",
        "        if self.vad_loss_type == \"sl1\":\n",
        "            vad_loss = self._vad_loss_sl1(pred_vad, target_vad)\n",
        "        else:\n",
        "            vad_loss = self._vad_loss_l2(pred_vad, target_vad)\n",
        "        return emotions_loss * self.ratio + vad_loss * (1 - self.ratio)"
      ],
      "metadata": {
        "id": "vwuNOPjviW8s"
      },
      "execution_count": 30,
      "outputs": []
    },
    {
      "cell_type": "markdown",
      "source": [
        "## Training loop"
      ],
      "metadata": {
        "id": "ki11f8zgnSvw"
      }
    },
    {
      "cell_type": "code",
      "source": [
        "def fit_epoch(model, loader, optimizer, criterion, epoch, epochs, device=DEVICE):\n",
        "    losses = []\n",
        "    model.train()\n",
        "    for context, body, emotions, vad_scores, _ in tqdm.tqdm(loader, desc=f\"Training, epoch {epoch + 1} / {epochs}\", unit=\"batches\", unit_scale=False):\n",
        "        try:\n",
        "            context, body, emotions, vad_scores = context.to(device), body.to(device), emotions.to(device), vad_scores.to(device)\n",
        "            optimizer.zero_grad()\n",
        "            pred_emotions, pred_vad = model(context, body)\n",
        "            loss = criterion(pred_emotions, emotions, pred_vad * 10, vad_scores * 10, device=device)\n",
        "            loss.backward()\n",
        "            losses.append(loss.item())\n",
        "            optimizer.step()\n",
        "            pred_emotions, pred_vad = pred_emotions.cpu(), pred_vad.cpu()\n",
        "            del pred_emotions, pred_vad\n",
        "        finally:\n",
        "            context, body, emotions, vad_scores = context.cpu(), body.cpu(), emotions.cpu(), vad_scores.cpu()\n",
        "            del context, body, emotions, vad_scores\n",
        "    return np.mean(losses)\n",
        "\n",
        "def eval_epoch(model, loader, criterion, epoch, epochs, device=DEVICE):\n",
        "    losses = []\n",
        "    scores = []\n",
        "    model.eval()\n",
        "    for context, body, emotions, vad_scores, _ in tqdm.tqdm(loader, desc=f\"Validating, epoch {epoch + 1} / {epochs}\", unit=\"batches\", unit_scale=False):\n",
        "        try:\n",
        "            context, body, emotions, vad_scores = context.to(device), body.to(device), emotions.to(device), vad_scores.to(device)\n",
        "            with torch.no_grad():\n",
        "                pred_emotions, pred_vad = model(context, body)\n",
        "                loss = criterion(pred_emotions, emotions, pred_vad * 10, vad_scores * 10, device=device)\n",
        "            losses.append(loss.item())\n",
        "            pred_emotions, pred_vad = pred_emotions.cpu(), pred_vad.cpu()\n",
        "            scores.append([sklearn.metrics.jaccard_score(emotions.detach().numpy(), pred_emotions.detach().numpy()), \n",
        "                           sklearn.metrics.jaccard_score(vad_scores.detach().numpy(), pred_vad.detach().numpy())\n",
        "            ])\n",
        "            del pred_emotions, pred_vad\n",
        "        finally:\n",
        "            context, body, emotions, vad_scores = context.cpu(), body.cpu(), emotions.cpu(), vad_scores.cpu()\n",
        "            del context, body, emotions, vad_scores\n",
        "    return np.mean(losses), np.mean(np.array(scores), axis=1)\n",
        "\n",
        "def fit(model, train_loader, val_loader, optimizer, criterion, epochs, scheduler=None, device=DEVICE, start_epoch=0):\n",
        "    history = []\n",
        "    start_time = time.time()\n",
        "    with tqdm.tqdm(desc=\"Epoch\", total=epochs, unit=\"epoch\", unit_scale=False) as pbar:\n",
        "        for epoch in range(start_epoch, epochs):\n",
        "            try:\n",
        "                train_loss = fit_epoch(model, train_loader, optimizer, criterion, epoch, epochs, device)\n",
        "                val_loss, scores = eval_epoch(model, val_loader, optimizer, criterion, epoch, epochs, device)\n",
        "                IPython.display.clear_output(wait=True)\n",
        "\n",
        "                history.append((train_loss, val_loss, scores, optimizer.param_groups[0][\"lr\"]))\n",
        "\n",
        "                if scheduler is not None:\n",
        "                    scheduler.step(val_loss)\n",
        "\n",
        "                show_train_pics(model, epoch, history[-1])\n",
        "\n",
        "                pbar.update(1)\n",
        "                pbar.refresh()\n",
        "\n",
        "            except KeyboardInterrupt as stop:\n",
        "                tqdm.tqdm.write(f\"Training interrupted at epoch {epoch + 1}, returning history\")\n",
        "                return history\n",
        "\n",
        "    end_time = time.time()\n",
        "    train_time = end_time - start_time\n",
        "    tqdm.tqdm.write(f\"Training time: {train_time: 0.1f}\")\n",
        "\n",
        "    return history\n",
        "\n",
        "def denormalize_images(images, norm_params):\n",
        "    return images * norm_params[\"std\"] + norm_params[\"mean\"]\n",
        "\n",
        "def show_train_pics(model, val_loader, epoch, epoch_stats, sample_size=4):\n",
        "    header = \"Validation results on epoch {ep: 03d}\\n\\\n",
        "    Train loss: {t_loss: 0.4d}, validation loss: {v_loss: 0.4d}, Jaccard score: {j_score: 0.4d}\"\n",
        "    contexts, bodies, _, _, bboxes = next(iter(val_loader))\n",
        "    original_contexts, original_bodies = denormalize_images(contexts.permute(0, 2, 3, 1).cpu(), CONTEXT_NORM), denormalize_images(bodies.permute(0, 2, 3, 1).cpu(), BODY_NORM)\n",
        "    for i in range(sample_size):\n",
        "        plt.subplot(3, sample_size, i + 1)\n",
        "        plt.imshow(original_contexts[i].squeeze().numpy())\n",
        "        plt.title(\"Scene\")\n",
        "        plt.axis(\"off\")\n",
        "#    for i in b"
      ],
      "metadata": {
        "id": "INVh8UDgjTDl"
      },
      "execution_count": 74,
      "outputs": []
    },
    {
      "cell_type": "code",
      "source": [
        ""
      ],
      "metadata": {
        "id": "FfKvwevw4dZG"
      },
      "execution_count": null,
      "outputs": []
    }
  ]
}